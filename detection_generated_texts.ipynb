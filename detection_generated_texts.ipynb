{
  "nbformat": 4,
  "nbformat_minor": 0,
  "metadata": {
    "accelerator": "GPU",
    "colab": {
      "name": "ВКР (Русский)",
      "provenance": [],
      "toc_visible": true,
      "include_colab_link": true
    },
    "kernelspec": {
      "display_name": "Python 3",
      "language": "python",
      "name": "python3"
    },
    "language_info": {
      "codemirror_mode": {
        "name": "ipython",
        "version": 3
      },
      "file_extension": ".py",
      "mimetype": "text/x-python",
      "name": "python",
      "nbconvert_exporter": "python",
      "pygments_lexer": "ipython3",
      "version": "3.8.5"
    },
    "widgets": {
      "application/vnd.jupyter.widget-state+json": {
        "8d7fbbdc1c2c4eb49fbef26be2859363": {
          "model_module": "@jupyter-widgets/controls",
          "model_name": "HBoxModel",
          "state": {
            "_view_name": "HBoxView",
            "_dom_classes": [],
            "_model_name": "HBoxModel",
            "_view_module": "@jupyter-widgets/controls",
            "_model_module_version": "1.5.0",
            "_view_count": null,
            "_view_module_version": "1.5.0",
            "box_style": "",
            "layout": "IPY_MODEL_a1d63bdd9e8140b3a0b8c81128751261",
            "_model_module": "@jupyter-widgets/controls",
            "children": [
              "IPY_MODEL_cbdaaebe3e6349ad90189b909bc2deed",
              "IPY_MODEL_010366f8477d4659a784afbd4bb8a96b",
              "IPY_MODEL_e19ddf28390f43279844591a4a2c2b08"
            ]
          }
        },
        "a1d63bdd9e8140b3a0b8c81128751261": {
          "model_module": "@jupyter-widgets/base",
          "model_name": "LayoutModel",
          "state": {
            "_view_name": "LayoutView",
            "grid_template_rows": null,
            "right": null,
            "justify_content": null,
            "_view_module": "@jupyter-widgets/base",
            "overflow": null,
            "_model_module_version": "1.2.0",
            "_view_count": null,
            "flex_flow": null,
            "width": null,
            "min_width": null,
            "border": null,
            "align_items": null,
            "bottom": null,
            "_model_module": "@jupyter-widgets/base",
            "top": null,
            "grid_column": null,
            "overflow_y": null,
            "overflow_x": null,
            "grid_auto_flow": null,
            "grid_area": null,
            "grid_template_columns": null,
            "flex": null,
            "_model_name": "LayoutModel",
            "justify_items": null,
            "grid_row": null,
            "max_height": null,
            "align_content": null,
            "visibility": null,
            "align_self": null,
            "height": null,
            "min_height": null,
            "padding": null,
            "grid_auto_rows": null,
            "grid_gap": null,
            "max_width": null,
            "order": null,
            "_view_module_version": "1.2.0",
            "grid_template_areas": null,
            "object_position": null,
            "object_fit": null,
            "grid_auto_columns": null,
            "margin": null,
            "display": null,
            "left": null
          }
        },
        "cbdaaebe3e6349ad90189b909bc2deed": {
          "model_module": "@jupyter-widgets/controls",
          "model_name": "HTMLModel",
          "state": {
            "_view_name": "HTMLView",
            "style": "IPY_MODEL_e85a4231a7c94fe79772eec17b23c69c",
            "_dom_classes": [],
            "description": "",
            "_model_name": "HTMLModel",
            "placeholder": "​",
            "_view_module": "@jupyter-widgets/controls",
            "_model_module_version": "1.5.0",
            "value": "  0%",
            "_view_count": null,
            "_view_module_version": "1.5.0",
            "description_tooltip": null,
            "_model_module": "@jupyter-widgets/controls",
            "layout": "IPY_MODEL_985211d2d91b48779e9354d2a33cdd34"
          }
        },
        "010366f8477d4659a784afbd4bb8a96b": {
          "model_module": "@jupyter-widgets/controls",
          "model_name": "FloatProgressModel",
          "state": {
            "_view_name": "ProgressView",
            "style": "IPY_MODEL_ab59fa2ae18d4b0a92ee1956650812d0",
            "_dom_classes": [],
            "description": "",
            "_model_name": "FloatProgressModel",
            "bar_style": "danger",
            "max": 2800,
            "_view_module": "@jupyter-widgets/controls",
            "_model_module_version": "1.5.0",
            "value": 6,
            "_view_count": null,
            "_view_module_version": "1.5.0",
            "orientation": "horizontal",
            "min": 0,
            "description_tooltip": null,
            "_model_module": "@jupyter-widgets/controls",
            "layout": "IPY_MODEL_a36c9a8c849543afbac65a0caaf0f7c1"
          }
        },
        "e19ddf28390f43279844591a4a2c2b08": {
          "model_module": "@jupyter-widgets/controls",
          "model_name": "HTMLModel",
          "state": {
            "_view_name": "HTMLView",
            "style": "IPY_MODEL_0e40e7ede3ea4f7684ade1ca05db1658",
            "_dom_classes": [],
            "description": "",
            "_model_name": "HTMLModel",
            "placeholder": "​",
            "_view_module": "@jupyter-widgets/controls",
            "_model_module_version": "1.5.0",
            "value": " 6/2800 [00:01&lt;14:37,  3.18it/s]",
            "_view_count": null,
            "_view_module_version": "1.5.0",
            "description_tooltip": null,
            "_model_module": "@jupyter-widgets/controls",
            "layout": "IPY_MODEL_365be775894c44f7b3f90f1411f1fa6d"
          }
        },
        "e85a4231a7c94fe79772eec17b23c69c": {
          "model_module": "@jupyter-widgets/controls",
          "model_name": "DescriptionStyleModel",
          "state": {
            "_view_name": "StyleView",
            "_model_name": "DescriptionStyleModel",
            "description_width": "",
            "_view_module": "@jupyter-widgets/base",
            "_model_module_version": "1.5.0",
            "_view_count": null,
            "_view_module_version": "1.2.0",
            "_model_module": "@jupyter-widgets/controls"
          }
        },
        "985211d2d91b48779e9354d2a33cdd34": {
          "model_module": "@jupyter-widgets/base",
          "model_name": "LayoutModel",
          "state": {
            "_view_name": "LayoutView",
            "grid_template_rows": null,
            "right": null,
            "justify_content": null,
            "_view_module": "@jupyter-widgets/base",
            "overflow": null,
            "_model_module_version": "1.2.0",
            "_view_count": null,
            "flex_flow": null,
            "width": null,
            "min_width": null,
            "border": null,
            "align_items": null,
            "bottom": null,
            "_model_module": "@jupyter-widgets/base",
            "top": null,
            "grid_column": null,
            "overflow_y": null,
            "overflow_x": null,
            "grid_auto_flow": null,
            "grid_area": null,
            "grid_template_columns": null,
            "flex": null,
            "_model_name": "LayoutModel",
            "justify_items": null,
            "grid_row": null,
            "max_height": null,
            "align_content": null,
            "visibility": null,
            "align_self": null,
            "height": null,
            "min_height": null,
            "padding": null,
            "grid_auto_rows": null,
            "grid_gap": null,
            "max_width": null,
            "order": null,
            "_view_module_version": "1.2.0",
            "grid_template_areas": null,
            "object_position": null,
            "object_fit": null,
            "grid_auto_columns": null,
            "margin": null,
            "display": null,
            "left": null
          }
        },
        "ab59fa2ae18d4b0a92ee1956650812d0": {
          "model_module": "@jupyter-widgets/controls",
          "model_name": "ProgressStyleModel",
          "state": {
            "_view_name": "StyleView",
            "_model_name": "ProgressStyleModel",
            "description_width": "",
            "_view_module": "@jupyter-widgets/base",
            "_model_module_version": "1.5.0",
            "_view_count": null,
            "_view_module_version": "1.2.0",
            "bar_color": null,
            "_model_module": "@jupyter-widgets/controls"
          }
        },
        "a36c9a8c849543afbac65a0caaf0f7c1": {
          "model_module": "@jupyter-widgets/base",
          "model_name": "LayoutModel",
          "state": {
            "_view_name": "LayoutView",
            "grid_template_rows": null,
            "right": null,
            "justify_content": null,
            "_view_module": "@jupyter-widgets/base",
            "overflow": null,
            "_model_module_version": "1.2.0",
            "_view_count": null,
            "flex_flow": null,
            "width": null,
            "min_width": null,
            "border": null,
            "align_items": null,
            "bottom": null,
            "_model_module": "@jupyter-widgets/base",
            "top": null,
            "grid_column": null,
            "overflow_y": null,
            "overflow_x": null,
            "grid_auto_flow": null,
            "grid_area": null,
            "grid_template_columns": null,
            "flex": null,
            "_model_name": "LayoutModel",
            "justify_items": null,
            "grid_row": null,
            "max_height": null,
            "align_content": null,
            "visibility": null,
            "align_self": null,
            "height": null,
            "min_height": null,
            "padding": null,
            "grid_auto_rows": null,
            "grid_gap": null,
            "max_width": null,
            "order": null,
            "_view_module_version": "1.2.0",
            "grid_template_areas": null,
            "object_position": null,
            "object_fit": null,
            "grid_auto_columns": null,
            "margin": null,
            "display": null,
            "left": null
          }
        },
        "0e40e7ede3ea4f7684ade1ca05db1658": {
          "model_module": "@jupyter-widgets/controls",
          "model_name": "DescriptionStyleModel",
          "state": {
            "_view_name": "StyleView",
            "_model_name": "DescriptionStyleModel",
            "description_width": "",
            "_view_module": "@jupyter-widgets/base",
            "_model_module_version": "1.5.0",
            "_view_count": null,
            "_view_module_version": "1.2.0",
            "_model_module": "@jupyter-widgets/controls"
          }
        },
        "365be775894c44f7b3f90f1411f1fa6d": {
          "model_module": "@jupyter-widgets/base",
          "model_name": "LayoutModel",
          "state": {
            "_view_name": "LayoutView",
            "grid_template_rows": null,
            "right": null,
            "justify_content": null,
            "_view_module": "@jupyter-widgets/base",
            "overflow": null,
            "_model_module_version": "1.2.0",
            "_view_count": null,
            "flex_flow": null,
            "width": null,
            "min_width": null,
            "border": null,
            "align_items": null,
            "bottom": null,
            "_model_module": "@jupyter-widgets/base",
            "top": null,
            "grid_column": null,
            "overflow_y": null,
            "overflow_x": null,
            "grid_auto_flow": null,
            "grid_area": null,
            "grid_template_columns": null,
            "flex": null,
            "_model_name": "LayoutModel",
            "justify_items": null,
            "grid_row": null,
            "max_height": null,
            "align_content": null,
            "visibility": null,
            "align_self": null,
            "height": null,
            "min_height": null,
            "padding": null,
            "grid_auto_rows": null,
            "grid_gap": null,
            "max_width": null,
            "order": null,
            "_view_module_version": "1.2.0",
            "grid_template_areas": null,
            "object_position": null,
            "object_fit": null,
            "grid_auto_columns": null,
            "margin": null,
            "display": null,
            "left": null
          }
        },
        "2fd5ba85f869422bbd6dc94fdbda342d": {
          "model_module": "@jupyter-widgets/controls",
          "model_name": "HBoxModel",
          "state": {
            "_view_name": "HBoxView",
            "_dom_classes": [],
            "_model_name": "HBoxModel",
            "_view_module": "@jupyter-widgets/controls",
            "_model_module_version": "1.5.0",
            "_view_count": null,
            "_view_module_version": "1.5.0",
            "box_style": "",
            "layout": "IPY_MODEL_d177bb4a5d834af29d37a45b40a36d5c",
            "_model_module": "@jupyter-widgets/controls",
            "children": [
              "IPY_MODEL_6197e9ea909e4bebb80e268a24244bb2",
              "IPY_MODEL_9295fd274c3641a683ebfea201e8c6ea",
              "IPY_MODEL_efd69668e979483c8bdda600d5718fef"
            ]
          }
        },
        "d177bb4a5d834af29d37a45b40a36d5c": {
          "model_module": "@jupyter-widgets/base",
          "model_name": "LayoutModel",
          "state": {
            "_view_name": "LayoutView",
            "grid_template_rows": null,
            "right": null,
            "justify_content": null,
            "_view_module": "@jupyter-widgets/base",
            "overflow": null,
            "_model_module_version": "1.2.0",
            "_view_count": null,
            "flex_flow": null,
            "width": null,
            "min_width": null,
            "border": null,
            "align_items": null,
            "bottom": null,
            "_model_module": "@jupyter-widgets/base",
            "top": null,
            "grid_column": null,
            "overflow_y": null,
            "overflow_x": null,
            "grid_auto_flow": null,
            "grid_area": null,
            "grid_template_columns": null,
            "flex": null,
            "_model_name": "LayoutModel",
            "justify_items": null,
            "grid_row": null,
            "max_height": null,
            "align_content": null,
            "visibility": null,
            "align_self": null,
            "height": null,
            "min_height": null,
            "padding": null,
            "grid_auto_rows": null,
            "grid_gap": null,
            "max_width": null,
            "order": null,
            "_view_module_version": "1.2.0",
            "grid_template_areas": null,
            "object_position": null,
            "object_fit": null,
            "grid_auto_columns": null,
            "margin": null,
            "display": null,
            "left": null
          }
        },
        "6197e9ea909e4bebb80e268a24244bb2": {
          "model_module": "@jupyter-widgets/controls",
          "model_name": "HTMLModel",
          "state": {
            "_view_name": "HTMLView",
            "style": "IPY_MODEL_a8fa567a8edf412d9df4761daba03476",
            "_dom_classes": [],
            "description": "",
            "_model_name": "HTMLModel",
            "placeholder": "​",
            "_view_module": "@jupyter-widgets/controls",
            "_model_module_version": "1.5.0",
            "value": "Epoch 4 of 4: 100%",
            "_view_count": null,
            "_view_module_version": "1.5.0",
            "description_tooltip": null,
            "_model_module": "@jupyter-widgets/controls",
            "layout": "IPY_MODEL_7cc7177edfae47a9b29a99461ab019f6"
          }
        },
        "9295fd274c3641a683ebfea201e8c6ea": {
          "model_module": "@jupyter-widgets/controls",
          "model_name": "FloatProgressModel",
          "state": {
            "_view_name": "ProgressView",
            "style": "IPY_MODEL_c7de59fb2b2c4bb39a789308bc0e6148",
            "_dom_classes": [],
            "description": "",
            "_model_name": "FloatProgressModel",
            "bar_style": "success",
            "max": 4,
            "_view_module": "@jupyter-widgets/controls",
            "_model_module_version": "1.5.0",
            "value": 4,
            "_view_count": null,
            "_view_module_version": "1.5.0",
            "orientation": "horizontal",
            "min": 0,
            "description_tooltip": null,
            "_model_module": "@jupyter-widgets/controls",
            "layout": "IPY_MODEL_4f4e9551ece34e3182ecf0317ca48b79"
          }
        },
        "efd69668e979483c8bdda600d5718fef": {
          "model_module": "@jupyter-widgets/controls",
          "model_name": "HTMLModel",
          "state": {
            "_view_name": "HTMLView",
            "style": "IPY_MODEL_209ce8c8c84044d7aecfb05ffc2476ce",
            "_dom_classes": [],
            "description": "",
            "_model_name": "HTMLModel",
            "placeholder": "​",
            "_view_module": "@jupyter-widgets/controls",
            "_model_module_version": "1.5.0",
            "value": " 4/4 [03:53&lt;00:00, 52.92s/it]",
            "_view_count": null,
            "_view_module_version": "1.5.0",
            "description_tooltip": null,
            "_model_module": "@jupyter-widgets/controls",
            "layout": "IPY_MODEL_52d6a597053044f98fc7d8ec8695e799"
          }
        },
        "a8fa567a8edf412d9df4761daba03476": {
          "model_module": "@jupyter-widgets/controls",
          "model_name": "DescriptionStyleModel",
          "state": {
            "_view_name": "StyleView",
            "_model_name": "DescriptionStyleModel",
            "description_width": "",
            "_view_module": "@jupyter-widgets/base",
            "_model_module_version": "1.5.0",
            "_view_count": null,
            "_view_module_version": "1.2.0",
            "_model_module": "@jupyter-widgets/controls"
          }
        },
        "7cc7177edfae47a9b29a99461ab019f6": {
          "model_module": "@jupyter-widgets/base",
          "model_name": "LayoutModel",
          "state": {
            "_view_name": "LayoutView",
            "grid_template_rows": null,
            "right": null,
            "justify_content": null,
            "_view_module": "@jupyter-widgets/base",
            "overflow": null,
            "_model_module_version": "1.2.0",
            "_view_count": null,
            "flex_flow": null,
            "width": null,
            "min_width": null,
            "border": null,
            "align_items": null,
            "bottom": null,
            "_model_module": "@jupyter-widgets/base",
            "top": null,
            "grid_column": null,
            "overflow_y": null,
            "overflow_x": null,
            "grid_auto_flow": null,
            "grid_area": null,
            "grid_template_columns": null,
            "flex": null,
            "_model_name": "LayoutModel",
            "justify_items": null,
            "grid_row": null,
            "max_height": null,
            "align_content": null,
            "visibility": null,
            "align_self": null,
            "height": null,
            "min_height": null,
            "padding": null,
            "grid_auto_rows": null,
            "grid_gap": null,
            "max_width": null,
            "order": null,
            "_view_module_version": "1.2.0",
            "grid_template_areas": null,
            "object_position": null,
            "object_fit": null,
            "grid_auto_columns": null,
            "margin": null,
            "display": null,
            "left": null
          }
        },
        "c7de59fb2b2c4bb39a789308bc0e6148": {
          "model_module": "@jupyter-widgets/controls",
          "model_name": "ProgressStyleModel",
          "state": {
            "_view_name": "StyleView",
            "_model_name": "ProgressStyleModel",
            "description_width": "",
            "_view_module": "@jupyter-widgets/base",
            "_model_module_version": "1.5.0",
            "_view_count": null,
            "_view_module_version": "1.2.0",
            "bar_color": null,
            "_model_module": "@jupyter-widgets/controls"
          }
        },
        "4f4e9551ece34e3182ecf0317ca48b79": {
          "model_module": "@jupyter-widgets/base",
          "model_name": "LayoutModel",
          "state": {
            "_view_name": "LayoutView",
            "grid_template_rows": null,
            "right": null,
            "justify_content": null,
            "_view_module": "@jupyter-widgets/base",
            "overflow": null,
            "_model_module_version": "1.2.0",
            "_view_count": null,
            "flex_flow": null,
            "width": null,
            "min_width": null,
            "border": null,
            "align_items": null,
            "bottom": null,
            "_model_module": "@jupyter-widgets/base",
            "top": null,
            "grid_column": null,
            "overflow_y": null,
            "overflow_x": null,
            "grid_auto_flow": null,
            "grid_area": null,
            "grid_template_columns": null,
            "flex": null,
            "_model_name": "LayoutModel",
            "justify_items": null,
            "grid_row": null,
            "max_height": null,
            "align_content": null,
            "visibility": null,
            "align_self": null,
            "height": null,
            "min_height": null,
            "padding": null,
            "grid_auto_rows": null,
            "grid_gap": null,
            "max_width": null,
            "order": null,
            "_view_module_version": "1.2.0",
            "grid_template_areas": null,
            "object_position": null,
            "object_fit": null,
            "grid_auto_columns": null,
            "margin": null,
            "display": null,
            "left": null
          }
        },
        "209ce8c8c84044d7aecfb05ffc2476ce": {
          "model_module": "@jupyter-widgets/controls",
          "model_name": "DescriptionStyleModel",
          "state": {
            "_view_name": "StyleView",
            "_model_name": "DescriptionStyleModel",
            "description_width": "",
            "_view_module": "@jupyter-widgets/base",
            "_model_module_version": "1.5.0",
            "_view_count": null,
            "_view_module_version": "1.2.0",
            "_model_module": "@jupyter-widgets/controls"
          }
        },
        "52d6a597053044f98fc7d8ec8695e799": {
          "model_module": "@jupyter-widgets/base",
          "model_name": "LayoutModel",
          "state": {
            "_view_name": "LayoutView",
            "grid_template_rows": null,
            "right": null,
            "justify_content": null,
            "_view_module": "@jupyter-widgets/base",
            "overflow": null,
            "_model_module_version": "1.2.0",
            "_view_count": null,
            "flex_flow": null,
            "width": null,
            "min_width": null,
            "border": null,
            "align_items": null,
            "bottom": null,
            "_model_module": "@jupyter-widgets/base",
            "top": null,
            "grid_column": null,
            "overflow_y": null,
            "overflow_x": null,
            "grid_auto_flow": null,
            "grid_area": null,
            "grid_template_columns": null,
            "flex": null,
            "_model_name": "LayoutModel",
            "justify_items": null,
            "grid_row": null,
            "max_height": null,
            "align_content": null,
            "visibility": null,
            "align_self": null,
            "height": null,
            "min_height": null,
            "padding": null,
            "grid_auto_rows": null,
            "grid_gap": null,
            "max_width": null,
            "order": null,
            "_view_module_version": "1.2.0",
            "grid_template_areas": null,
            "object_position": null,
            "object_fit": null,
            "grid_auto_columns": null,
            "margin": null,
            "display": null,
            "left": null
          }
        },
        "cd7dac20404f4ab984469c0e64750202": {
          "model_module": "@jupyter-widgets/controls",
          "model_name": "HBoxModel",
          "state": {
            "_view_name": "HBoxView",
            "_dom_classes": [],
            "_model_name": "HBoxModel",
            "_view_module": "@jupyter-widgets/controls",
            "_model_module_version": "1.5.0",
            "_view_count": null,
            "_view_module_version": "1.5.0",
            "box_style": "",
            "layout": "IPY_MODEL_212631f5300142b9884421f4a9f20078",
            "_model_module": "@jupyter-widgets/controls",
            "children": [
              "IPY_MODEL_ba7ee2f2299e41da824bff1be7de5a93",
              "IPY_MODEL_74a4afb1309141fa88764c15a3dacc64",
              "IPY_MODEL_411646b900c7492d9fbe052955b02682"
            ]
          }
        },
        "212631f5300142b9884421f4a9f20078": {
          "model_module": "@jupyter-widgets/base",
          "model_name": "LayoutModel",
          "state": {
            "_view_name": "LayoutView",
            "grid_template_rows": null,
            "right": null,
            "justify_content": null,
            "_view_module": "@jupyter-widgets/base",
            "overflow": null,
            "_model_module_version": "1.2.0",
            "_view_count": null,
            "flex_flow": null,
            "width": null,
            "min_width": null,
            "border": null,
            "align_items": null,
            "bottom": null,
            "_model_module": "@jupyter-widgets/base",
            "top": null,
            "grid_column": null,
            "overflow_y": null,
            "overflow_x": null,
            "grid_auto_flow": null,
            "grid_area": null,
            "grid_template_columns": null,
            "flex": null,
            "_model_name": "LayoutModel",
            "justify_items": null,
            "grid_row": null,
            "max_height": null,
            "align_content": null,
            "visibility": null,
            "align_self": null,
            "height": null,
            "min_height": null,
            "padding": null,
            "grid_auto_rows": null,
            "grid_gap": null,
            "max_width": null,
            "order": null,
            "_view_module_version": "1.2.0",
            "grid_template_areas": null,
            "object_position": null,
            "object_fit": null,
            "grid_auto_columns": null,
            "margin": null,
            "display": null,
            "left": null
          }
        },
        "ba7ee2f2299e41da824bff1be7de5a93": {
          "model_module": "@jupyter-widgets/controls",
          "model_name": "HTMLModel",
          "state": {
            "_view_name": "HTMLView",
            "style": "IPY_MODEL_c24650bee52e4babb70bb2de221ddcaf",
            "_dom_classes": [],
            "description": "",
            "_model_name": "HTMLModel",
            "placeholder": "​",
            "_view_module": "@jupyter-widgets/controls",
            "_model_module_version": "1.5.0",
            "value": "Epochs 0/4. Running Loss:    0.0189: 100%",
            "_view_count": null,
            "_view_module_version": "1.5.0",
            "description_tooltip": null,
            "_model_module": "@jupyter-widgets/controls",
            "layout": "IPY_MODEL_cf28768d60334cf891bb36454c34c0f9"
          }
        },
        "74a4afb1309141fa88764c15a3dacc64": {
          "model_module": "@jupyter-widgets/controls",
          "model_name": "FloatProgressModel",
          "state": {
            "_view_name": "ProgressView",
            "style": "IPY_MODEL_f3b8a8c076d941b9ab82641fe0cd3666",
            "_dom_classes": [],
            "description": "",
            "_model_name": "FloatProgressModel",
            "bar_style": "success",
            "max": 175,
            "_view_module": "@jupyter-widgets/controls",
            "_model_module_version": "1.5.0",
            "value": 175,
            "_view_count": null,
            "_view_module_version": "1.5.0",
            "orientation": "horizontal",
            "min": 0,
            "description_tooltip": null,
            "_model_module": "@jupyter-widgets/controls",
            "layout": "IPY_MODEL_25b03c9f97054c3bab05033ed24843ea"
          }
        },
        "411646b900c7492d9fbe052955b02682": {
          "model_module": "@jupyter-widgets/controls",
          "model_name": "HTMLModel",
          "state": {
            "_view_name": "HTMLView",
            "style": "IPY_MODEL_c3e4120686254e88bac6c703f2430f59",
            "_dom_classes": [],
            "description": "",
            "_model_name": "HTMLModel",
            "placeholder": "​",
            "_view_module": "@jupyter-widgets/controls",
            "_model_module_version": "1.5.0",
            "value": " 175/175 [00:29&lt;00:00,  5.96it/s]",
            "_view_count": null,
            "_view_module_version": "1.5.0",
            "description_tooltip": null,
            "_model_module": "@jupyter-widgets/controls",
            "layout": "IPY_MODEL_6808481bc8d94a7ca0ac89f54a9eb5e7"
          }
        },
        "c24650bee52e4babb70bb2de221ddcaf": {
          "model_module": "@jupyter-widgets/controls",
          "model_name": "DescriptionStyleModel",
          "state": {
            "_view_name": "StyleView",
            "_model_name": "DescriptionStyleModel",
            "description_width": "",
            "_view_module": "@jupyter-widgets/base",
            "_model_module_version": "1.5.0",
            "_view_count": null,
            "_view_module_version": "1.2.0",
            "_model_module": "@jupyter-widgets/controls"
          }
        },
        "cf28768d60334cf891bb36454c34c0f9": {
          "model_module": "@jupyter-widgets/base",
          "model_name": "LayoutModel",
          "state": {
            "_view_name": "LayoutView",
            "grid_template_rows": null,
            "right": null,
            "justify_content": null,
            "_view_module": "@jupyter-widgets/base",
            "overflow": null,
            "_model_module_version": "1.2.0",
            "_view_count": null,
            "flex_flow": null,
            "width": null,
            "min_width": null,
            "border": null,
            "align_items": null,
            "bottom": null,
            "_model_module": "@jupyter-widgets/base",
            "top": null,
            "grid_column": null,
            "overflow_y": null,
            "overflow_x": null,
            "grid_auto_flow": null,
            "grid_area": null,
            "grid_template_columns": null,
            "flex": null,
            "_model_name": "LayoutModel",
            "justify_items": null,
            "grid_row": null,
            "max_height": null,
            "align_content": null,
            "visibility": null,
            "align_self": null,
            "height": null,
            "min_height": null,
            "padding": null,
            "grid_auto_rows": null,
            "grid_gap": null,
            "max_width": null,
            "order": null,
            "_view_module_version": "1.2.0",
            "grid_template_areas": null,
            "object_position": null,
            "object_fit": null,
            "grid_auto_columns": null,
            "margin": null,
            "display": null,
            "left": null
          }
        },
        "f3b8a8c076d941b9ab82641fe0cd3666": {
          "model_module": "@jupyter-widgets/controls",
          "model_name": "ProgressStyleModel",
          "state": {
            "_view_name": "StyleView",
            "_model_name": "ProgressStyleModel",
            "description_width": "",
            "_view_module": "@jupyter-widgets/base",
            "_model_module_version": "1.5.0",
            "_view_count": null,
            "_view_module_version": "1.2.0",
            "bar_color": null,
            "_model_module": "@jupyter-widgets/controls"
          }
        },
        "25b03c9f97054c3bab05033ed24843ea": {
          "model_module": "@jupyter-widgets/base",
          "model_name": "LayoutModel",
          "state": {
            "_view_name": "LayoutView",
            "grid_template_rows": null,
            "right": null,
            "justify_content": null,
            "_view_module": "@jupyter-widgets/base",
            "overflow": null,
            "_model_module_version": "1.2.0",
            "_view_count": null,
            "flex_flow": null,
            "width": null,
            "min_width": null,
            "border": null,
            "align_items": null,
            "bottom": null,
            "_model_module": "@jupyter-widgets/base",
            "top": null,
            "grid_column": null,
            "overflow_y": null,
            "overflow_x": null,
            "grid_auto_flow": null,
            "grid_area": null,
            "grid_template_columns": null,
            "flex": null,
            "_model_name": "LayoutModel",
            "justify_items": null,
            "grid_row": null,
            "max_height": null,
            "align_content": null,
            "visibility": null,
            "align_self": null,
            "height": null,
            "min_height": null,
            "padding": null,
            "grid_auto_rows": null,
            "grid_gap": null,
            "max_width": null,
            "order": null,
            "_view_module_version": "1.2.0",
            "grid_template_areas": null,
            "object_position": null,
            "object_fit": null,
            "grid_auto_columns": null,
            "margin": null,
            "display": null,
            "left": null
          }
        },
        "c3e4120686254e88bac6c703f2430f59": {
          "model_module": "@jupyter-widgets/controls",
          "model_name": "DescriptionStyleModel",
          "state": {
            "_view_name": "StyleView",
            "_model_name": "DescriptionStyleModel",
            "description_width": "",
            "_view_module": "@jupyter-widgets/base",
            "_model_module_version": "1.5.0",
            "_view_count": null,
            "_view_module_version": "1.2.0",
            "_model_module": "@jupyter-widgets/controls"
          }
        },
        "6808481bc8d94a7ca0ac89f54a9eb5e7": {
          "model_module": "@jupyter-widgets/base",
          "model_name": "LayoutModel",
          "state": {
            "_view_name": "LayoutView",
            "grid_template_rows": null,
            "right": null,
            "justify_content": null,
            "_view_module": "@jupyter-widgets/base",
            "overflow": null,
            "_model_module_version": "1.2.0",
            "_view_count": null,
            "flex_flow": null,
            "width": null,
            "min_width": null,
            "border": null,
            "align_items": null,
            "bottom": null,
            "_model_module": "@jupyter-widgets/base",
            "top": null,
            "grid_column": null,
            "overflow_y": null,
            "overflow_x": null,
            "grid_auto_flow": null,
            "grid_area": null,
            "grid_template_columns": null,
            "flex": null,
            "_model_name": "LayoutModel",
            "justify_items": null,
            "grid_row": null,
            "max_height": null,
            "align_content": null,
            "visibility": null,
            "align_self": null,
            "height": null,
            "min_height": null,
            "padding": null,
            "grid_auto_rows": null,
            "grid_gap": null,
            "max_width": null,
            "order": null,
            "_view_module_version": "1.2.0",
            "grid_template_areas": null,
            "object_position": null,
            "object_fit": null,
            "grid_auto_columns": null,
            "margin": null,
            "display": null,
            "left": null
          }
        },
        "ff10da20d3344e859a6dad63de1219cb": {
          "model_module": "@jupyter-widgets/controls",
          "model_name": "HBoxModel",
          "state": {
            "_view_name": "HBoxView",
            "_dom_classes": [],
            "_model_name": "HBoxModel",
            "_view_module": "@jupyter-widgets/controls",
            "_model_module_version": "1.5.0",
            "_view_count": null,
            "_view_module_version": "1.5.0",
            "box_style": "",
            "layout": "IPY_MODEL_ce2b9632119e4b68b5b5bc4b11bf1674",
            "_model_module": "@jupyter-widgets/controls",
            "children": [
              "IPY_MODEL_a701255f14f14c0ba45459cbb669b6ff",
              "IPY_MODEL_2152683b39a54a9599d6b9ffdd8aa309",
              "IPY_MODEL_b0166e9dcf044f6faf8d0e7ac84b03c7"
            ]
          }
        },
        "ce2b9632119e4b68b5b5bc4b11bf1674": {
          "model_module": "@jupyter-widgets/base",
          "model_name": "LayoutModel",
          "state": {
            "_view_name": "LayoutView",
            "grid_template_rows": null,
            "right": null,
            "justify_content": null,
            "_view_module": "@jupyter-widgets/base",
            "overflow": null,
            "_model_module_version": "1.2.0",
            "_view_count": null,
            "flex_flow": null,
            "width": null,
            "min_width": null,
            "border": null,
            "align_items": null,
            "bottom": null,
            "_model_module": "@jupyter-widgets/base",
            "top": null,
            "grid_column": null,
            "overflow_y": null,
            "overflow_x": null,
            "grid_auto_flow": null,
            "grid_area": null,
            "grid_template_columns": null,
            "flex": null,
            "_model_name": "LayoutModel",
            "justify_items": null,
            "grid_row": null,
            "max_height": null,
            "align_content": null,
            "visibility": null,
            "align_self": null,
            "height": null,
            "min_height": null,
            "padding": null,
            "grid_auto_rows": null,
            "grid_gap": null,
            "max_width": null,
            "order": null,
            "_view_module_version": "1.2.0",
            "grid_template_areas": null,
            "object_position": null,
            "object_fit": null,
            "grid_auto_columns": null,
            "margin": null,
            "display": null,
            "left": null
          }
        },
        "a701255f14f14c0ba45459cbb669b6ff": {
          "model_module": "@jupyter-widgets/controls",
          "model_name": "HTMLModel",
          "state": {
            "_view_name": "HTMLView",
            "style": "IPY_MODEL_97b4d312f3da4f7fa359c61ff142272d",
            "_dom_classes": [],
            "description": "",
            "_model_name": "HTMLModel",
            "placeholder": "​",
            "_view_module": "@jupyter-widgets/controls",
            "_model_module_version": "1.5.0",
            "value": "  0%",
            "_view_count": null,
            "_view_module_version": "1.5.0",
            "description_tooltip": null,
            "_model_module": "@jupyter-widgets/controls",
            "layout": "IPY_MODEL_1a6e21587b644b2fb55270f28acdec0f"
          }
        },
        "2152683b39a54a9599d6b9ffdd8aa309": {
          "model_module": "@jupyter-widgets/controls",
          "model_name": "FloatProgressModel",
          "state": {
            "_view_name": "ProgressView",
            "style": "IPY_MODEL_50a05156ec9643399c6b15422ccfb2c1",
            "_dom_classes": [],
            "description": "",
            "_model_name": "FloatProgressModel",
            "bar_style": "danger",
            "max": 1200,
            "_view_module": "@jupyter-widgets/controls",
            "_model_module_version": "1.5.0",
            "value": 3,
            "_view_count": null,
            "_view_module_version": "1.5.0",
            "orientation": "horizontal",
            "min": 0,
            "description_tooltip": null,
            "_model_module": "@jupyter-widgets/controls",
            "layout": "IPY_MODEL_dcd482e2737a44848015bd48f644ef2d"
          }
        },
        "b0166e9dcf044f6faf8d0e7ac84b03c7": {
          "model_module": "@jupyter-widgets/controls",
          "model_name": "HTMLModel",
          "state": {
            "_view_name": "HTMLView",
            "style": "IPY_MODEL_d45e7d1bfc2740f3a27988ee54f2a209",
            "_dom_classes": [],
            "description": "",
            "_model_name": "HTMLModel",
            "placeholder": "​",
            "_view_module": "@jupyter-widgets/controls",
            "_model_module_version": "1.5.0",
            "value": " 3/1200 [00:01&lt;20:15,  1.02s/it]",
            "_view_count": null,
            "_view_module_version": "1.5.0",
            "description_tooltip": null,
            "_model_module": "@jupyter-widgets/controls",
            "layout": "IPY_MODEL_968a68c9fe8945758e26e72430748e27"
          }
        },
        "97b4d312f3da4f7fa359c61ff142272d": {
          "model_module": "@jupyter-widgets/controls",
          "model_name": "DescriptionStyleModel",
          "state": {
            "_view_name": "StyleView",
            "_model_name": "DescriptionStyleModel",
            "description_width": "",
            "_view_module": "@jupyter-widgets/base",
            "_model_module_version": "1.5.0",
            "_view_count": null,
            "_view_module_version": "1.2.0",
            "_model_module": "@jupyter-widgets/controls"
          }
        },
        "1a6e21587b644b2fb55270f28acdec0f": {
          "model_module": "@jupyter-widgets/base",
          "model_name": "LayoutModel",
          "state": {
            "_view_name": "LayoutView",
            "grid_template_rows": null,
            "right": null,
            "justify_content": null,
            "_view_module": "@jupyter-widgets/base",
            "overflow": null,
            "_model_module_version": "1.2.0",
            "_view_count": null,
            "flex_flow": null,
            "width": null,
            "min_width": null,
            "border": null,
            "align_items": null,
            "bottom": null,
            "_model_module": "@jupyter-widgets/base",
            "top": null,
            "grid_column": null,
            "overflow_y": null,
            "overflow_x": null,
            "grid_auto_flow": null,
            "grid_area": null,
            "grid_template_columns": null,
            "flex": null,
            "_model_name": "LayoutModel",
            "justify_items": null,
            "grid_row": null,
            "max_height": null,
            "align_content": null,
            "visibility": null,
            "align_self": null,
            "height": null,
            "min_height": null,
            "padding": null,
            "grid_auto_rows": null,
            "grid_gap": null,
            "max_width": null,
            "order": null,
            "_view_module_version": "1.2.0",
            "grid_template_areas": null,
            "object_position": null,
            "object_fit": null,
            "grid_auto_columns": null,
            "margin": null,
            "display": null,
            "left": null
          }
        },
        "50a05156ec9643399c6b15422ccfb2c1": {
          "model_module": "@jupyter-widgets/controls",
          "model_name": "ProgressStyleModel",
          "state": {
            "_view_name": "StyleView",
            "_model_name": "ProgressStyleModel",
            "description_width": "",
            "_view_module": "@jupyter-widgets/base",
            "_model_module_version": "1.5.0",
            "_view_count": null,
            "_view_module_version": "1.2.0",
            "bar_color": null,
            "_model_module": "@jupyter-widgets/controls"
          }
        },
        "dcd482e2737a44848015bd48f644ef2d": {
          "model_module": "@jupyter-widgets/base",
          "model_name": "LayoutModel",
          "state": {
            "_view_name": "LayoutView",
            "grid_template_rows": null,
            "right": null,
            "justify_content": null,
            "_view_module": "@jupyter-widgets/base",
            "overflow": null,
            "_model_module_version": "1.2.0",
            "_view_count": null,
            "flex_flow": null,
            "width": null,
            "min_width": null,
            "border": null,
            "align_items": null,
            "bottom": null,
            "_model_module": "@jupyter-widgets/base",
            "top": null,
            "grid_column": null,
            "overflow_y": null,
            "overflow_x": null,
            "grid_auto_flow": null,
            "grid_area": null,
            "grid_template_columns": null,
            "flex": null,
            "_model_name": "LayoutModel",
            "justify_items": null,
            "grid_row": null,
            "max_height": null,
            "align_content": null,
            "visibility": null,
            "align_self": null,
            "height": null,
            "min_height": null,
            "padding": null,
            "grid_auto_rows": null,
            "grid_gap": null,
            "max_width": null,
            "order": null,
            "_view_module_version": "1.2.0",
            "grid_template_areas": null,
            "object_position": null,
            "object_fit": null,
            "grid_auto_columns": null,
            "margin": null,
            "display": null,
            "left": null
          }
        },
        "d45e7d1bfc2740f3a27988ee54f2a209": {
          "model_module": "@jupyter-widgets/controls",
          "model_name": "DescriptionStyleModel",
          "state": {
            "_view_name": "StyleView",
            "_model_name": "DescriptionStyleModel",
            "description_width": "",
            "_view_module": "@jupyter-widgets/base",
            "_model_module_version": "1.5.0",
            "_view_count": null,
            "_view_module_version": "1.2.0",
            "_model_module": "@jupyter-widgets/controls"
          }
        },
        "968a68c9fe8945758e26e72430748e27": {
          "model_module": "@jupyter-widgets/base",
          "model_name": "LayoutModel",
          "state": {
            "_view_name": "LayoutView",
            "grid_template_rows": null,
            "right": null,
            "justify_content": null,
            "_view_module": "@jupyter-widgets/base",
            "overflow": null,
            "_model_module_version": "1.2.0",
            "_view_count": null,
            "flex_flow": null,
            "width": null,
            "min_width": null,
            "border": null,
            "align_items": null,
            "bottom": null,
            "_model_module": "@jupyter-widgets/base",
            "top": null,
            "grid_column": null,
            "overflow_y": null,
            "overflow_x": null,
            "grid_auto_flow": null,
            "grid_area": null,
            "grid_template_columns": null,
            "flex": null,
            "_model_name": "LayoutModel",
            "justify_items": null,
            "grid_row": null,
            "max_height": null,
            "align_content": null,
            "visibility": null,
            "align_self": null,
            "height": null,
            "min_height": null,
            "padding": null,
            "grid_auto_rows": null,
            "grid_gap": null,
            "max_width": null,
            "order": null,
            "_view_module_version": "1.2.0",
            "grid_template_areas": null,
            "object_position": null,
            "object_fit": null,
            "grid_auto_columns": null,
            "margin": null,
            "display": null,
            "left": null
          }
        },
        "1d00d9b7ad294d2b80ed626a2c4c933d": {
          "model_module": "@jupyter-widgets/controls",
          "model_name": "HBoxModel",
          "state": {
            "_view_name": "HBoxView",
            "_dom_classes": [],
            "_model_name": "HBoxModel",
            "_view_module": "@jupyter-widgets/controls",
            "_model_module_version": "1.5.0",
            "_view_count": null,
            "_view_module_version": "1.5.0",
            "box_style": "",
            "layout": "IPY_MODEL_03f0bd6c60814d1d9c4c7d66fafc60f6",
            "_model_module": "@jupyter-widgets/controls",
            "children": [
              "IPY_MODEL_814a4163113c4c8c87d5e82baf18e9e7",
              "IPY_MODEL_3b34ae08962743cca5cc9e312f6c424e",
              "IPY_MODEL_b46d374618b84d629753f0c9bba15915"
            ]
          }
        },
        "03f0bd6c60814d1d9c4c7d66fafc60f6": {
          "model_module": "@jupyter-widgets/base",
          "model_name": "LayoutModel",
          "state": {
            "_view_name": "LayoutView",
            "grid_template_rows": null,
            "right": null,
            "justify_content": null,
            "_view_module": "@jupyter-widgets/base",
            "overflow": null,
            "_model_module_version": "1.2.0",
            "_view_count": null,
            "flex_flow": null,
            "width": null,
            "min_width": null,
            "border": null,
            "align_items": null,
            "bottom": null,
            "_model_module": "@jupyter-widgets/base",
            "top": null,
            "grid_column": null,
            "overflow_y": null,
            "overflow_x": null,
            "grid_auto_flow": null,
            "grid_area": null,
            "grid_template_columns": null,
            "flex": null,
            "_model_name": "LayoutModel",
            "justify_items": null,
            "grid_row": null,
            "max_height": null,
            "align_content": null,
            "visibility": null,
            "align_self": null,
            "height": null,
            "min_height": null,
            "padding": null,
            "grid_auto_rows": null,
            "grid_gap": null,
            "max_width": null,
            "order": null,
            "_view_module_version": "1.2.0",
            "grid_template_areas": null,
            "object_position": null,
            "object_fit": null,
            "grid_auto_columns": null,
            "margin": null,
            "display": null,
            "left": null
          }
        },
        "814a4163113c4c8c87d5e82baf18e9e7": {
          "model_module": "@jupyter-widgets/controls",
          "model_name": "HTMLModel",
          "state": {
            "_view_name": "HTMLView",
            "style": "IPY_MODEL_afbee31643a24dd9aa058f430a140bac",
            "_dom_classes": [],
            "description": "",
            "_model_name": "HTMLModel",
            "placeholder": "​",
            "_view_module": "@jupyter-widgets/controls",
            "_model_module_version": "1.5.0",
            "value": "Epochs 1/4. Running Loss:    0.0154: 100%",
            "_view_count": null,
            "_view_module_version": "1.5.0",
            "description_tooltip": null,
            "_model_module": "@jupyter-widgets/controls",
            "layout": "IPY_MODEL_6c86ddcbc9964baf960e65b7179628ff"
          }
        },
        "3b34ae08962743cca5cc9e312f6c424e": {
          "model_module": "@jupyter-widgets/controls",
          "model_name": "FloatProgressModel",
          "state": {
            "_view_name": "ProgressView",
            "style": "IPY_MODEL_67039691dde7467b98e0457e0c252905",
            "_dom_classes": [],
            "description": "",
            "_model_name": "FloatProgressModel",
            "bar_style": "success",
            "max": 175,
            "_view_module": "@jupyter-widgets/controls",
            "_model_module_version": "1.5.0",
            "value": 175,
            "_view_count": null,
            "_view_module_version": "1.5.0",
            "orientation": "horizontal",
            "min": 0,
            "description_tooltip": null,
            "_model_module": "@jupyter-widgets/controls",
            "layout": "IPY_MODEL_d604684aecd744b7bbb8761140e74bc5"
          }
        },
        "b46d374618b84d629753f0c9bba15915": {
          "model_module": "@jupyter-widgets/controls",
          "model_name": "HTMLModel",
          "state": {
            "_view_name": "HTMLView",
            "style": "IPY_MODEL_eb6e7a66c8e44a23be09ff3ad8ab95fc",
            "_dom_classes": [],
            "description": "",
            "_model_name": "HTMLModel",
            "placeholder": "​",
            "_view_module": "@jupyter-widgets/controls",
            "_model_module_version": "1.5.0",
            "value": " 175/175 [00:29&lt;00:00,  5.88it/s]",
            "_view_count": null,
            "_view_module_version": "1.5.0",
            "description_tooltip": null,
            "_model_module": "@jupyter-widgets/controls",
            "layout": "IPY_MODEL_bf0e9dcca07147e38ae7c4b566d9add9"
          }
        },
        "afbee31643a24dd9aa058f430a140bac": {
          "model_module": "@jupyter-widgets/controls",
          "model_name": "DescriptionStyleModel",
          "state": {
            "_view_name": "StyleView",
            "_model_name": "DescriptionStyleModel",
            "description_width": "",
            "_view_module": "@jupyter-widgets/base",
            "_model_module_version": "1.5.0",
            "_view_count": null,
            "_view_module_version": "1.2.0",
            "_model_module": "@jupyter-widgets/controls"
          }
        },
        "6c86ddcbc9964baf960e65b7179628ff": {
          "model_module": "@jupyter-widgets/base",
          "model_name": "LayoutModel",
          "state": {
            "_view_name": "LayoutView",
            "grid_template_rows": null,
            "right": null,
            "justify_content": null,
            "_view_module": "@jupyter-widgets/base",
            "overflow": null,
            "_model_module_version": "1.2.0",
            "_view_count": null,
            "flex_flow": null,
            "width": null,
            "min_width": null,
            "border": null,
            "align_items": null,
            "bottom": null,
            "_model_module": "@jupyter-widgets/base",
            "top": null,
            "grid_column": null,
            "overflow_y": null,
            "overflow_x": null,
            "grid_auto_flow": null,
            "grid_area": null,
            "grid_template_columns": null,
            "flex": null,
            "_model_name": "LayoutModel",
            "justify_items": null,
            "grid_row": null,
            "max_height": null,
            "align_content": null,
            "visibility": null,
            "align_self": null,
            "height": null,
            "min_height": null,
            "padding": null,
            "grid_auto_rows": null,
            "grid_gap": null,
            "max_width": null,
            "order": null,
            "_view_module_version": "1.2.0",
            "grid_template_areas": null,
            "object_position": null,
            "object_fit": null,
            "grid_auto_columns": null,
            "margin": null,
            "display": null,
            "left": null
          }
        },
        "67039691dde7467b98e0457e0c252905": {
          "model_module": "@jupyter-widgets/controls",
          "model_name": "ProgressStyleModel",
          "state": {
            "_view_name": "StyleView",
            "_model_name": "ProgressStyleModel",
            "description_width": "",
            "_view_module": "@jupyter-widgets/base",
            "_model_module_version": "1.5.0",
            "_view_count": null,
            "_view_module_version": "1.2.0",
            "bar_color": null,
            "_model_module": "@jupyter-widgets/controls"
          }
        },
        "d604684aecd744b7bbb8761140e74bc5": {
          "model_module": "@jupyter-widgets/base",
          "model_name": "LayoutModel",
          "state": {
            "_view_name": "LayoutView",
            "grid_template_rows": null,
            "right": null,
            "justify_content": null,
            "_view_module": "@jupyter-widgets/base",
            "overflow": null,
            "_model_module_version": "1.2.0",
            "_view_count": null,
            "flex_flow": null,
            "width": null,
            "min_width": null,
            "border": null,
            "align_items": null,
            "bottom": null,
            "_model_module": "@jupyter-widgets/base",
            "top": null,
            "grid_column": null,
            "overflow_y": null,
            "overflow_x": null,
            "grid_auto_flow": null,
            "grid_area": null,
            "grid_template_columns": null,
            "flex": null,
            "_model_name": "LayoutModel",
            "justify_items": null,
            "grid_row": null,
            "max_height": null,
            "align_content": null,
            "visibility": null,
            "align_self": null,
            "height": null,
            "min_height": null,
            "padding": null,
            "grid_auto_rows": null,
            "grid_gap": null,
            "max_width": null,
            "order": null,
            "_view_module_version": "1.2.0",
            "grid_template_areas": null,
            "object_position": null,
            "object_fit": null,
            "grid_auto_columns": null,
            "margin": null,
            "display": null,
            "left": null
          }
        },
        "eb6e7a66c8e44a23be09ff3ad8ab95fc": {
          "model_module": "@jupyter-widgets/controls",
          "model_name": "DescriptionStyleModel",
          "state": {
            "_view_name": "StyleView",
            "_model_name": "DescriptionStyleModel",
            "description_width": "",
            "_view_module": "@jupyter-widgets/base",
            "_model_module_version": "1.5.0",
            "_view_count": null,
            "_view_module_version": "1.2.0",
            "_model_module": "@jupyter-widgets/controls"
          }
        },
        "bf0e9dcca07147e38ae7c4b566d9add9": {
          "model_module": "@jupyter-widgets/base",
          "model_name": "LayoutModel",
          "state": {
            "_view_name": "LayoutView",
            "grid_template_rows": null,
            "right": null,
            "justify_content": null,
            "_view_module": "@jupyter-widgets/base",
            "overflow": null,
            "_model_module_version": "1.2.0",
            "_view_count": null,
            "flex_flow": null,
            "width": null,
            "min_width": null,
            "border": null,
            "align_items": null,
            "bottom": null,
            "_model_module": "@jupyter-widgets/base",
            "top": null,
            "grid_column": null,
            "overflow_y": null,
            "overflow_x": null,
            "grid_auto_flow": null,
            "grid_area": null,
            "grid_template_columns": null,
            "flex": null,
            "_model_name": "LayoutModel",
            "justify_items": null,
            "grid_row": null,
            "max_height": null,
            "align_content": null,
            "visibility": null,
            "align_self": null,
            "height": null,
            "min_height": null,
            "padding": null,
            "grid_auto_rows": null,
            "grid_gap": null,
            "max_width": null,
            "order": null,
            "_view_module_version": "1.2.0",
            "grid_template_areas": null,
            "object_position": null,
            "object_fit": null,
            "grid_auto_columns": null,
            "margin": null,
            "display": null,
            "left": null
          }
        },
        "fa1fe4341bfa4f5ca4bd08cfafa057d9": {
          "model_module": "@jupyter-widgets/controls",
          "model_name": "HBoxModel",
          "state": {
            "_view_name": "HBoxView",
            "_dom_classes": [],
            "_model_name": "HBoxModel",
            "_view_module": "@jupyter-widgets/controls",
            "_model_module_version": "1.5.0",
            "_view_count": null,
            "_view_module_version": "1.5.0",
            "box_style": "",
            "layout": "IPY_MODEL_e041a9acff0b4c5d883deaa6e9f6c757",
            "_model_module": "@jupyter-widgets/controls",
            "children": [
              "IPY_MODEL_fec57e44b33b47918a09b3681becb143",
              "IPY_MODEL_1c7559a24a6144349d13537cad908e28",
              "IPY_MODEL_2f60ad54a504487da1782c63c0fa5e4b"
            ]
          }
        },
        "e041a9acff0b4c5d883deaa6e9f6c757": {
          "model_module": "@jupyter-widgets/base",
          "model_name": "LayoutModel",
          "state": {
            "_view_name": "LayoutView",
            "grid_template_rows": null,
            "right": null,
            "justify_content": null,
            "_view_module": "@jupyter-widgets/base",
            "overflow": null,
            "_model_module_version": "1.2.0",
            "_view_count": null,
            "flex_flow": null,
            "width": null,
            "min_width": null,
            "border": null,
            "align_items": null,
            "bottom": null,
            "_model_module": "@jupyter-widgets/base",
            "top": null,
            "grid_column": null,
            "overflow_y": null,
            "overflow_x": null,
            "grid_auto_flow": null,
            "grid_area": null,
            "grid_template_columns": null,
            "flex": null,
            "_model_name": "LayoutModel",
            "justify_items": null,
            "grid_row": null,
            "max_height": null,
            "align_content": null,
            "visibility": null,
            "align_self": null,
            "height": null,
            "min_height": null,
            "padding": null,
            "grid_auto_rows": null,
            "grid_gap": null,
            "max_width": null,
            "order": null,
            "_view_module_version": "1.2.0",
            "grid_template_areas": null,
            "object_position": null,
            "object_fit": null,
            "grid_auto_columns": null,
            "margin": null,
            "display": null,
            "left": null
          }
        },
        "fec57e44b33b47918a09b3681becb143": {
          "model_module": "@jupyter-widgets/controls",
          "model_name": "HTMLModel",
          "state": {
            "_view_name": "HTMLView",
            "style": "IPY_MODEL_dcd1856e9d234a8aa985eeaaa2070adf",
            "_dom_classes": [],
            "description": "",
            "_model_name": "HTMLModel",
            "placeholder": "​",
            "_view_module": "@jupyter-widgets/controls",
            "_model_module_version": "1.5.0",
            "value": "  0%",
            "_view_count": null,
            "_view_module_version": "1.5.0",
            "description_tooltip": null,
            "_model_module": "@jupyter-widgets/controls",
            "layout": "IPY_MODEL_a99f40b287e4457baf6aefafb9343a7f"
          }
        },
        "1c7559a24a6144349d13537cad908e28": {
          "model_module": "@jupyter-widgets/controls",
          "model_name": "FloatProgressModel",
          "state": {
            "_view_name": "ProgressView",
            "style": "IPY_MODEL_ec40103d1a434c3e8396a4307a8c8e64",
            "_dom_classes": [],
            "description": "",
            "_model_name": "FloatProgressModel",
            "bar_style": "danger",
            "max": 1200,
            "_view_module": "@jupyter-widgets/controls",
            "_model_module_version": "1.5.0",
            "value": 3,
            "_view_count": null,
            "_view_module_version": "1.5.0",
            "orientation": "horizontal",
            "min": 0,
            "description_tooltip": null,
            "_model_module": "@jupyter-widgets/controls",
            "layout": "IPY_MODEL_b7c4eed8b6d946ada94af7a7393e4e2f"
          }
        },
        "2f60ad54a504487da1782c63c0fa5e4b": {
          "model_module": "@jupyter-widgets/controls",
          "model_name": "HTMLModel",
          "state": {
            "_view_name": "HTMLView",
            "style": "IPY_MODEL_8405775511fa45219dd0202c9e92689a",
            "_dom_classes": [],
            "description": "",
            "_model_name": "HTMLModel",
            "placeholder": "​",
            "_view_module": "@jupyter-widgets/controls",
            "_model_module_version": "1.5.0",
            "value": " 3/1200 [00:00&lt;19:41,  1.01it/s]",
            "_view_count": null,
            "_view_module_version": "1.5.0",
            "description_tooltip": null,
            "_model_module": "@jupyter-widgets/controls",
            "layout": "IPY_MODEL_8631735a173b45ea8aac6917f7f9ddd1"
          }
        },
        "dcd1856e9d234a8aa985eeaaa2070adf": {
          "model_module": "@jupyter-widgets/controls",
          "model_name": "DescriptionStyleModel",
          "state": {
            "_view_name": "StyleView",
            "_model_name": "DescriptionStyleModel",
            "description_width": "",
            "_view_module": "@jupyter-widgets/base",
            "_model_module_version": "1.5.0",
            "_view_count": null,
            "_view_module_version": "1.2.0",
            "_model_module": "@jupyter-widgets/controls"
          }
        },
        "a99f40b287e4457baf6aefafb9343a7f": {
          "model_module": "@jupyter-widgets/base",
          "model_name": "LayoutModel",
          "state": {
            "_view_name": "LayoutView",
            "grid_template_rows": null,
            "right": null,
            "justify_content": null,
            "_view_module": "@jupyter-widgets/base",
            "overflow": null,
            "_model_module_version": "1.2.0",
            "_view_count": null,
            "flex_flow": null,
            "width": null,
            "min_width": null,
            "border": null,
            "align_items": null,
            "bottom": null,
            "_model_module": "@jupyter-widgets/base",
            "top": null,
            "grid_column": null,
            "overflow_y": null,
            "overflow_x": null,
            "grid_auto_flow": null,
            "grid_area": null,
            "grid_template_columns": null,
            "flex": null,
            "_model_name": "LayoutModel",
            "justify_items": null,
            "grid_row": null,
            "max_height": null,
            "align_content": null,
            "visibility": null,
            "align_self": null,
            "height": null,
            "min_height": null,
            "padding": null,
            "grid_auto_rows": null,
            "grid_gap": null,
            "max_width": null,
            "order": null,
            "_view_module_version": "1.2.0",
            "grid_template_areas": null,
            "object_position": null,
            "object_fit": null,
            "grid_auto_columns": null,
            "margin": null,
            "display": null,
            "left": null
          }
        },
        "ec40103d1a434c3e8396a4307a8c8e64": {
          "model_module": "@jupyter-widgets/controls",
          "model_name": "ProgressStyleModel",
          "state": {
            "_view_name": "StyleView",
            "_model_name": "ProgressStyleModel",
            "description_width": "",
            "_view_module": "@jupyter-widgets/base",
            "_model_module_version": "1.5.0",
            "_view_count": null,
            "_view_module_version": "1.2.0",
            "bar_color": null,
            "_model_module": "@jupyter-widgets/controls"
          }
        },
        "b7c4eed8b6d946ada94af7a7393e4e2f": {
          "model_module": "@jupyter-widgets/base",
          "model_name": "LayoutModel",
          "state": {
            "_view_name": "LayoutView",
            "grid_template_rows": null,
            "right": null,
            "justify_content": null,
            "_view_module": "@jupyter-widgets/base",
            "overflow": null,
            "_model_module_version": "1.2.0",
            "_view_count": null,
            "flex_flow": null,
            "width": null,
            "min_width": null,
            "border": null,
            "align_items": null,
            "bottom": null,
            "_model_module": "@jupyter-widgets/base",
            "top": null,
            "grid_column": null,
            "overflow_y": null,
            "overflow_x": null,
            "grid_auto_flow": null,
            "grid_area": null,
            "grid_template_columns": null,
            "flex": null,
            "_model_name": "LayoutModel",
            "justify_items": null,
            "grid_row": null,
            "max_height": null,
            "align_content": null,
            "visibility": null,
            "align_self": null,
            "height": null,
            "min_height": null,
            "padding": null,
            "grid_auto_rows": null,
            "grid_gap": null,
            "max_width": null,
            "order": null,
            "_view_module_version": "1.2.0",
            "grid_template_areas": null,
            "object_position": null,
            "object_fit": null,
            "grid_auto_columns": null,
            "margin": null,
            "display": null,
            "left": null
          }
        },
        "8405775511fa45219dd0202c9e92689a": {
          "model_module": "@jupyter-widgets/controls",
          "model_name": "DescriptionStyleModel",
          "state": {
            "_view_name": "StyleView",
            "_model_name": "DescriptionStyleModel",
            "description_width": "",
            "_view_module": "@jupyter-widgets/base",
            "_model_module_version": "1.5.0",
            "_view_count": null,
            "_view_module_version": "1.2.0",
            "_model_module": "@jupyter-widgets/controls"
          }
        },
        "8631735a173b45ea8aac6917f7f9ddd1": {
          "model_module": "@jupyter-widgets/base",
          "model_name": "LayoutModel",
          "state": {
            "_view_name": "LayoutView",
            "grid_template_rows": null,
            "right": null,
            "justify_content": null,
            "_view_module": "@jupyter-widgets/base",
            "overflow": null,
            "_model_module_version": "1.2.0",
            "_view_count": null,
            "flex_flow": null,
            "width": null,
            "min_width": null,
            "border": null,
            "align_items": null,
            "bottom": null,
            "_model_module": "@jupyter-widgets/base",
            "top": null,
            "grid_column": null,
            "overflow_y": null,
            "overflow_x": null,
            "grid_auto_flow": null,
            "grid_area": null,
            "grid_template_columns": null,
            "flex": null,
            "_model_name": "LayoutModel",
            "justify_items": null,
            "grid_row": null,
            "max_height": null,
            "align_content": null,
            "visibility": null,
            "align_self": null,
            "height": null,
            "min_height": null,
            "padding": null,
            "grid_auto_rows": null,
            "grid_gap": null,
            "max_width": null,
            "order": null,
            "_view_module_version": "1.2.0",
            "grid_template_areas": null,
            "object_position": null,
            "object_fit": null,
            "grid_auto_columns": null,
            "margin": null,
            "display": null,
            "left": null
          }
        },
        "3aac2123cd87463faa7db0763e0ffb18": {
          "model_module": "@jupyter-widgets/controls",
          "model_name": "HBoxModel",
          "state": {
            "_view_name": "HBoxView",
            "_dom_classes": [],
            "_model_name": "HBoxModel",
            "_view_module": "@jupyter-widgets/controls",
            "_model_module_version": "1.5.0",
            "_view_count": null,
            "_view_module_version": "1.5.0",
            "box_style": "",
            "layout": "IPY_MODEL_6632fbaae3954b3c8e5ad90057f2e2d8",
            "_model_module": "@jupyter-widgets/controls",
            "children": [
              "IPY_MODEL_0a5c4764c97f4c21a49e608c75b9cfe7",
              "IPY_MODEL_382b1593d54a4d0ca74ae69040a5bd4f",
              "IPY_MODEL_805978f790954ca984bc92c6dc5514de"
            ]
          }
        },
        "6632fbaae3954b3c8e5ad90057f2e2d8": {
          "model_module": "@jupyter-widgets/base",
          "model_name": "LayoutModel",
          "state": {
            "_view_name": "LayoutView",
            "grid_template_rows": null,
            "right": null,
            "justify_content": null,
            "_view_module": "@jupyter-widgets/base",
            "overflow": null,
            "_model_module_version": "1.2.0",
            "_view_count": null,
            "flex_flow": null,
            "width": null,
            "min_width": null,
            "border": null,
            "align_items": null,
            "bottom": null,
            "_model_module": "@jupyter-widgets/base",
            "top": null,
            "grid_column": null,
            "overflow_y": null,
            "overflow_x": null,
            "grid_auto_flow": null,
            "grid_area": null,
            "grid_template_columns": null,
            "flex": null,
            "_model_name": "LayoutModel",
            "justify_items": null,
            "grid_row": null,
            "max_height": null,
            "align_content": null,
            "visibility": null,
            "align_self": null,
            "height": null,
            "min_height": null,
            "padding": null,
            "grid_auto_rows": null,
            "grid_gap": null,
            "max_width": null,
            "order": null,
            "_view_module_version": "1.2.0",
            "grid_template_areas": null,
            "object_position": null,
            "object_fit": null,
            "grid_auto_columns": null,
            "margin": null,
            "display": null,
            "left": null
          }
        },
        "0a5c4764c97f4c21a49e608c75b9cfe7": {
          "model_module": "@jupyter-widgets/controls",
          "model_name": "HTMLModel",
          "state": {
            "_view_name": "HTMLView",
            "style": "IPY_MODEL_d9873d26a1e243afbed9ea2f5c859dfd",
            "_dom_classes": [],
            "description": "",
            "_model_name": "HTMLModel",
            "placeholder": "​",
            "_view_module": "@jupyter-widgets/controls",
            "_model_module_version": "1.5.0",
            "value": "Epochs 2/4. Running Loss:    0.0010: 100%",
            "_view_count": null,
            "_view_module_version": "1.5.0",
            "description_tooltip": null,
            "_model_module": "@jupyter-widgets/controls",
            "layout": "IPY_MODEL_e09a479bae614eb7bf4d99003c2e9b10"
          }
        },
        "382b1593d54a4d0ca74ae69040a5bd4f": {
          "model_module": "@jupyter-widgets/controls",
          "model_name": "FloatProgressModel",
          "state": {
            "_view_name": "ProgressView",
            "style": "IPY_MODEL_723d22e2b3aa44558411ac1966a40386",
            "_dom_classes": [],
            "description": "",
            "_model_name": "FloatProgressModel",
            "bar_style": "success",
            "max": 175,
            "_view_module": "@jupyter-widgets/controls",
            "_model_module_version": "1.5.0",
            "value": 175,
            "_view_count": null,
            "_view_module_version": "1.5.0",
            "orientation": "horizontal",
            "min": 0,
            "description_tooltip": null,
            "_model_module": "@jupyter-widgets/controls",
            "layout": "IPY_MODEL_4b382b35a7cf488588f336c02bcf1b72"
          }
        },
        "805978f790954ca984bc92c6dc5514de": {
          "model_module": "@jupyter-widgets/controls",
          "model_name": "HTMLModel",
          "state": {
            "_view_name": "HTMLView",
            "style": "IPY_MODEL_36fc948fd86b433eac8550ec71e99312",
            "_dom_classes": [],
            "description": "",
            "_model_name": "HTMLModel",
            "placeholder": "​",
            "_view_module": "@jupyter-widgets/controls",
            "_model_module_version": "1.5.0",
            "value": " 175/175 [00:29&lt;00:00,  6.01it/s]",
            "_view_count": null,
            "_view_module_version": "1.5.0",
            "description_tooltip": null,
            "_model_module": "@jupyter-widgets/controls",
            "layout": "IPY_MODEL_8bab6b8a285149e9b06f497b21689412"
          }
        },
        "d9873d26a1e243afbed9ea2f5c859dfd": {
          "model_module": "@jupyter-widgets/controls",
          "model_name": "DescriptionStyleModel",
          "state": {
            "_view_name": "StyleView",
            "_model_name": "DescriptionStyleModel",
            "description_width": "",
            "_view_module": "@jupyter-widgets/base",
            "_model_module_version": "1.5.0",
            "_view_count": null,
            "_view_module_version": "1.2.0",
            "_model_module": "@jupyter-widgets/controls"
          }
        },
        "e09a479bae614eb7bf4d99003c2e9b10": {
          "model_module": "@jupyter-widgets/base",
          "model_name": "LayoutModel",
          "state": {
            "_view_name": "LayoutView",
            "grid_template_rows": null,
            "right": null,
            "justify_content": null,
            "_view_module": "@jupyter-widgets/base",
            "overflow": null,
            "_model_module_version": "1.2.0",
            "_view_count": null,
            "flex_flow": null,
            "width": null,
            "min_width": null,
            "border": null,
            "align_items": null,
            "bottom": null,
            "_model_module": "@jupyter-widgets/base",
            "top": null,
            "grid_column": null,
            "overflow_y": null,
            "overflow_x": null,
            "grid_auto_flow": null,
            "grid_area": null,
            "grid_template_columns": null,
            "flex": null,
            "_model_name": "LayoutModel",
            "justify_items": null,
            "grid_row": null,
            "max_height": null,
            "align_content": null,
            "visibility": null,
            "align_self": null,
            "height": null,
            "min_height": null,
            "padding": null,
            "grid_auto_rows": null,
            "grid_gap": null,
            "max_width": null,
            "order": null,
            "_view_module_version": "1.2.0",
            "grid_template_areas": null,
            "object_position": null,
            "object_fit": null,
            "grid_auto_columns": null,
            "margin": null,
            "display": null,
            "left": null
          }
        },
        "723d22e2b3aa44558411ac1966a40386": {
          "model_module": "@jupyter-widgets/controls",
          "model_name": "ProgressStyleModel",
          "state": {
            "_view_name": "StyleView",
            "_model_name": "ProgressStyleModel",
            "description_width": "",
            "_view_module": "@jupyter-widgets/base",
            "_model_module_version": "1.5.0",
            "_view_count": null,
            "_view_module_version": "1.2.0",
            "bar_color": null,
            "_model_module": "@jupyter-widgets/controls"
          }
        },
        "4b382b35a7cf488588f336c02bcf1b72": {
          "model_module": "@jupyter-widgets/base",
          "model_name": "LayoutModel",
          "state": {
            "_view_name": "LayoutView",
            "grid_template_rows": null,
            "right": null,
            "justify_content": null,
            "_view_module": "@jupyter-widgets/base",
            "overflow": null,
            "_model_module_version": "1.2.0",
            "_view_count": null,
            "flex_flow": null,
            "width": null,
            "min_width": null,
            "border": null,
            "align_items": null,
            "bottom": null,
            "_model_module": "@jupyter-widgets/base",
            "top": null,
            "grid_column": null,
            "overflow_y": null,
            "overflow_x": null,
            "grid_auto_flow": null,
            "grid_area": null,
            "grid_template_columns": null,
            "flex": null,
            "_model_name": "LayoutModel",
            "justify_items": null,
            "grid_row": null,
            "max_height": null,
            "align_content": null,
            "visibility": null,
            "align_self": null,
            "height": null,
            "min_height": null,
            "padding": null,
            "grid_auto_rows": null,
            "grid_gap": null,
            "max_width": null,
            "order": null,
            "_view_module_version": "1.2.0",
            "grid_template_areas": null,
            "object_position": null,
            "object_fit": null,
            "grid_auto_columns": null,
            "margin": null,
            "display": null,
            "left": null
          }
        },
        "36fc948fd86b433eac8550ec71e99312": {
          "model_module": "@jupyter-widgets/controls",
          "model_name": "DescriptionStyleModel",
          "state": {
            "_view_name": "StyleView",
            "_model_name": "DescriptionStyleModel",
            "description_width": "",
            "_view_module": "@jupyter-widgets/base",
            "_model_module_version": "1.5.0",
            "_view_count": null,
            "_view_module_version": "1.2.0",
            "_model_module": "@jupyter-widgets/controls"
          }
        },
        "8bab6b8a285149e9b06f497b21689412": {
          "model_module": "@jupyter-widgets/base",
          "model_name": "LayoutModel",
          "state": {
            "_view_name": "LayoutView",
            "grid_template_rows": null,
            "right": null,
            "justify_content": null,
            "_view_module": "@jupyter-widgets/base",
            "overflow": null,
            "_model_module_version": "1.2.0",
            "_view_count": null,
            "flex_flow": null,
            "width": null,
            "min_width": null,
            "border": null,
            "align_items": null,
            "bottom": null,
            "_model_module": "@jupyter-widgets/base",
            "top": null,
            "grid_column": null,
            "overflow_y": null,
            "overflow_x": null,
            "grid_auto_flow": null,
            "grid_area": null,
            "grid_template_columns": null,
            "flex": null,
            "_model_name": "LayoutModel",
            "justify_items": null,
            "grid_row": null,
            "max_height": null,
            "align_content": null,
            "visibility": null,
            "align_self": null,
            "height": null,
            "min_height": null,
            "padding": null,
            "grid_auto_rows": null,
            "grid_gap": null,
            "max_width": null,
            "order": null,
            "_view_module_version": "1.2.0",
            "grid_template_areas": null,
            "object_position": null,
            "object_fit": null,
            "grid_auto_columns": null,
            "margin": null,
            "display": null,
            "left": null
          }
        },
        "7eceffb99b394e85b79a8f3a6df61352": {
          "model_module": "@jupyter-widgets/controls",
          "model_name": "HBoxModel",
          "state": {
            "_view_name": "HBoxView",
            "_dom_classes": [],
            "_model_name": "HBoxModel",
            "_view_module": "@jupyter-widgets/controls",
            "_model_module_version": "1.5.0",
            "_view_count": null,
            "_view_module_version": "1.5.0",
            "box_style": "",
            "layout": "IPY_MODEL_88c89636a3d444d89e2f68d922817170",
            "_model_module": "@jupyter-widgets/controls",
            "children": [
              "IPY_MODEL_7d4b873795c6418a8312821aaa234dfd",
              "IPY_MODEL_bd9f53f77b4845fba2db47892a86d962",
              "IPY_MODEL_ece6da485702441bb1e86abc3648ff06"
            ]
          }
        },
        "88c89636a3d444d89e2f68d922817170": {
          "model_module": "@jupyter-widgets/base",
          "model_name": "LayoutModel",
          "state": {
            "_view_name": "LayoutView",
            "grid_template_rows": null,
            "right": null,
            "justify_content": null,
            "_view_module": "@jupyter-widgets/base",
            "overflow": null,
            "_model_module_version": "1.2.0",
            "_view_count": null,
            "flex_flow": null,
            "width": null,
            "min_width": null,
            "border": null,
            "align_items": null,
            "bottom": null,
            "_model_module": "@jupyter-widgets/base",
            "top": null,
            "grid_column": null,
            "overflow_y": null,
            "overflow_x": null,
            "grid_auto_flow": null,
            "grid_area": null,
            "grid_template_columns": null,
            "flex": null,
            "_model_name": "LayoutModel",
            "justify_items": null,
            "grid_row": null,
            "max_height": null,
            "align_content": null,
            "visibility": null,
            "align_self": null,
            "height": null,
            "min_height": null,
            "padding": null,
            "grid_auto_rows": null,
            "grid_gap": null,
            "max_width": null,
            "order": null,
            "_view_module_version": "1.2.0",
            "grid_template_areas": null,
            "object_position": null,
            "object_fit": null,
            "grid_auto_columns": null,
            "margin": null,
            "display": null,
            "left": null
          }
        },
        "7d4b873795c6418a8312821aaa234dfd": {
          "model_module": "@jupyter-widgets/controls",
          "model_name": "HTMLModel",
          "state": {
            "_view_name": "HTMLView",
            "style": "IPY_MODEL_167342fe061e4fb7974b1b2fe9310c98",
            "_dom_classes": [],
            "description": "",
            "_model_name": "HTMLModel",
            "placeholder": "​",
            "_view_module": "@jupyter-widgets/controls",
            "_model_module_version": "1.5.0",
            "value": "  0%",
            "_view_count": null,
            "_view_module_version": "1.5.0",
            "description_tooltip": null,
            "_model_module": "@jupyter-widgets/controls",
            "layout": "IPY_MODEL_7b99256f5f994767b937e403da448026"
          }
        },
        "bd9f53f77b4845fba2db47892a86d962": {
          "model_module": "@jupyter-widgets/controls",
          "model_name": "FloatProgressModel",
          "state": {
            "_view_name": "ProgressView",
            "style": "IPY_MODEL_223624dec0f8475b9fed6604759a1d56",
            "_dom_classes": [],
            "description": "",
            "_model_name": "FloatProgressModel",
            "bar_style": "danger",
            "max": 1200,
            "_view_module": "@jupyter-widgets/controls",
            "_model_module_version": "1.5.0",
            "value": 3,
            "_view_count": null,
            "_view_module_version": "1.5.0",
            "orientation": "horizontal",
            "min": 0,
            "description_tooltip": null,
            "_model_module": "@jupyter-widgets/controls",
            "layout": "IPY_MODEL_5f11c2f294df4b9abb9ac77b52e48177"
          }
        },
        "ece6da485702441bb1e86abc3648ff06": {
          "model_module": "@jupyter-widgets/controls",
          "model_name": "HTMLModel",
          "state": {
            "_view_name": "HTMLView",
            "style": "IPY_MODEL_921aa1373d1146fea1a9594dbe060f23",
            "_dom_classes": [],
            "description": "",
            "_model_name": "HTMLModel",
            "placeholder": "​",
            "_view_module": "@jupyter-widgets/controls",
            "_model_module_version": "1.5.0",
            "value": " 3/1200 [00:03&lt;1:07:09,  3.37s/it]",
            "_view_count": null,
            "_view_module_version": "1.5.0",
            "description_tooltip": null,
            "_model_module": "@jupyter-widgets/controls",
            "layout": "IPY_MODEL_db35456a5d0449b397576d5461218ab2"
          }
        },
        "167342fe061e4fb7974b1b2fe9310c98": {
          "model_module": "@jupyter-widgets/controls",
          "model_name": "DescriptionStyleModel",
          "state": {
            "_view_name": "StyleView",
            "_model_name": "DescriptionStyleModel",
            "description_width": "",
            "_view_module": "@jupyter-widgets/base",
            "_model_module_version": "1.5.0",
            "_view_count": null,
            "_view_module_version": "1.2.0",
            "_model_module": "@jupyter-widgets/controls"
          }
        },
        "7b99256f5f994767b937e403da448026": {
          "model_module": "@jupyter-widgets/base",
          "model_name": "LayoutModel",
          "state": {
            "_view_name": "LayoutView",
            "grid_template_rows": null,
            "right": null,
            "justify_content": null,
            "_view_module": "@jupyter-widgets/base",
            "overflow": null,
            "_model_module_version": "1.2.0",
            "_view_count": null,
            "flex_flow": null,
            "width": null,
            "min_width": null,
            "border": null,
            "align_items": null,
            "bottom": null,
            "_model_module": "@jupyter-widgets/base",
            "top": null,
            "grid_column": null,
            "overflow_y": null,
            "overflow_x": null,
            "grid_auto_flow": null,
            "grid_area": null,
            "grid_template_columns": null,
            "flex": null,
            "_model_name": "LayoutModel",
            "justify_items": null,
            "grid_row": null,
            "max_height": null,
            "align_content": null,
            "visibility": null,
            "align_self": null,
            "height": null,
            "min_height": null,
            "padding": null,
            "grid_auto_rows": null,
            "grid_gap": null,
            "max_width": null,
            "order": null,
            "_view_module_version": "1.2.0",
            "grid_template_areas": null,
            "object_position": null,
            "object_fit": null,
            "grid_auto_columns": null,
            "margin": null,
            "display": null,
            "left": null
          }
        },
        "223624dec0f8475b9fed6604759a1d56": {
          "model_module": "@jupyter-widgets/controls",
          "model_name": "ProgressStyleModel",
          "state": {
            "_view_name": "StyleView",
            "_model_name": "ProgressStyleModel",
            "description_width": "",
            "_view_module": "@jupyter-widgets/base",
            "_model_module_version": "1.5.0",
            "_view_count": null,
            "_view_module_version": "1.2.0",
            "bar_color": null,
            "_model_module": "@jupyter-widgets/controls"
          }
        },
        "5f11c2f294df4b9abb9ac77b52e48177": {
          "model_module": "@jupyter-widgets/base",
          "model_name": "LayoutModel",
          "state": {
            "_view_name": "LayoutView",
            "grid_template_rows": null,
            "right": null,
            "justify_content": null,
            "_view_module": "@jupyter-widgets/base",
            "overflow": null,
            "_model_module_version": "1.2.0",
            "_view_count": null,
            "flex_flow": null,
            "width": null,
            "min_width": null,
            "border": null,
            "align_items": null,
            "bottom": null,
            "_model_module": "@jupyter-widgets/base",
            "top": null,
            "grid_column": null,
            "overflow_y": null,
            "overflow_x": null,
            "grid_auto_flow": null,
            "grid_area": null,
            "grid_template_columns": null,
            "flex": null,
            "_model_name": "LayoutModel",
            "justify_items": null,
            "grid_row": null,
            "max_height": null,
            "align_content": null,
            "visibility": null,
            "align_self": null,
            "height": null,
            "min_height": null,
            "padding": null,
            "grid_auto_rows": null,
            "grid_gap": null,
            "max_width": null,
            "order": null,
            "_view_module_version": "1.2.0",
            "grid_template_areas": null,
            "object_position": null,
            "object_fit": null,
            "grid_auto_columns": null,
            "margin": null,
            "display": null,
            "left": null
          }
        },
        "921aa1373d1146fea1a9594dbe060f23": {
          "model_module": "@jupyter-widgets/controls",
          "model_name": "DescriptionStyleModel",
          "state": {
            "_view_name": "StyleView",
            "_model_name": "DescriptionStyleModel",
            "description_width": "",
            "_view_module": "@jupyter-widgets/base",
            "_model_module_version": "1.5.0",
            "_view_count": null,
            "_view_module_version": "1.2.0",
            "_model_module": "@jupyter-widgets/controls"
          }
        },
        "db35456a5d0449b397576d5461218ab2": {
          "model_module": "@jupyter-widgets/base",
          "model_name": "LayoutModel",
          "state": {
            "_view_name": "LayoutView",
            "grid_template_rows": null,
            "right": null,
            "justify_content": null,
            "_view_module": "@jupyter-widgets/base",
            "overflow": null,
            "_model_module_version": "1.2.0",
            "_view_count": null,
            "flex_flow": null,
            "width": null,
            "min_width": null,
            "border": null,
            "align_items": null,
            "bottom": null,
            "_model_module": "@jupyter-widgets/base",
            "top": null,
            "grid_column": null,
            "overflow_y": null,
            "overflow_x": null,
            "grid_auto_flow": null,
            "grid_area": null,
            "grid_template_columns": null,
            "flex": null,
            "_model_name": "LayoutModel",
            "justify_items": null,
            "grid_row": null,
            "max_height": null,
            "align_content": null,
            "visibility": null,
            "align_self": null,
            "height": null,
            "min_height": null,
            "padding": null,
            "grid_auto_rows": null,
            "grid_gap": null,
            "max_width": null,
            "order": null,
            "_view_module_version": "1.2.0",
            "grid_template_areas": null,
            "object_position": null,
            "object_fit": null,
            "grid_auto_columns": null,
            "margin": null,
            "display": null,
            "left": null
          }
        },
        "4e816df1206a4a69924c2b159abf4029": {
          "model_module": "@jupyter-widgets/controls",
          "model_name": "HBoxModel",
          "state": {
            "_view_name": "HBoxView",
            "_dom_classes": [],
            "_model_name": "HBoxModel",
            "_view_module": "@jupyter-widgets/controls",
            "_model_module_version": "1.5.0",
            "_view_count": null,
            "_view_module_version": "1.5.0",
            "box_style": "",
            "layout": "IPY_MODEL_095aeb7ed3494bdda000f78df2b172c3",
            "_model_module": "@jupyter-widgets/controls",
            "children": [
              "IPY_MODEL_296cfce73a4c4ff59e3d09a2d796d291",
              "IPY_MODEL_d59cc0b0081e44ebafe746b3f5eeec4e",
              "IPY_MODEL_1ab5380528da43baacf01a71d2f96b84"
            ]
          }
        },
        "095aeb7ed3494bdda000f78df2b172c3": {
          "model_module": "@jupyter-widgets/base",
          "model_name": "LayoutModel",
          "state": {
            "_view_name": "LayoutView",
            "grid_template_rows": null,
            "right": null,
            "justify_content": null,
            "_view_module": "@jupyter-widgets/base",
            "overflow": null,
            "_model_module_version": "1.2.0",
            "_view_count": null,
            "flex_flow": null,
            "width": null,
            "min_width": null,
            "border": null,
            "align_items": null,
            "bottom": null,
            "_model_module": "@jupyter-widgets/base",
            "top": null,
            "grid_column": null,
            "overflow_y": null,
            "overflow_x": null,
            "grid_auto_flow": null,
            "grid_area": null,
            "grid_template_columns": null,
            "flex": null,
            "_model_name": "LayoutModel",
            "justify_items": null,
            "grid_row": null,
            "max_height": null,
            "align_content": null,
            "visibility": null,
            "align_self": null,
            "height": null,
            "min_height": null,
            "padding": null,
            "grid_auto_rows": null,
            "grid_gap": null,
            "max_width": null,
            "order": null,
            "_view_module_version": "1.2.0",
            "grid_template_areas": null,
            "object_position": null,
            "object_fit": null,
            "grid_auto_columns": null,
            "margin": null,
            "display": null,
            "left": null
          }
        },
        "296cfce73a4c4ff59e3d09a2d796d291": {
          "model_module": "@jupyter-widgets/controls",
          "model_name": "HTMLModel",
          "state": {
            "_view_name": "HTMLView",
            "style": "IPY_MODEL_6157cfa4ce4b42b8ba272705629d07ce",
            "_dom_classes": [],
            "description": "",
            "_model_name": "HTMLModel",
            "placeholder": "​",
            "_view_module": "@jupyter-widgets/controls",
            "_model_module_version": "1.5.0",
            "value": "Epochs 3/4. Running Loss:    0.0001: 100%",
            "_view_count": null,
            "_view_module_version": "1.5.0",
            "description_tooltip": null,
            "_model_module": "@jupyter-widgets/controls",
            "layout": "IPY_MODEL_cd9e995ce41a4166930a551be3c8e8d5"
          }
        },
        "d59cc0b0081e44ebafe746b3f5eeec4e": {
          "model_module": "@jupyter-widgets/controls",
          "model_name": "FloatProgressModel",
          "state": {
            "_view_name": "ProgressView",
            "style": "IPY_MODEL_0c0f048110d347f5b3d175591254e499",
            "_dom_classes": [],
            "description": "",
            "_model_name": "FloatProgressModel",
            "bar_style": "success",
            "max": 175,
            "_view_module": "@jupyter-widgets/controls",
            "_model_module_version": "1.5.0",
            "value": 175,
            "_view_count": null,
            "_view_module_version": "1.5.0",
            "orientation": "horizontal",
            "min": 0,
            "description_tooltip": null,
            "_model_module": "@jupyter-widgets/controls",
            "layout": "IPY_MODEL_df843d9b419041149f88019ea5643931"
          }
        },
        "1ab5380528da43baacf01a71d2f96b84": {
          "model_module": "@jupyter-widgets/controls",
          "model_name": "HTMLModel",
          "state": {
            "_view_name": "HTMLView",
            "style": "IPY_MODEL_e8f390acb7484a04bf66466b9b9e3e43",
            "_dom_classes": [],
            "description": "",
            "_model_name": "HTMLModel",
            "placeholder": "​",
            "_view_module": "@jupyter-widgets/controls",
            "_model_module_version": "1.5.0",
            "value": " 175/175 [00:29&lt;00:00,  5.91it/s]",
            "_view_count": null,
            "_view_module_version": "1.5.0",
            "description_tooltip": null,
            "_model_module": "@jupyter-widgets/controls",
            "layout": "IPY_MODEL_a08420fa3b144998a4a4481cba36b8df"
          }
        },
        "6157cfa4ce4b42b8ba272705629d07ce": {
          "model_module": "@jupyter-widgets/controls",
          "model_name": "DescriptionStyleModel",
          "state": {
            "_view_name": "StyleView",
            "_model_name": "DescriptionStyleModel",
            "description_width": "",
            "_view_module": "@jupyter-widgets/base",
            "_model_module_version": "1.5.0",
            "_view_count": null,
            "_view_module_version": "1.2.0",
            "_model_module": "@jupyter-widgets/controls"
          }
        },
        "cd9e995ce41a4166930a551be3c8e8d5": {
          "model_module": "@jupyter-widgets/base",
          "model_name": "LayoutModel",
          "state": {
            "_view_name": "LayoutView",
            "grid_template_rows": null,
            "right": null,
            "justify_content": null,
            "_view_module": "@jupyter-widgets/base",
            "overflow": null,
            "_model_module_version": "1.2.0",
            "_view_count": null,
            "flex_flow": null,
            "width": null,
            "min_width": null,
            "border": null,
            "align_items": null,
            "bottom": null,
            "_model_module": "@jupyter-widgets/base",
            "top": null,
            "grid_column": null,
            "overflow_y": null,
            "overflow_x": null,
            "grid_auto_flow": null,
            "grid_area": null,
            "grid_template_columns": null,
            "flex": null,
            "_model_name": "LayoutModel",
            "justify_items": null,
            "grid_row": null,
            "max_height": null,
            "align_content": null,
            "visibility": null,
            "align_self": null,
            "height": null,
            "min_height": null,
            "padding": null,
            "grid_auto_rows": null,
            "grid_gap": null,
            "max_width": null,
            "order": null,
            "_view_module_version": "1.2.0",
            "grid_template_areas": null,
            "object_position": null,
            "object_fit": null,
            "grid_auto_columns": null,
            "margin": null,
            "display": null,
            "left": null
          }
        },
        "0c0f048110d347f5b3d175591254e499": {
          "model_module": "@jupyter-widgets/controls",
          "model_name": "ProgressStyleModel",
          "state": {
            "_view_name": "StyleView",
            "_model_name": "ProgressStyleModel",
            "description_width": "",
            "_view_module": "@jupyter-widgets/base",
            "_model_module_version": "1.5.0",
            "_view_count": null,
            "_view_module_version": "1.2.0",
            "bar_color": null,
            "_model_module": "@jupyter-widgets/controls"
          }
        },
        "df843d9b419041149f88019ea5643931": {
          "model_module": "@jupyter-widgets/base",
          "model_name": "LayoutModel",
          "state": {
            "_view_name": "LayoutView",
            "grid_template_rows": null,
            "right": null,
            "justify_content": null,
            "_view_module": "@jupyter-widgets/base",
            "overflow": null,
            "_model_module_version": "1.2.0",
            "_view_count": null,
            "flex_flow": null,
            "width": null,
            "min_width": null,
            "border": null,
            "align_items": null,
            "bottom": null,
            "_model_module": "@jupyter-widgets/base",
            "top": null,
            "grid_column": null,
            "overflow_y": null,
            "overflow_x": null,
            "grid_auto_flow": null,
            "grid_area": null,
            "grid_template_columns": null,
            "flex": null,
            "_model_name": "LayoutModel",
            "justify_items": null,
            "grid_row": null,
            "max_height": null,
            "align_content": null,
            "visibility": null,
            "align_self": null,
            "height": null,
            "min_height": null,
            "padding": null,
            "grid_auto_rows": null,
            "grid_gap": null,
            "max_width": null,
            "order": null,
            "_view_module_version": "1.2.0",
            "grid_template_areas": null,
            "object_position": null,
            "object_fit": null,
            "grid_auto_columns": null,
            "margin": null,
            "display": null,
            "left": null
          }
        },
        "e8f390acb7484a04bf66466b9b9e3e43": {
          "model_module": "@jupyter-widgets/controls",
          "model_name": "DescriptionStyleModel",
          "state": {
            "_view_name": "StyleView",
            "_model_name": "DescriptionStyleModel",
            "description_width": "",
            "_view_module": "@jupyter-widgets/base",
            "_model_module_version": "1.5.0",
            "_view_count": null,
            "_view_module_version": "1.2.0",
            "_model_module": "@jupyter-widgets/controls"
          }
        },
        "a08420fa3b144998a4a4481cba36b8df": {
          "model_module": "@jupyter-widgets/base",
          "model_name": "LayoutModel",
          "state": {
            "_view_name": "LayoutView",
            "grid_template_rows": null,
            "right": null,
            "justify_content": null,
            "_view_module": "@jupyter-widgets/base",
            "overflow": null,
            "_model_module_version": "1.2.0",
            "_view_count": null,
            "flex_flow": null,
            "width": null,
            "min_width": null,
            "border": null,
            "align_items": null,
            "bottom": null,
            "_model_module": "@jupyter-widgets/base",
            "top": null,
            "grid_column": null,
            "overflow_y": null,
            "overflow_x": null,
            "grid_auto_flow": null,
            "grid_area": null,
            "grid_template_columns": null,
            "flex": null,
            "_model_name": "LayoutModel",
            "justify_items": null,
            "grid_row": null,
            "max_height": null,
            "align_content": null,
            "visibility": null,
            "align_self": null,
            "height": null,
            "min_height": null,
            "padding": null,
            "grid_auto_rows": null,
            "grid_gap": null,
            "max_width": null,
            "order": null,
            "_view_module_version": "1.2.0",
            "grid_template_areas": null,
            "object_position": null,
            "object_fit": null,
            "grid_auto_columns": null,
            "margin": null,
            "display": null,
            "left": null
          }
        },
        "a37e8b2dbce7469fbb90f0ac49547101": {
          "model_module": "@jupyter-widgets/controls",
          "model_name": "HBoxModel",
          "state": {
            "_view_name": "HBoxView",
            "_dom_classes": [],
            "_model_name": "HBoxModel",
            "_view_module": "@jupyter-widgets/controls",
            "_model_module_version": "1.5.0",
            "_view_count": null,
            "_view_module_version": "1.5.0",
            "box_style": "",
            "layout": "IPY_MODEL_2ff69ecf063a46a983986b5ed1bfc38c",
            "_model_module": "@jupyter-widgets/controls",
            "children": [
              "IPY_MODEL_80b425158ad6457abf775052abd5dff5",
              "IPY_MODEL_b4370d6692f548099974a25544b29d6f",
              "IPY_MODEL_194fb3c1efe74b5c9db8f696498cfa6a"
            ]
          }
        },
        "2ff69ecf063a46a983986b5ed1bfc38c": {
          "model_module": "@jupyter-widgets/base",
          "model_name": "LayoutModel",
          "state": {
            "_view_name": "LayoutView",
            "grid_template_rows": null,
            "right": null,
            "justify_content": null,
            "_view_module": "@jupyter-widgets/base",
            "overflow": null,
            "_model_module_version": "1.2.0",
            "_view_count": null,
            "flex_flow": null,
            "width": null,
            "min_width": null,
            "border": null,
            "align_items": null,
            "bottom": null,
            "_model_module": "@jupyter-widgets/base",
            "top": null,
            "grid_column": null,
            "overflow_y": null,
            "overflow_x": null,
            "grid_auto_flow": null,
            "grid_area": null,
            "grid_template_columns": null,
            "flex": null,
            "_model_name": "LayoutModel",
            "justify_items": null,
            "grid_row": null,
            "max_height": null,
            "align_content": null,
            "visibility": null,
            "align_self": null,
            "height": null,
            "min_height": null,
            "padding": null,
            "grid_auto_rows": null,
            "grid_gap": null,
            "max_width": null,
            "order": null,
            "_view_module_version": "1.2.0",
            "grid_template_areas": null,
            "object_position": null,
            "object_fit": null,
            "grid_auto_columns": null,
            "margin": null,
            "display": null,
            "left": null
          }
        },
        "80b425158ad6457abf775052abd5dff5": {
          "model_module": "@jupyter-widgets/controls",
          "model_name": "HTMLModel",
          "state": {
            "_view_name": "HTMLView",
            "style": "IPY_MODEL_3dbc3cd7f1c54a4b8543e01caa9d9d86",
            "_dom_classes": [],
            "description": "",
            "_model_name": "HTMLModel",
            "placeholder": "​",
            "_view_module": "@jupyter-widgets/controls",
            "_model_module_version": "1.5.0",
            "value": "  0%",
            "_view_count": null,
            "_view_module_version": "1.5.0",
            "description_tooltip": null,
            "_model_module": "@jupyter-widgets/controls",
            "layout": "IPY_MODEL_9559ecdc4d83473caa817d4e3bbfbcd8"
          }
        },
        "b4370d6692f548099974a25544b29d6f": {
          "model_module": "@jupyter-widgets/controls",
          "model_name": "FloatProgressModel",
          "state": {
            "_view_name": "ProgressView",
            "style": "IPY_MODEL_a2d0db52afd044f88177a6278df16f73",
            "_dom_classes": [],
            "description": "",
            "_model_name": "FloatProgressModel",
            "bar_style": "danger",
            "max": 1200,
            "_view_module": "@jupyter-widgets/controls",
            "_model_module_version": "1.5.0",
            "value": 3,
            "_view_count": null,
            "_view_module_version": "1.5.0",
            "orientation": "horizontal",
            "min": 0,
            "description_tooltip": null,
            "_model_module": "@jupyter-widgets/controls",
            "layout": "IPY_MODEL_b62cc28b00c24c7f966dbab3bcc071cb"
          }
        },
        "194fb3c1efe74b5c9db8f696498cfa6a": {
          "model_module": "@jupyter-widgets/controls",
          "model_name": "HTMLModel",
          "state": {
            "_view_name": "HTMLView",
            "style": "IPY_MODEL_b92eb60a4d8441feba7051ed0a09f69e",
            "_dom_classes": [],
            "description": "",
            "_model_name": "HTMLModel",
            "placeholder": "​",
            "_view_module": "@jupyter-widgets/controls",
            "_model_module_version": "1.5.0",
            "value": " 3/1200 [00:01&lt;21:19,  1.07s/it]",
            "_view_count": null,
            "_view_module_version": "1.5.0",
            "description_tooltip": null,
            "_model_module": "@jupyter-widgets/controls",
            "layout": "IPY_MODEL_cf82b8e3307a43f181cf24659222d135"
          }
        },
        "3dbc3cd7f1c54a4b8543e01caa9d9d86": {
          "model_module": "@jupyter-widgets/controls",
          "model_name": "DescriptionStyleModel",
          "state": {
            "_view_name": "StyleView",
            "_model_name": "DescriptionStyleModel",
            "description_width": "",
            "_view_module": "@jupyter-widgets/base",
            "_model_module_version": "1.5.0",
            "_view_count": null,
            "_view_module_version": "1.2.0",
            "_model_module": "@jupyter-widgets/controls"
          }
        },
        "9559ecdc4d83473caa817d4e3bbfbcd8": {
          "model_module": "@jupyter-widgets/base",
          "model_name": "LayoutModel",
          "state": {
            "_view_name": "LayoutView",
            "grid_template_rows": null,
            "right": null,
            "justify_content": null,
            "_view_module": "@jupyter-widgets/base",
            "overflow": null,
            "_model_module_version": "1.2.0",
            "_view_count": null,
            "flex_flow": null,
            "width": null,
            "min_width": null,
            "border": null,
            "align_items": null,
            "bottom": null,
            "_model_module": "@jupyter-widgets/base",
            "top": null,
            "grid_column": null,
            "overflow_y": null,
            "overflow_x": null,
            "grid_auto_flow": null,
            "grid_area": null,
            "grid_template_columns": null,
            "flex": null,
            "_model_name": "LayoutModel",
            "justify_items": null,
            "grid_row": null,
            "max_height": null,
            "align_content": null,
            "visibility": null,
            "align_self": null,
            "height": null,
            "min_height": null,
            "padding": null,
            "grid_auto_rows": null,
            "grid_gap": null,
            "max_width": null,
            "order": null,
            "_view_module_version": "1.2.0",
            "grid_template_areas": null,
            "object_position": null,
            "object_fit": null,
            "grid_auto_columns": null,
            "margin": null,
            "display": null,
            "left": null
          }
        },
        "a2d0db52afd044f88177a6278df16f73": {
          "model_module": "@jupyter-widgets/controls",
          "model_name": "ProgressStyleModel",
          "state": {
            "_view_name": "StyleView",
            "_model_name": "ProgressStyleModel",
            "description_width": "",
            "_view_module": "@jupyter-widgets/base",
            "_model_module_version": "1.5.0",
            "_view_count": null,
            "_view_module_version": "1.2.0",
            "bar_color": null,
            "_model_module": "@jupyter-widgets/controls"
          }
        },
        "b62cc28b00c24c7f966dbab3bcc071cb": {
          "model_module": "@jupyter-widgets/base",
          "model_name": "LayoutModel",
          "state": {
            "_view_name": "LayoutView",
            "grid_template_rows": null,
            "right": null,
            "justify_content": null,
            "_view_module": "@jupyter-widgets/base",
            "overflow": null,
            "_model_module_version": "1.2.0",
            "_view_count": null,
            "flex_flow": null,
            "width": null,
            "min_width": null,
            "border": null,
            "align_items": null,
            "bottom": null,
            "_model_module": "@jupyter-widgets/base",
            "top": null,
            "grid_column": null,
            "overflow_y": null,
            "overflow_x": null,
            "grid_auto_flow": null,
            "grid_area": null,
            "grid_template_columns": null,
            "flex": null,
            "_model_name": "LayoutModel",
            "justify_items": null,
            "grid_row": null,
            "max_height": null,
            "align_content": null,
            "visibility": null,
            "align_self": null,
            "height": null,
            "min_height": null,
            "padding": null,
            "grid_auto_rows": null,
            "grid_gap": null,
            "max_width": null,
            "order": null,
            "_view_module_version": "1.2.0",
            "grid_template_areas": null,
            "object_position": null,
            "object_fit": null,
            "grid_auto_columns": null,
            "margin": null,
            "display": null,
            "left": null
          }
        },
        "b92eb60a4d8441feba7051ed0a09f69e": {
          "model_module": "@jupyter-widgets/controls",
          "model_name": "DescriptionStyleModel",
          "state": {
            "_view_name": "StyleView",
            "_model_name": "DescriptionStyleModel",
            "description_width": "",
            "_view_module": "@jupyter-widgets/base",
            "_model_module_version": "1.5.0",
            "_view_count": null,
            "_view_module_version": "1.2.0",
            "_model_module": "@jupyter-widgets/controls"
          }
        },
        "cf82b8e3307a43f181cf24659222d135": {
          "model_module": "@jupyter-widgets/base",
          "model_name": "LayoutModel",
          "state": {
            "_view_name": "LayoutView",
            "grid_template_rows": null,
            "right": null,
            "justify_content": null,
            "_view_module": "@jupyter-widgets/base",
            "overflow": null,
            "_model_module_version": "1.2.0",
            "_view_count": null,
            "flex_flow": null,
            "width": null,
            "min_width": null,
            "border": null,
            "align_items": null,
            "bottom": null,
            "_model_module": "@jupyter-widgets/base",
            "top": null,
            "grid_column": null,
            "overflow_y": null,
            "overflow_x": null,
            "grid_auto_flow": null,
            "grid_area": null,
            "grid_template_columns": null,
            "flex": null,
            "_model_name": "LayoutModel",
            "justify_items": null,
            "grid_row": null,
            "max_height": null,
            "align_content": null,
            "visibility": null,
            "align_self": null,
            "height": null,
            "min_height": null,
            "padding": null,
            "grid_auto_rows": null,
            "grid_gap": null,
            "max_width": null,
            "order": null,
            "_view_module_version": "1.2.0",
            "grid_template_areas": null,
            "object_position": null,
            "object_fit": null,
            "grid_auto_columns": null,
            "margin": null,
            "display": null,
            "left": null
          }
        },
        "b85b707d22ff4199bd4d5557eb66521b": {
          "model_module": "@jupyter-widgets/controls",
          "model_name": "HBoxModel",
          "state": {
            "_view_name": "HBoxView",
            "_dom_classes": [],
            "_model_name": "HBoxModel",
            "_view_module": "@jupyter-widgets/controls",
            "_model_module_version": "1.5.0",
            "_view_count": null,
            "_view_module_version": "1.5.0",
            "box_style": "",
            "layout": "IPY_MODEL_b9cdc0f509bf4f0aac20b4b493d4815d",
            "_model_module": "@jupyter-widgets/controls",
            "children": [
              "IPY_MODEL_c52602b9d1654a7c827928d540edb411",
              "IPY_MODEL_23482885954444dc843500598b0460ca",
              "IPY_MODEL_a1bdd93837cf4953bc0f308f989769dd"
            ]
          }
        },
        "b9cdc0f509bf4f0aac20b4b493d4815d": {
          "model_module": "@jupyter-widgets/base",
          "model_name": "LayoutModel",
          "state": {
            "_view_name": "LayoutView",
            "grid_template_rows": null,
            "right": null,
            "justify_content": null,
            "_view_module": "@jupyter-widgets/base",
            "overflow": null,
            "_model_module_version": "1.2.0",
            "_view_count": null,
            "flex_flow": null,
            "width": null,
            "min_width": null,
            "border": null,
            "align_items": null,
            "bottom": null,
            "_model_module": "@jupyter-widgets/base",
            "top": null,
            "grid_column": null,
            "overflow_y": null,
            "overflow_x": null,
            "grid_auto_flow": null,
            "grid_area": null,
            "grid_template_columns": null,
            "flex": null,
            "_model_name": "LayoutModel",
            "justify_items": null,
            "grid_row": null,
            "max_height": null,
            "align_content": null,
            "visibility": null,
            "align_self": null,
            "height": null,
            "min_height": null,
            "padding": null,
            "grid_auto_rows": null,
            "grid_gap": null,
            "max_width": null,
            "order": null,
            "_view_module_version": "1.2.0",
            "grid_template_areas": null,
            "object_position": null,
            "object_fit": null,
            "grid_auto_columns": null,
            "margin": null,
            "display": null,
            "left": null
          }
        },
        "c52602b9d1654a7c827928d540edb411": {
          "model_module": "@jupyter-widgets/controls",
          "model_name": "HTMLModel",
          "state": {
            "_view_name": "HTMLView",
            "style": "IPY_MODEL_05916b4ba86149e8b235e78e4b1a291f",
            "_dom_classes": [],
            "description": "",
            "_model_name": "HTMLModel",
            "placeholder": "​",
            "_view_module": "@jupyter-widgets/controls",
            "_model_module_version": "1.5.0",
            "value": "  0%",
            "_view_count": null,
            "_view_module_version": "1.5.0",
            "description_tooltip": null,
            "_model_module": "@jupyter-widgets/controls",
            "layout": "IPY_MODEL_1e304b47ee564b45b4c267ed225b38a1"
          }
        },
        "23482885954444dc843500598b0460ca": {
          "model_module": "@jupyter-widgets/controls",
          "model_name": "FloatProgressModel",
          "state": {
            "_view_name": "ProgressView",
            "style": "IPY_MODEL_0e43d4df6c1c4a93b199114a6a6554d3",
            "_dom_classes": [],
            "description": "",
            "_model_name": "FloatProgressModel",
            "bar_style": "danger",
            "max": 1200,
            "_view_module": "@jupyter-widgets/controls",
            "_model_module_version": "1.5.0",
            "value": 3,
            "_view_count": null,
            "_view_module_version": "1.5.0",
            "orientation": "horizontal",
            "min": 0,
            "description_tooltip": null,
            "_model_module": "@jupyter-widgets/controls",
            "layout": "IPY_MODEL_36df1a917f6a4e01af3f3967204c740c"
          }
        },
        "a1bdd93837cf4953bc0f308f989769dd": {
          "model_module": "@jupyter-widgets/controls",
          "model_name": "HTMLModel",
          "state": {
            "_view_name": "HTMLView",
            "style": "IPY_MODEL_3c58dfedb4dd4d4f808173471ef63036",
            "_dom_classes": [],
            "description": "",
            "_model_name": "HTMLModel",
            "placeholder": "​",
            "_view_module": "@jupyter-widgets/controls",
            "_model_module_version": "1.5.0",
            "value": " 3/1200 [00:01&lt;19:36,  1.02it/s]",
            "_view_count": null,
            "_view_module_version": "1.5.0",
            "description_tooltip": null,
            "_model_module": "@jupyter-widgets/controls",
            "layout": "IPY_MODEL_5a931be92baf4228afeb3c391534fe14"
          }
        },
        "05916b4ba86149e8b235e78e4b1a291f": {
          "model_module": "@jupyter-widgets/controls",
          "model_name": "DescriptionStyleModel",
          "state": {
            "_view_name": "StyleView",
            "_model_name": "DescriptionStyleModel",
            "description_width": "",
            "_view_module": "@jupyter-widgets/base",
            "_model_module_version": "1.5.0",
            "_view_count": null,
            "_view_module_version": "1.2.0",
            "_model_module": "@jupyter-widgets/controls"
          }
        },
        "1e304b47ee564b45b4c267ed225b38a1": {
          "model_module": "@jupyter-widgets/base",
          "model_name": "LayoutModel",
          "state": {
            "_view_name": "LayoutView",
            "grid_template_rows": null,
            "right": null,
            "justify_content": null,
            "_view_module": "@jupyter-widgets/base",
            "overflow": null,
            "_model_module_version": "1.2.0",
            "_view_count": null,
            "flex_flow": null,
            "width": null,
            "min_width": null,
            "border": null,
            "align_items": null,
            "bottom": null,
            "_model_module": "@jupyter-widgets/base",
            "top": null,
            "grid_column": null,
            "overflow_y": null,
            "overflow_x": null,
            "grid_auto_flow": null,
            "grid_area": null,
            "grid_template_columns": null,
            "flex": null,
            "_model_name": "LayoutModel",
            "justify_items": null,
            "grid_row": null,
            "max_height": null,
            "align_content": null,
            "visibility": null,
            "align_self": null,
            "height": null,
            "min_height": null,
            "padding": null,
            "grid_auto_rows": null,
            "grid_gap": null,
            "max_width": null,
            "order": null,
            "_view_module_version": "1.2.0",
            "grid_template_areas": null,
            "object_position": null,
            "object_fit": null,
            "grid_auto_columns": null,
            "margin": null,
            "display": null,
            "left": null
          }
        },
        "0e43d4df6c1c4a93b199114a6a6554d3": {
          "model_module": "@jupyter-widgets/controls",
          "model_name": "ProgressStyleModel",
          "state": {
            "_view_name": "StyleView",
            "_model_name": "ProgressStyleModel",
            "description_width": "",
            "_view_module": "@jupyter-widgets/base",
            "_model_module_version": "1.5.0",
            "_view_count": null,
            "_view_module_version": "1.2.0",
            "bar_color": null,
            "_model_module": "@jupyter-widgets/controls"
          }
        },
        "36df1a917f6a4e01af3f3967204c740c": {
          "model_module": "@jupyter-widgets/base",
          "model_name": "LayoutModel",
          "state": {
            "_view_name": "LayoutView",
            "grid_template_rows": null,
            "right": null,
            "justify_content": null,
            "_view_module": "@jupyter-widgets/base",
            "overflow": null,
            "_model_module_version": "1.2.0",
            "_view_count": null,
            "flex_flow": null,
            "width": null,
            "min_width": null,
            "border": null,
            "align_items": null,
            "bottom": null,
            "_model_module": "@jupyter-widgets/base",
            "top": null,
            "grid_column": null,
            "overflow_y": null,
            "overflow_x": null,
            "grid_auto_flow": null,
            "grid_area": null,
            "grid_template_columns": null,
            "flex": null,
            "_model_name": "LayoutModel",
            "justify_items": null,
            "grid_row": null,
            "max_height": null,
            "align_content": null,
            "visibility": null,
            "align_self": null,
            "height": null,
            "min_height": null,
            "padding": null,
            "grid_auto_rows": null,
            "grid_gap": null,
            "max_width": null,
            "order": null,
            "_view_module_version": "1.2.0",
            "grid_template_areas": null,
            "object_position": null,
            "object_fit": null,
            "grid_auto_columns": null,
            "margin": null,
            "display": null,
            "left": null
          }
        },
        "3c58dfedb4dd4d4f808173471ef63036": {
          "model_module": "@jupyter-widgets/controls",
          "model_name": "DescriptionStyleModel",
          "state": {
            "_view_name": "StyleView",
            "_model_name": "DescriptionStyleModel",
            "description_width": "",
            "_view_module": "@jupyter-widgets/base",
            "_model_module_version": "1.5.0",
            "_view_count": null,
            "_view_module_version": "1.2.0",
            "_model_module": "@jupyter-widgets/controls"
          }
        },
        "5a931be92baf4228afeb3c391534fe14": {
          "model_module": "@jupyter-widgets/base",
          "model_name": "LayoutModel",
          "state": {
            "_view_name": "LayoutView",
            "grid_template_rows": null,
            "right": null,
            "justify_content": null,
            "_view_module": "@jupyter-widgets/base",
            "overflow": null,
            "_model_module_version": "1.2.0",
            "_view_count": null,
            "flex_flow": null,
            "width": null,
            "min_width": null,
            "border": null,
            "align_items": null,
            "bottom": null,
            "_model_module": "@jupyter-widgets/base",
            "top": null,
            "grid_column": null,
            "overflow_y": null,
            "overflow_x": null,
            "grid_auto_flow": null,
            "grid_area": null,
            "grid_template_columns": null,
            "flex": null,
            "_model_name": "LayoutModel",
            "justify_items": null,
            "grid_row": null,
            "max_height": null,
            "align_content": null,
            "visibility": null,
            "align_self": null,
            "height": null,
            "min_height": null,
            "padding": null,
            "grid_auto_rows": null,
            "grid_gap": null,
            "max_width": null,
            "order": null,
            "_view_module_version": "1.2.0",
            "grid_template_areas": null,
            "object_position": null,
            "object_fit": null,
            "grid_auto_columns": null,
            "margin": null,
            "display": null,
            "left": null
          }
        },
        "e6a51bf03c97482ea8f6a1ff48b5ebc7": {
          "model_module": "@jupyter-widgets/controls",
          "model_name": "HBoxModel",
          "state": {
            "_view_name": "HBoxView",
            "_dom_classes": [],
            "_model_name": "HBoxModel",
            "_view_module": "@jupyter-widgets/controls",
            "_model_module_version": "1.5.0",
            "_view_count": null,
            "_view_module_version": "1.5.0",
            "box_style": "",
            "layout": "IPY_MODEL_28c062849cb745fca8ddcede1832f883",
            "_model_module": "@jupyter-widgets/controls",
            "children": [
              "IPY_MODEL_43a92c3253b24ccf8bc8592fab3c7044",
              "IPY_MODEL_29752465db154d8c846eaef102e8a24b",
              "IPY_MODEL_120bd0895b364efc8438a50dc805953e"
            ]
          }
        },
        "28c062849cb745fca8ddcede1832f883": {
          "model_module": "@jupyter-widgets/base",
          "model_name": "LayoutModel",
          "state": {
            "_view_name": "LayoutView",
            "grid_template_rows": null,
            "right": null,
            "justify_content": null,
            "_view_module": "@jupyter-widgets/base",
            "overflow": null,
            "_model_module_version": "1.2.0",
            "_view_count": null,
            "flex_flow": null,
            "width": null,
            "min_width": null,
            "border": null,
            "align_items": null,
            "bottom": null,
            "_model_module": "@jupyter-widgets/base",
            "top": null,
            "grid_column": null,
            "overflow_y": null,
            "overflow_x": null,
            "grid_auto_flow": null,
            "grid_area": null,
            "grid_template_columns": null,
            "flex": null,
            "_model_name": "LayoutModel",
            "justify_items": null,
            "grid_row": null,
            "max_height": null,
            "align_content": null,
            "visibility": null,
            "align_self": null,
            "height": null,
            "min_height": null,
            "padding": null,
            "grid_auto_rows": null,
            "grid_gap": null,
            "max_width": null,
            "order": null,
            "_view_module_version": "1.2.0",
            "grid_template_areas": null,
            "object_position": null,
            "object_fit": null,
            "grid_auto_columns": null,
            "margin": null,
            "display": null,
            "left": null
          }
        },
        "43a92c3253b24ccf8bc8592fab3c7044": {
          "model_module": "@jupyter-widgets/controls",
          "model_name": "HTMLModel",
          "state": {
            "_view_name": "HTMLView",
            "style": "IPY_MODEL_cedbb036bd1b45768892160c197c728e",
            "_dom_classes": [],
            "description": "",
            "_model_name": "HTMLModel",
            "placeholder": "​",
            "_view_module": "@jupyter-widgets/controls",
            "_model_module_version": "1.5.0",
            "value": "Running Evaluation: 100%",
            "_view_count": null,
            "_view_module_version": "1.5.0",
            "description_tooltip": null,
            "_model_module": "@jupyter-widgets/controls",
            "layout": "IPY_MODEL_43df9e06058c456a89cdcb40d8aee648"
          }
        },
        "29752465db154d8c846eaef102e8a24b": {
          "model_module": "@jupyter-widgets/controls",
          "model_name": "FloatProgressModel",
          "state": {
            "_view_name": "ProgressView",
            "style": "IPY_MODEL_1215b3a194524a7597ff7c25c327db5b",
            "_dom_classes": [],
            "description": "",
            "_model_name": "FloatProgressModel",
            "bar_style": "success",
            "max": 75,
            "_view_module": "@jupyter-widgets/controls",
            "_model_module_version": "1.5.0",
            "value": 75,
            "_view_count": null,
            "_view_module_version": "1.5.0",
            "orientation": "horizontal",
            "min": 0,
            "description_tooltip": null,
            "_model_module": "@jupyter-widgets/controls",
            "layout": "IPY_MODEL_c48ca2e072904da99d0d37d92fe500a6"
          }
        },
        "120bd0895b364efc8438a50dc805953e": {
          "model_module": "@jupyter-widgets/controls",
          "model_name": "HTMLModel",
          "state": {
            "_view_name": "HTMLView",
            "style": "IPY_MODEL_9d8a8ba775a24bd0bb4de8b4e8555125",
            "_dom_classes": [],
            "description": "",
            "_model_name": "HTMLModel",
            "placeholder": "​",
            "_view_module": "@jupyter-widgets/controls",
            "_model_module_version": "1.5.0",
            "value": " 75/75 [00:03&lt;00:00, 22.23it/s]",
            "_view_count": null,
            "_view_module_version": "1.5.0",
            "description_tooltip": null,
            "_model_module": "@jupyter-widgets/controls",
            "layout": "IPY_MODEL_cede5d9334684e0c8c9c8ae222836980"
          }
        },
        "cedbb036bd1b45768892160c197c728e": {
          "model_module": "@jupyter-widgets/controls",
          "model_name": "DescriptionStyleModel",
          "state": {
            "_view_name": "StyleView",
            "_model_name": "DescriptionStyleModel",
            "description_width": "",
            "_view_module": "@jupyter-widgets/base",
            "_model_module_version": "1.5.0",
            "_view_count": null,
            "_view_module_version": "1.2.0",
            "_model_module": "@jupyter-widgets/controls"
          }
        },
        "43df9e06058c456a89cdcb40d8aee648": {
          "model_module": "@jupyter-widgets/base",
          "model_name": "LayoutModel",
          "state": {
            "_view_name": "LayoutView",
            "grid_template_rows": null,
            "right": null,
            "justify_content": null,
            "_view_module": "@jupyter-widgets/base",
            "overflow": null,
            "_model_module_version": "1.2.0",
            "_view_count": null,
            "flex_flow": null,
            "width": null,
            "min_width": null,
            "border": null,
            "align_items": null,
            "bottom": null,
            "_model_module": "@jupyter-widgets/base",
            "top": null,
            "grid_column": null,
            "overflow_y": null,
            "overflow_x": null,
            "grid_auto_flow": null,
            "grid_area": null,
            "grid_template_columns": null,
            "flex": null,
            "_model_name": "LayoutModel",
            "justify_items": null,
            "grid_row": null,
            "max_height": null,
            "align_content": null,
            "visibility": null,
            "align_self": null,
            "height": null,
            "min_height": null,
            "padding": null,
            "grid_auto_rows": null,
            "grid_gap": null,
            "max_width": null,
            "order": null,
            "_view_module_version": "1.2.0",
            "grid_template_areas": null,
            "object_position": null,
            "object_fit": null,
            "grid_auto_columns": null,
            "margin": null,
            "display": null,
            "left": null
          }
        },
        "1215b3a194524a7597ff7c25c327db5b": {
          "model_module": "@jupyter-widgets/controls",
          "model_name": "ProgressStyleModel",
          "state": {
            "_view_name": "StyleView",
            "_model_name": "ProgressStyleModel",
            "description_width": "",
            "_view_module": "@jupyter-widgets/base",
            "_model_module_version": "1.5.0",
            "_view_count": null,
            "_view_module_version": "1.2.0",
            "bar_color": null,
            "_model_module": "@jupyter-widgets/controls"
          }
        },
        "c48ca2e072904da99d0d37d92fe500a6": {
          "model_module": "@jupyter-widgets/base",
          "model_name": "LayoutModel",
          "state": {
            "_view_name": "LayoutView",
            "grid_template_rows": null,
            "right": null,
            "justify_content": null,
            "_view_module": "@jupyter-widgets/base",
            "overflow": null,
            "_model_module_version": "1.2.0",
            "_view_count": null,
            "flex_flow": null,
            "width": null,
            "min_width": null,
            "border": null,
            "align_items": null,
            "bottom": null,
            "_model_module": "@jupyter-widgets/base",
            "top": null,
            "grid_column": null,
            "overflow_y": null,
            "overflow_x": null,
            "grid_auto_flow": null,
            "grid_area": null,
            "grid_template_columns": null,
            "flex": null,
            "_model_name": "LayoutModel",
            "justify_items": null,
            "grid_row": null,
            "max_height": null,
            "align_content": null,
            "visibility": null,
            "align_self": null,
            "height": null,
            "min_height": null,
            "padding": null,
            "grid_auto_rows": null,
            "grid_gap": null,
            "max_width": null,
            "order": null,
            "_view_module_version": "1.2.0",
            "grid_template_areas": null,
            "object_position": null,
            "object_fit": null,
            "grid_auto_columns": null,
            "margin": null,
            "display": null,
            "left": null
          }
        },
        "9d8a8ba775a24bd0bb4de8b4e8555125": {
          "model_module": "@jupyter-widgets/controls",
          "model_name": "DescriptionStyleModel",
          "state": {
            "_view_name": "StyleView",
            "_model_name": "DescriptionStyleModel",
            "description_width": "",
            "_view_module": "@jupyter-widgets/base",
            "_model_module_version": "1.5.0",
            "_view_count": null,
            "_view_module_version": "1.2.0",
            "_model_module": "@jupyter-widgets/controls"
          }
        },
        "cede5d9334684e0c8c9c8ae222836980": {
          "model_module": "@jupyter-widgets/base",
          "model_name": "LayoutModel",
          "state": {
            "_view_name": "LayoutView",
            "grid_template_rows": null,
            "right": null,
            "justify_content": null,
            "_view_module": "@jupyter-widgets/base",
            "overflow": null,
            "_model_module_version": "1.2.0",
            "_view_count": null,
            "flex_flow": null,
            "width": null,
            "min_width": null,
            "border": null,
            "align_items": null,
            "bottom": null,
            "_model_module": "@jupyter-widgets/base",
            "top": null,
            "grid_column": null,
            "overflow_y": null,
            "overflow_x": null,
            "grid_auto_flow": null,
            "grid_area": null,
            "grid_template_columns": null,
            "flex": null,
            "_model_name": "LayoutModel",
            "justify_items": null,
            "grid_row": null,
            "max_height": null,
            "align_content": null,
            "visibility": null,
            "align_self": null,
            "height": null,
            "min_height": null,
            "padding": null,
            "grid_auto_rows": null,
            "grid_gap": null,
            "max_width": null,
            "order": null,
            "_view_module_version": "1.2.0",
            "grid_template_areas": null,
            "object_position": null,
            "object_fit": null,
            "grid_auto_columns": null,
            "margin": null,
            "display": null,
            "left": null
          }
        }
      }
    }
  },
  "cells": [
    {
      "cell_type": "markdown",
      "metadata": {
        "id": "view-in-github",
        "colab_type": "text"
      },
      "source": [
        "<a href=\"https://colab.research.google.com/github/fabuloudy/diploma/blob/main/detection_generated_texts.ipynb\" target=\"_parent\"><img src=\"https://colab.research.google.com/assets/colab-badge.svg\" alt=\"Open In Colab\"/></a>"
      ]
    },
    {
      "cell_type": "markdown",
      "metadata": {
        "id": "KyqCeSLq7Ycq"
      },
      "source": [
        "## Обработка датасета"
      ]
    },
    {
      "cell_type": "code",
      "metadata": {
        "colab": {
          "resources": {
            "http://localhost:8080/nbextensions/google.colab/files.js": {
              "data": "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",
              "ok": true,
              "headers": [
                [
                  "content-type",
                  "application/javascript"
                ]
              ],
              "status": 200,
              "status_text": ""
            }
          },
          "base_uri": "https://localhost:8080/",
          "height": 73
        },
        "id": "JOc4dihk7rSo",
        "outputId": "3dd3a867-73fa-4874-a802-223c84feef72"
      },
      "source": [
        "from google.colab import files\n",
        "uploaded = files.upload()\n"
      ],
      "execution_count": 1,
      "outputs": [
        {
          "output_type": "display_data",
          "data": {
            "text/html": [
              "\n",
              "     <input type=\"file\" id=\"files-d77af08a-ff5e-497d-8d0c-cf96238e2597\" name=\"files[]\" multiple disabled\n",
              "        style=\"border:none\" />\n",
              "     <output id=\"result-d77af08a-ff5e-497d-8d0c-cf96238e2597\">\n",
              "      Upload widget is only available when the cell has been executed in the\n",
              "      current browser session. Please rerun this cell to enable.\n",
              "      </output>\n",
              "      <script src=\"/nbextensions/google.colab/files.js\"></script> "
            ],
            "text/plain": [
              "<IPython.core.display.HTML object>"
            ]
          },
          "metadata": {
            "tags": []
          }
        },
        {
          "output_type": "stream",
          "text": [
            "Saving data_texts.csv to data_texts.csv\n"
          ],
          "name": "stdout"
        }
      ]
    },
    {
      "cell_type": "code",
      "metadata": {
        "id": "mauFpI_LG_Qm"
      },
      "source": [
        "\n",
        "!pip install simpletransformers"
      ],
      "execution_count": null,
      "outputs": []
    },
    {
      "cell_type": "code",
      "metadata": {
        "id": "376wys5W9j2J"
      },
      "source": [
        "import pandas as pd\n",
        "import random\n",
        "df = pd.read_csv(\"data_texts.csv\")\n",
        "df['Data_generate'] = df['Data_generate'].apply(lambda x: x.replace('\\xa0', ' ').replace('\\n',' '))\n",
        "df['Original_data'] = df['Original_data'].apply(lambda x: ' '.join(x.split()[:random.randint(50,70)]))\n",
        "\n",
        "\n"
      ],
      "execution_count": 10,
      "outputs": []
    },
    {
      "cell_type": "code",
      "metadata": {
        "id": "Ar3DF5pUSEXz"
      },
      "source": [
        "df.to_csv(\"dataset.csv\", sep=';', encoding='utf-8')"
      ],
      "execution_count": 11,
      "outputs": []
    },
    {
      "cell_type": "code",
      "metadata": {
        "colab": {
          "base_uri": "https://localhost:8080/"
        },
        "id": "pw1uaKo0IjAE",
        "outputId": "1c86b9ce-ae1d-4ead-8d18-d371d1ee9005"
      },
      "source": [
        "df.columns.values"
      ],
      "execution_count": null,
      "outputs": [
        {
          "output_type": "execute_result",
          "data": {
            "text/plain": [
              "array(['Title', 'Topic', 'Data_generate', 'Original_data'], dtype=object)"
            ]
          },
          "metadata": {
            "tags": []
          },
          "execution_count": 5
        }
      ]
    },
    {
      "cell_type": "code",
      "metadata": {
        "id": "N61Jk1O3O3F_"
      },
      "source": [
        "label_gen = [0 for i in range(2000)]\n",
        "label_orig  = [1 for i in range(2000)]"
      ],
      "execution_count": null,
      "outputs": []
    },
    {
      "cell_type": "code",
      "metadata": {
        "id": "P9vPq8DsJJTx"
      },
      "source": [
        "import random\n",
        "generated = df['Data_generate']\n",
        "df['Original_data'] = df['Original_data'].apply(lambda x: x.split()[:random.randint(50,70)])\n",
        "origin = df['Original_data']\n",
        "res = list(generated)\n",
        "origin = [' '.join(seq) for seq in origin]\n",
        "\n",
        "\n",
        "\n",
        "data_gen = zip(list(generated),label_gen)\n",
        "data_orig = zip(list(origin),label_orig)\n",
        "train_data = list(data_gen) + list(data_orig)\n",
        "\n",
        "  \n",
        "random.shuffle(train_data)\n",
        "\n"
      ],
      "execution_count": null,
      "outputs": []
    },
    {
      "cell_type": "code",
      "metadata": {
        "colab": {
          "base_uri": "https://localhost:8080/"
        },
        "id": "kjtYP6aAbor1",
        "outputId": "61c59eca-6239-4070-a18a-ba46df687d6a"
      },
      "source": [
        "print(res[100:200])"
      ],
      "execution_count": null,
      "outputs": [
        {
          "output_type": "stream",
          "text": [
            "Empty DataFrame\n",
            "Columns: [text, labels]\n",
            "Index: []\n"
          ],
          "name": "stdout"
        }
      ]
    },
    {
      "cell_type": "code",
      "metadata": {
        "colab": {
          "base_uri": "https://localhost:8080/"
        },
        "id": "LpSA6SGpemJH",
        "outputId": "8bb9939b-305e-447e-9c91-20e31a1a140d"
      },
      "source": [
        "print(len(train_data))"
      ],
      "execution_count": null,
      "outputs": [
        {
          "output_type": "stream",
          "text": [
            "4000\n"
          ],
          "name": "stdout"
        }
      ]
    },
    {
      "cell_type": "code",
      "metadata": {
        "id": "S6UkLqitbZVa"
      },
      "source": [
        "correct = 0\n",
        "all = 0\n",
        "index_list = list()\n",
        "for i,(text,label) in enumerate(train_data):\n",
        "  index = text.find('...')\n",
        "  if index != -1:\n",
        "    all += 1\n",
        "    index_list.append(i)\n",
        "    if label == 0:\n",
        "      correct += 1\n",
        "    else:\n",
        "      print(text)\n",
        "\n",
        "print(correct/all)\n",
        "print(correct)"
      ],
      "execution_count": null,
      "outputs": []
    },
    {
      "cell_type": "code",
      "metadata": {
        "colab": {
          "base_uri": "https://localhost:8080/"
        },
        "id": "coNfx1LieOQq",
        "outputId": "2d0132c5-ef77-4380-d80a-a2f105dbacf4"
      },
      "source": [
        "print(index_list)\n",
        "print(len(train_data))\n",
        "shab_train_data = list()\n",
        "for i,data in enumerate(train_data):\n",
        "  if i not in index_list:\n",
        "    shab_train_data.append(data)\n",
        "print(len(shab_train_data))\n"
      ],
      "execution_count": null,
      "outputs": [
        {
          "output_type": "stream",
          "text": [
            "[10, 13, 32, 41, 86, 92, 97, 106, 115, 118, 120, 138, 156, 157, 162, 164, 165, 166, 176, 178, 181, 182, 193, 195, 197, 223, 224, 231, 234, 235, 237, 257, 258, 268, 270, 273, 274, 277, 278, 279, 284, 300, 309, 310, 322, 323, 358, 363, 366, 371, 393, 394, 421, 452, 458, 461, 480, 486, 500, 510, 513, 514, 518, 522, 528, 529, 531, 534, 535, 540, 544, 551, 553, 559, 561, 580, 584, 587, 613, 619, 624, 633, 653, 659, 661, 662, 672, 675, 685, 686, 687, 696, 712, 713, 715, 722, 748, 750, 765, 770, 771, 784, 799, 804, 817, 818, 824, 827, 829, 830, 842, 843, 850, 851, 864, 868, 872, 888, 893, 900, 911, 914, 918, 920, 936, 944, 947, 948, 949, 956, 957, 958, 959, 966, 967, 969, 977, 996, 998, 1000, 1001, 1009, 1010, 1019, 1020, 1023, 1024, 1028, 1037, 1038, 1039, 1050, 1051, 1052, 1054, 1056, 1062, 1065, 1079, 1105, 1112, 1116, 1117, 1125, 1130, 1139, 1142, 1148, 1150, 1154, 1156, 1160, 1164, 1166, 1176, 1179, 1180, 1205, 1211, 1214, 1227, 1228, 1236, 1257, 1258, 1268, 1273, 1279, 1282, 1288, 1294, 1295, 1302, 1311, 1319, 1320, 1328, 1340, 1351, 1368, 1374, 1389, 1391, 1392, 1393, 1399, 1401, 1403, 1409, 1420, 1445, 1452, 1455, 1463, 1467, 1479, 1482, 1486, 1488, 1491, 1498, 1504, 1536, 1549, 1563, 1589, 1590, 1591, 1594, 1595, 1596, 1605, 1607, 1611, 1615, 1623, 1635, 1636, 1637, 1638, 1650, 1654, 1666, 1668, 1672, 1675, 1701, 1706, 1709, 1730, 1743, 1744, 1761, 1770, 1773, 1784, 1787, 1792, 1813, 1818, 1819, 1824, 1833, 1836, 1837, 1840, 1860, 1862, 1872, 1878, 1895, 1902, 1904, 1917, 1929, 1949, 1967, 1980, 1998, 2008, 2009, 2019, 2023, 2039, 2041, 2046, 2062, 2086, 2088, 2098, 2119, 2127, 2133, 2134, 2143, 2151, 2158, 2170, 2175, 2179, 2185, 2188, 2204, 2220, 2224, 2225, 2236, 2238, 2243, 2245, 2250, 2252, 2257, 2264, 2269, 2270, 2284, 2302, 2303, 2307, 2310, 2313, 2316, 2323, 2338, 2341, 2347, 2355, 2363, 2365, 2384, 2397, 2398, 2401, 2409, 2414, 2416, 2422, 2430, 2438, 2439, 2443, 2445, 2454, 2465, 2467, 2473, 2477, 2481, 2484, 2485, 2494, 2501, 2504, 2510, 2520, 2525, 2537, 2546, 2550, 2555, 2564, 2569, 2572, 2583, 2587, 2596, 2597, 2599, 2602, 2609, 2617, 2620, 2621, 2623, 2627, 2646, 2648, 2673, 2676, 2690, 2713, 2715, 2718, 2722, 2723, 2730, 2738, 2739, 2742, 2743, 2761, 2773, 2780, 2781, 2794, 2800, 2807, 2812, 2826, 2829, 2834, 2836, 2841, 2843, 2845, 2855, 2865, 2866, 2868, 2880, 2885, 2892, 2898, 2904, 2908, 2913, 2916, 2919, 2928, 2929, 2934, 2938, 2939, 2953, 2959, 2960, 2961, 2975, 2977, 2981, 2987, 2996, 2997, 3002, 3005, 3011, 3018, 3020, 3022, 3024, 3030, 3045, 3054, 3059, 3066, 3070, 3077, 3090, 3105, 3115, 3116, 3119, 3129, 3134, 3152, 3165, 3175, 3180, 3187, 3191, 3197, 3223, 3224, 3234, 3243, 3244, 3251, 3266, 3269, 3295, 3297, 3306, 3310, 3311, 3312, 3313, 3315, 3319, 3324, 3337, 3343, 3369, 3379, 3396, 3399, 3401, 3408, 3411, 3415, 3420, 3437, 3440, 3441, 3463, 3476, 3478, 3481, 3486, 3488, 3494, 3496, 3499, 3520, 3528, 3530, 3555, 3557, 3563, 3567, 3576, 3578, 3581, 3593, 3602, 3614, 3617, 3620, 3623, 3624, 3625, 3634, 3640, 3643, 3644, 3645, 3648, 3656, 3680, 3687, 3689, 3700, 3707, 3709, 3714, 3730, 3735, 3736, 3750, 3754, 3764, 3772, 3790, 3791, 3796, 3798, 3804, 3807, 3809, 3811, 3814, 3817, 3818, 3819, 3821, 3843, 3846, 3847, 3852, 3857, 3865, 3866, 3867, 3877, 3881, 3897, 3898, 3900, 3901, 3911, 3917, 3924, 3927, 3931, 3952, 3955, 3962, 3975, 3976, 3980, 3986, 3990]\n",
            "4000\n",
            "3418\n"
          ],
          "name": "stdout"
        }
      ]
    },
    {
      "cell_type": "code",
      "metadata": {
        "id": "-7-YnBZYfcT0"
      },
      "source": [
        "\n",
        "train_data = shab_train_data[:]"
      ],
      "execution_count": null,
      "outputs": []
    },
    {
      "cell_type": "code",
      "metadata": {
        "id": "zzsU91OGGFOn"
      },
      "source": [
        "!pip install pymorphy2\n",
        "import pymorphy2 as morphy\n",
        "import nltk\n",
        "from nltk.corpus import stopwords\n",
        "from nltk.collocations import *\n",
        "nltk.download('punkt')\n",
        "nltk.download('stopwords')\n",
        "from sklearn import preprocessing\n",
        "import collections\n",
        "import re\n",
        "from sklearn.metrics import classification_report,accuracy_score\n",
        "import numpy as np\n",
        "from sklearn.feature_extraction.text import TfidfVectorizer\n",
        "from sklearn.model_selection import train_test_split\n",
        "import matplotlib.pyplot as plt\n",
        "from sklearn.model_selection import train_test_split\n",
        "\n"
      ],
      "execution_count": null,
      "outputs": []
    },
    {
      "cell_type": "code",
      "metadata": {
        "id": "K4mWWAwsGcrQ"
      },
      "source": [
        "parser = morphy.MorphAnalyzer()\n",
        "stop_words = stopwords.words('russian')\n",
        "stop_words.extend(['что', 'это', 'так', 'вот', 'быть', 'как', 'в', '—', 'к', 'на'])\n",
        "pos_gen = list()\n",
        "tense_gen = list()\n",
        "pos_orig = list()\n",
        "tense_orig = list()\n",
        "for gen in generated:\n",
        "    for word in gen:\n",
        "      p = parser.parse(word)[0]\n",
        "      pos_gen.append(p.tag.POS)\n",
        "      tense_gen.append(p.tag.tense)\n",
        "for orig in origin:\n",
        "    for word in orig:\n",
        "      p = parser.parse(word)[0]\n",
        "      pos_orig.append(p.tag.POS)\n",
        "      tense_orig.append(p.tag.tense)\n",
        "\n"
      ],
      "execution_count": null,
      "outputs": []
    },
    {
      "cell_type": "code",
      "metadata": {
        "id": "36SqPFTu0VbG"
      },
      "source": [
        "count_gen_words = 0\n",
        "count_orig_words =0 \n",
        "for gen in generated:\n",
        "  for word in gen:\n",
        "    count_gen_words += 1\n",
        "for orig in origin:\n",
        "  for word in orig:\n",
        "    count_orig_words += 1\n",
        "\n",
        "def print_stat(cnt,count):\n",
        "  print('NOUNS: {}'.format(cnt['NOUN']/count))\n",
        "  print('VERBS: {}'.format(cnt['VERB']/count))\n",
        "  print('PREP: {}'.format(cnt['PREP']/count))\n",
        "  print('ADJ: {}'.format(cnt['ADJ']/count))\n",
        "\n",
        "        \n"
      ],
      "execution_count": null,
      "outputs": []
    },
    {
      "cell_type": "code",
      "metadata": {
        "colab": {
          "base_uri": "https://localhost:8080/"
        },
        "id": "gyNz64JkN5s6",
        "outputId": "1a2c327d-abdf-46fd-f908-dcab26140c75"
      },
      "source": [
        "import collections\n",
        "\n",
        "\n",
        "cnt = collections.Counter()\n",
        "for word in pos_gen:\n",
        "  cnt[word] += 1\n",
        "print(cnt)\n",
        "print_stat(cnt,count_gen_words)\n",
        "cnt = collections.Counter()\n",
        "for word in tense_gen:\n",
        "  cnt[word] += 1\n",
        "#print_stat(cnt,count_gen_words)\n",
        "cnt = collections.Counter()\n",
        "for word in pos_orig:\n",
        "  cnt[word] += 1\n",
        "print_stat(cnt,count_orig_words)\n",
        "cnt = collections.Counter()\n",
        "for word in tense_orig:\n",
        "  cnt[word] += 1\n",
        "#print_stat(cnt,count_orig_words)\n",
        "#for i in range(50):\n",
        "#  print('generate: {} original: {}'.format(a[i],b[i]))"
      ],
      "execution_count": null,
      "outputs": [
        {
          "output_type": "stream",
          "text": [
            "Counter({None: 184504, 'NOUN': 148699, 'PREP': 144666, 'CONJ': 88716, 'ADVB': 46171, 'VERB': 42670, 'PRCL': 13522, 'NPRO': 8763, 'INTJ': 1679})\n",
            "NOUNS: 0.2188713404671838\n",
            "VERBS: 0.06280634098235181\n",
            "PREP: 0.21293513298694416\n",
            "ADJ: 0.0\n",
            "NOUNS: 0.2257607603033903\n",
            "VERBS: 0.06565618292571485\n",
            "PREP: 0.22000811299349401\n",
            "ADJ: 0.0\n"
          ],
          "name": "stdout"
        }
      ]
    },
    {
      "cell_type": "code",
      "metadata": {
        "colab": {
          "base_uri": "https://localhost:8080/"
        },
        "id": "qK5tQUqE6CIR",
        "outputId": "6e5b3703-7223-4aa2-d07c-09b1b9de7aa9"
      },
      "source": [
        "print(cnt)"
      ],
      "execution_count": null,
      "outputs": [
        {
          "output_type": "stream",
          "text": [
            "Counter({None: 836672, 'pres': 58850})\n"
          ],
          "name": "stdout"
        }
      ]
    },
    {
      "cell_type": "code",
      "metadata": {
        "colab": {
          "base_uri": "https://localhost:8080/"
        },
        "id": "Jv8Rw0S8DQKY",
        "outputId": "862846f5-62fa-4f60-9993-7d4e75168e0c"
      },
      "source": [
        "import collections\n",
        "texts_gen = [t.split() for t in tok]\n",
        "a = collections.Counter([word for t in texts_gen for word in set(t)]).most_common()[:100]\n",
        "texts_orig = [t.split() for t in eni]\n",
        "b = collections.Counter([word for t in texts_orig for word in set(t)]).most_common()[:100]\n",
        "for i in range(50):\n",
        "  print('generate: {} original: {}'.format(a[i],b[i]))"
      ],
      "execution_count": null,
      "outputs": [
        {
          "output_type": "stream",
          "text": [
            "generate: ('в', 1783) original: ('в', 1926)\n",
            "generate: ('и', 1369) original: ('на', 1460)\n",
            "generate: ('на', 1284) original: ('и', 1260)\n",
            "generate: ('с', 947) original: ('по', 1080)\n",
            "generate: ('по', 719) original: ('о', 1066)\n",
            "generate: ('быть', 700) original: ('с', 1052)\n",
            "generate: ('не', 621) original: ('сообщать', 1016)\n",
            "generate: ('это', 506) original: ('это', 981)\n",
            "generate: ('из', 469) original: ('быть', 802)\n",
            "generate: ('о', 468) original: ('что', 782)\n",
            "generate: ('он', 458) original: ('который', 720)\n",
            "generate: ('как', 437) original: ('как', 546)\n",
            "generate: ('который', 426) original: ('не', 544)\n",
            "generate: ('за', 410) original: ('он', 542)\n",
            "generate: ('а', 362) original: ('из', 535)\n",
            "generate: ('россия', 338) original: ('год', 504)\n",
            "generate: ('для', 307) original: ('россия', 383)\n",
            "generate: ('они', 298) original: ('к', 350)\n",
            "generate: ('что', 273) original: ('от', 342)\n",
            "generate: ('год', 269) original: ('они', 327)\n",
            "generate: ('свой', 253) original: ('для', 322)\n",
            "generate: ('от', 242) original: ('за', 322)\n",
            "generate: ('у', 234) original: ('свой', 318)\n",
            "generate: ('к', 223) original: ('слово', 307)\n",
            "generate: ('российский', 208) original: ('заявить', 295)\n",
            "generate: ('тот', 206) original: ('сообщить', 288)\n",
            "generate: ('но', 202) original: ('тот', 281)\n",
            "generate: ('москва', 201) original: ('новость', 266)\n",
            "generate: ('стать', 194) original: ('один', 261)\n",
            "generate: ('человек', 192) original: ('ссылка', 256)\n",
            "generate: ('новый', 192) original: ('время', 254)\n",
            "generate: ('всё', 189) original: ('риа', 239)\n",
            "generate: ('один', 187) original: ('а', 230)\n",
            "generate: ('этот', 182) original: ('агентство', 229)\n",
            "generate: ('два', 182) original: ('человек', 228)\n",
            "generate: ('весь', 180) original: ('этот', 224)\n",
            "generate: ('я', 176) original: ('российский', 223)\n",
            "generate: ('после', 174) original: ('компания', 209)\n",
            "generate: ('она', 164) original: ('первый', 209)\n",
            "generate: ('мочь', 162) original: ('после', 208)\n",
            "generate: ('сша', 160) original: ('президент', 208)\n",
            "generate: ('страна', 159) original: ('также', 206)\n",
            "generate: ('мы', 159) original: ('сайт', 197)\n",
            "generate: ('сообщить', 158) original: ('стать', 197)\n",
            "generate: ('так', 146) original: ('страна', 194)\n",
            "generate: ('время', 146) original: ('два', 193)\n",
            "generate: ('первый', 146) original: ('до', 189)\n",
            "generate: ('сообщать', 143) original: ('передавать', 187)\n",
            "generate: ('же', 142) original: ('представитель', 185)\n",
            "generate: ('город', 134) original: ('сообщаться', 179)\n"
          ],
          "name": "stdout"
        }
      ]
    },
    {
      "cell_type": "code",
      "metadata": {
        "colab": {
          "base_uri": "https://localhost:8080/",
          "height": 337
        },
        "id": "0BBFX_xaiBIh",
        "outputId": "d6c7fa7b-81ac-4228-c71a-59a755504ce4"
      },
      "source": [
        "import matplotlib.pyplot as plt\n",
        "red = [len(text.split()) for text in generated]\n",
        "print(red)\n",
        "green = [len(text.split()) for text in origin]\n",
        "print(green)\n",
        "index = [i for i in range(1072)]\n",
        "pd.Series(red).hist()\n",
        "pd.Series(green).hist()\n"
      ],
      "execution_count": null,
      "outputs": [
        {
          "output_type": "stream",
          "text": [
            "[59, 56, 46, 49, 53, 60, 59, 10, 60, 56, 75, 58, 35, 62, 70, 67, 52, 58, 66, 58, 38, 51, 7, 50, 65, 41, 60, 55, 22, 48, 17, 52, 69, 67, 8, 63, 64, 71, 44, 29, 48, 52, 51, 22, 32, 56, 8, 57, 66, 64, 27, 44, 59, 27, 32, 57, 53, 72, 65, 66, 10, 55, 69, 56, 56, 52, 41, 49, 61, 58, 57, 35, 13, 50, 12, 59, 11, 26, 61, 39, 17, 52, 42, 66, 56, 34, 57, 69, 52, 64, 41, 13, 7, 57, 69, 51, 11, 30, 50, 23, 52, 82, 30, 28, 24, 52, 21, 67, 55, 69, 65, 57, 54, 65, 65, 64, 23, 59, 51, 9, 70, 58, 62, 68, 50, 31, 58, 40, 70, 54, 57, 36, 7, 52, 74, 11, 12, 55, 37, 74, 35, 45, 61, 70, 55, 59, 49, 66, 54, 41, 62, 57, 58, 57, 23, 68, 38, 50, 63, 25, 66, 56, 58, 57, 16, 66, 69, 59, 14, 64, 61, 33, 62, 64, 57, 66, 69, 70, 55, 65, 50, 63, 61, 9, 27, 67, 73, 42, 37, 53, 26, 73, 24, 58, 65, 24, 72, 59, 58, 61, 16, 50, 66, 58, 41, 20, 62, 74, 65, 57, 58, 11, 20, 64, 30, 19, 46, 27, 66, 20, 49, 24, 48, 64, 64, 7, 13, 53, 63, 76, 75, 42, 9, 63, 50, 69, 52, 52, 32, 12, 56, 61, 36, 65, 46, 55, 37, 58, 47, 23, 50, 53, 41, 49, 44, 49, 59, 10, 66, 6, 20, 72, 71, 32, 9, 51, 62, 25, 61, 60, 40, 35, 66, 54, 49, 10, 61, 48, 51, 18, 59, 62, 19, 60, 47, 31, 61, 20, 51, 27, 62, 20, 63, 62, 59, 36, 6, 53, 33, 53, 58, 37, 47, 60, 40, 8, 58, 49, 62, 54, 20, 57, 38, 43, 66, 11, 16, 48, 66, 42, 63, 65, 70, 73, 52, 65, 29, 75, 57, 26, 74, 55, 67, 62, 58, 32, 44, 67, 39, 17, 49, 55, 66, 12, 78, 54, 11, 54, 59, 55, 52, 59, 56, 66, 58, 48, 70, 32, 48, 59, 23, 54, 21, 61, 68, 60, 59, 56, 52, 15, 53, 60, 29, 52, 10, 72, 51, 13, 53, 36, 59, 48, 31, 73, 61, 57, 54, 40, 58, 23, 13, 60, 27, 50, 20, 28, 7, 50, 41, 38, 51, 75, 51, 65, 60, 48, 38, 42, 81, 11, 69, 57, 18, 49, 49, 20, 55, 60, 58, 69, 61, 62, 51, 62, 44, 50, 68, 28, 71, 33, 73, 58, 12, 16, 31, 54, 59, 9, 53, 68, 4, 63, 56, 35, 60, 47, 41, 52, 65, 31, 42, 75, 35, 60, 48, 60, 39, 63, 52, 59, 42, 21, 59, 72, 18, 64, 78, 61, 62, 46, 25, 69, 51, 60, 53, 54, 58, 45, 51, 30, 42, 62, 61, 45, 10, 7, 62, 11, 41, 59, 54, 49, 53, 58, 10, 8, 39, 14, 28, 61, 31, 77, 45, 50, 68, 15, 11, 64, 8, 64, 35, 13, 52, 42, 53, 62, 38, 55, 8, 32, 58, 36, 67, 59, 9, 7, 34, 58, 57, 63, 12, 64, 79, 69, 58, 8, 55, 66, 56, 9, 59, 5, 50, 62, 63, 57, 58, 48, 11, 63, 36, 48, 52, 60, 48, 50, 61, 56, 9, 67, 59, 60, 7, 61, 57, 57, 22, 55, 28, 66, 65, 57, 18, 67, 61, 64, 45, 67, 62, 75, 53, 64, 67, 68, 72, 41, 61, 66, 27, 67, 66, 57, 66, 58, 75, 69, 9, 11, 31, 69, 50, 67, 55, 62, 31, 68, 60, 52, 46, 9, 25, 67, 40, 55, 57, 20, 73, 53, 65, 63, 37, 7, 36, 68, 10, 39, 12, 57, 53, 62, 66, 48, 53, 51, 51, 34, 10, 66, 65, 77, 60, 19, 67, 65, 47, 50, 27, 71, 62, 61, 29, 55, 54, 46, 36, 51, 56, 59, 46, 41, 60, 72, 69, 34, 58, 43, 72, 57, 63, 54, 53, 55, 11, 58, 20, 12, 60, 64, 73, 57, 60, 56, 57, 52, 51, 63, 43, 65, 61, 55, 42, 70, 43, 35, 68, 66, 13, 42, 32, 22, 51, 57, 52, 61, 64, 48, 68, 52, 69, 48, 61, 32, 65, 55, 12, 71, 41, 55, 72, 63, 61, 47, 58, 57, 67, 23, 53, 54, 56, 48, 13, 37, 54, 24, 63, 66, 58, 68, 61, 49, 8, 52, 16, 59, 46, 63, 31, 57, 61, 53, 71, 56, 41, 9, 68, 62, 35, 71, 47, 55, 55, 21, 20, 51, 77, 70, 59, 52, 68, 25, 54, 7, 56, 67, 17, 46, 51, 11, 51, 21, 51, 22, 50, 38, 46, 70, 53, 64, 58, 60, 47, 58, 49, 51, 18, 71, 26, 45, 63, 51, 66, 50, 68, 31, 62, 8, 33, 7, 48, 54, 38, 64, 66, 14, 16, 43, 49, 65, 65, 24, 62, 57, 57, 35, 59, 17, 59, 55, 33, 66, 52, 11, 61, 9, 9, 25, 43, 65, 17, 58, 55, 71, 31, 51, 62, 35, 41, 53, 45, 34, 67, 34, 62, 64, 21, 15, 40, 31, 32, 67, 74, 70, 66, 67, 64, 9, 67, 66, 48, 23, 54, 41, 56, 40, 44, 12, 65, 41, 65, 47, 64, 63, 59, 54, 59, 29, 51, 53, 70, 59, 50, 5, 52, 57, 16, 22, 22, 70, 69, 16, 58, 69, 72, 47, 63, 20, 59, 12, 40, 62, 78, 19, 32, 53, 37, 56, 75, 66, 57, 45, 21, 40, 13, 43, 72, 21, 38, 74, 46, 34, 18, 61, 74, 58, 52, 71, 48, 7, 61, 27, 31, 66, 25, 62, 62, 59, 50, 55, 10, 58, 54, 45, 47, 76, 59, 59, 62, 41, 49, 48, 45, 56, 67, 49, 63, 14, 30, 45, 66, 39, 52, 60, 55, 59, 34, 6, 59, 60, 19, 54, 22, 69, 77, 61, 48, 29, 57, 69, 58, 34, 69, 12, 67, 61, 59, 63, 8, 53, 62, 62, 57, 36, 14, 32, 55, 69, 52, 53, 56, 58, 60, 62, 67, 49, 46, 58, 55, 70, 61, 75, 14, 13, 47, 8, 55, 59, 46, 67, 37, 56, 57, 48, 53, 14, 54, 55, 30, 12, 75, 25, 53, 29, 76, 72, 25, 62, 67, 16, 60, 7, 26, 47, 38, 68, 36, 36, 27, 59, 63, 71, 13, 65, 62, 70, 51, 65, 68, 60, 62, 53, 76, 55, 63, 51, 59, 51, 66, 59, 58, 40, 63, 56, 59, 32, 22, 70, 39, 52, 50, 66, 43, 51, 9, 50, 59, 71, 41, 49, 66, 7, 70, 62, 39, 72, 50, 42, 50, 49, 63, 58, 26, 4, 35, 50, 72, 55, 54, 50, 71, 7, 29, 21, 45, 71, 9, 62, 54, 62, 23, 64, 59, 56, 59, 34, 70, 32, 55, 10, 55, 54, 42, 30, 43, 59, 65, 70, 7, 24, 65, 36, 35, 55, 53, 18, 55, 26, 23, 61, 67, 70, 54, 13, 8, 28, 46, 46, 83, 66, 43, 60, 53, 62, 24, 52, 59, 54, 13, 10, 47, 63, 63, 68, 44, 54, 37, 50, 69, 46, 79, 65, 62, 41, 35, 47, 44, 57, 20, 10, 60, 72, 17, 50, 61, 36, 19, 30, 40, 27, 34, 25, 8, 44, 60, 8, 72, 61, 61, 46, 70, 83, 59, 61, 77, 29, 47, 60, 40, 19, 64, 58, 42, 61, 22, 48, 31, 8, 61, 62, 72, 54, 6, 61, 80, 31, 41, 60, 46, 57, 39, 60, 29, 57, 16, 54, 60, 64, 64, 31, 68, 26, 12, 54, 64, 55, 60, 44, 56, 47, 70, 39, 22, 34, 59, 7, 56, 52, 68, 34, 51, 59, 63, 60, 14, 19, 34, 60, 72, 24, 47, 53, 70, 64, 48, 80, 63, 52, 65, 16, 29, 75, 38, 53, 10, 48, 41, 48, 62, 13, 67, 62, 42, 72, 12, 52, 65, 64, 63, 11, 65, 72, 74, 30, 67, 72, 55, 73, 31, 68, 41, 58, 66, 48, 37, 73, 63, 61, 58, 61, 42, 61, 55, 71, 60, 66, 21, 16, 61, 39, 48, 66, 13, 66, 38, 47, 13, 64, 51, 52, 25, 50, 60, 54, 60, 54, 70, 23, 66, 52, 10, 13, 44, 26, 20, 25, 22, 61, 47, 57, 26, 43, 54, 69, 43, 19, 27, 11, 61, 65, 18, 26, 49, 54, 57, 68, 20, 10, 69, 55, 26, 62, 50, 13, 62, 35, 42, 7, 30, 45, 14, 40, 65, 52, 61, 19, 47, 47, 59, 55, 46, 50, 54, 50, 58, 87, 53, 25, 57, 19, 24, 10, 48, 55, 57, 54, 65, 69, 57, 54, 69, 43, 67, 17, 14, 59, 27, 71, 22, 61, 61, 64, 67, 44, 52, 40, 49, 47, 73, 61, 60, 62, 10, 59, 58, 54, 56, 29, 7, 72, 75, 32, 32, 58, 46, 60, 54, 48, 25, 49, 49, 24, 52, 27, 46, 43, 9, 22, 52, 62, 57, 17, 31, 54, 16, 62, 60, 62, 56, 69, 66, 65, 60, 66, 10, 57, 14, 10, 51, 64, 48, 51, 24, 56, 39, 56, 15, 68, 66, 53, 16, 57, 63, 64, 69, 63, 24, 56, 30, 59, 55, 11, 10, 44, 59, 14, 55, 67, 54, 10, 68, 47, 80, 65, 75, 72, 53, 58, 66, 7, 56, 73, 51, 68, 11, 59, 77, 49, 59, 50, 55, 23, 8, 12, 63, 34, 35, 67, 50, 60, 45, 70, 57, 52, 52, 56, 67, 69, 33, 74, 62, 56, 7, 53, 16, 53, 35, 51, 57, 61, 70, 49, 70, 65, 73, 54, 58, 79, 62, 37, 36, 45, 15, 57, 38, 10, 62, 78, 65, 55, 9, 59, 56, 34, 58, 62, 46, 66, 62, 57, 22, 47, 51, 56, 45, 20, 54, 68, 18, 75, 60, 9, 56, 60, 68, 18, 46, 60, 62, 7, 24, 61, 63, 38, 41, 59, 67, 48, 51, 42, 43, 65, 58, 57, 52, 62, 62, 61, 42, 62, 67, 61, 59, 61, 27, 43, 54, 76, 53, 17, 76, 52, 57, 50, 69, 42, 52, 46, 72, 22, 12, 49, 55, 70, 61, 60, 69, 49, 48, 17, 71, 25, 56, 54, 73, 15, 19, 19, 37, 38, 47, 54, 35, 59, 77, 54, 43, 44, 11, 64, 68, 45, 62, 55, 9, 17, 30, 64, 43, 10, 60, 23, 22, 43, 15, 7, 31, 37, 21, 48, 60, 63, 27, 58, 57, 47, 36, 70, 51, 27, 49, 66, 15, 12, 6, 66, 13, 71, 49, 52, 51, 58, 58, 10, 62, 64, 32, 49, 59, 37, 66, 49, 40, 60, 26, 17, 76, 46, 71, 32, 40, 53, 59, 48, 29, 45, 25, 56, 53, 45, 16, 31, 71, 56, 52, 58, 58, 17, 78, 28, 27, 68, 14, 68, 24, 64, 34, 59, 64, 55, 74, 68, 51, 61, 55, 20, 45, 29, 45, 55, 73, 47, 43, 67, 59, 62, 13, 13, 49, 54, 60, 40, 74, 59, 34, 48, 64, 57, 78, 60, 42, 56, 17, 54, 51, 70, 60, 57, 44, 7, 62, 55, 57, 74, 61, 61, 59, 9, 59, 13, 27, 65, 48, 38, 69, 64, 57, 47, 86, 37, 65, 23, 51, 14, 8, 54, 26, 53, 49, 9, 28, 63, 41, 60, 5, 61, 58, 77, 44, 51, 66, 52, 70, 32, 38, 65, 51, 62, 69, 41, 24, 75, 27, 25, 37, 50, 21, 67, 46, 55, 39, 66, 60, 11, 51, 11, 46, 61, 48, 47, 59, 74, 20, 75, 52, 67, 66, 56, 76, 45, 50, 27, 17, 61, 44, 62, 70, 23, 29, 70, 44, 55, 55, 56, 12, 46, 61, 41, 30, 42, 44, 75, 55, 62, 53, 56, 34, 36, 67, 25, 27, 68, 26, 58, 51, 72, 58, 55, 17, 68, 26, 62, 64, 57, 25, 70, 54, 74, 68, 74, 52, 66, 58, 63, 62, 46, 66, 64, 55, 60, 50, 8, 63, 31, 40, 54, 55, 57, 26, 20, 59, 23, 64, 23, 59, 65, 25, 73, 56, 34, 56, 56]\n",
            "[67, 61, 69, 54, 67, 57, 50, 57, 67, 65, 68, 62, 50, 64, 68, 56, 62, 58, 50, 69, 52, 70, 57, 54, 57, 59, 55, 63, 56, 55, 68, 56, 59, 53, 66, 66, 60, 58, 54, 63, 65, 67, 69, 69, 55, 52, 69, 69, 64, 69, 50, 57, 52, 50, 49, 58, 57, 64, 59, 54, 55, 69, 53, 62, 61, 64, 55, 68, 50, 69, 67, 67, 66, 67, 63, 68, 63, 58, 70, 60, 69, 64, 62, 67, 59, 65, 51, 51, 62, 65, 58, 61, 67, 60, 65, 50, 60, 58, 58, 55, 66, 58, 65, 68, 66, 55, 56, 69, 69, 61, 63, 61, 57, 56, 57, 51, 60, 59, 56, 60, 56, 65, 58, 62, 50, 55, 64, 65, 69, 51, 65, 59, 60, 59, 64, 55, 70, 61, 56, 66, 63, 57, 61, 52, 68, 50, 67, 67, 55, 50, 67, 63, 56, 54, 63, 51, 59, 62, 67, 58, 54, 56, 59, 50, 59, 57, 70, 64, 70, 54, 59, 66, 67, 53, 64, 52, 55, 50, 53, 62, 69, 61, 59, 70, 65, 64, 59, 54, 56, 53, 61, 60, 56, 60, 57, 64, 65, 64, 59, 51, 65, 65, 52, 57, 63, 50, 60, 69, 60, 51, 58, 50, 56, 62, 70, 54, 61, 56, 64, 53, 56, 58, 67, 45, 70, 50, 69, 60, 54, 54, 53, 59, 52, 66, 70, 67, 64, 62, 52, 52, 69, 63, 53, 67, 68, 64, 58, 59, 55, 54, 70, 67, 55, 61, 55, 65, 58, 63, 51, 58, 62, 58, 55, 53, 50, 61, 54, 62, 56, 61, 68, 65, 50, 61, 57, 59, 51, 66, 70, 64, 59, 65, 55, 53, 58, 60, 61, 66, 66, 60, 52, 63, 64, 67, 65, 54, 66, 61, 55, 54, 60, 68, 51, 64, 70, 53, 59, 54, 33, 64, 61, 54, 52, 69, 63, 52, 69, 58, 65, 53, 52, 57, 63, 67, 68, 54, 57, 54, 58, 58, 52, 50, 51, 65, 70, 65, 63, 46, 65, 64, 57, 51, 60, 59, 54, 57, 69, 61, 55, 64, 50, 69, 58, 53, 56, 58, 56, 61, 53, 59, 50, 67, 65, 59, 50, 50, 70, 52, 50, 51, 66, 60, 57, 70, 57, 60, 65, 67, 57, 57, 61, 50, 62, 54, 66, 69, 56, 69, 53, 63, 56, 68, 68, 54, 54, 64, 67, 58, 59, 52, 70, 51, 66, 59, 63, 58, 61, 60, 65, 55, 64, 65, 64, 59, 67, 70, 69, 52, 57, 54, 67, 61, 60, 55, 51, 60, 70, 61, 50, 69, 62, 50, 69, 57, 68, 67, 64, 57, 58, 60, 57, 60, 57, 53, 52, 57, 70, 66, 70, 52, 64, 55, 70, 64, 62, 55, 60, 56, 55, 63, 60, 69, 62, 69, 54, 63, 53, 65, 51, 69, 66, 59, 53, 62, 56, 54, 52, 50, 62, 61, 52, 54, 63, 56, 58, 52, 64, 64, 70, 64, 57, 57, 67, 51, 63, 69, 57, 68, 53, 53, 60, 58, 61, 50, 66, 57, 54, 59, 69, 54, 68, 52, 56, 53, 59, 61, 64, 54, 57, 60, 56, 52, 58, 60, 56, 65, 56, 67, 54, 58, 66, 64, 62, 65, 52, 69, 70, 51, 63, 50, 66, 60, 64, 69, 52, 58, 57, 61, 69, 57, 50, 58, 62, 55, 61, 55, 70, 55, 62, 57, 58, 65, 59, 59, 52, 63, 51, 52, 67, 67, 69, 61, 55, 57, 55, 70, 51, 52, 57, 57, 60, 51, 51, 65, 62, 65, 55, 58, 52, 53, 51, 58, 63, 56, 61, 68, 70, 54, 65, 62, 51, 65, 59, 70, 70, 54, 56, 52, 56, 66, 57, 53, 66, 69, 54, 65, 51, 61, 69, 68, 55, 70, 50, 68, 53, 67, 70, 61, 64, 69, 60, 59, 50, 64, 51, 53, 64, 51, 56, 52, 54, 54, 70, 68, 51, 57, 66, 58, 52, 52, 60, 69, 63, 58, 61, 56, 53, 59, 53, 55, 50, 67, 61, 64, 54, 57, 64, 59, 59, 66, 51, 52, 57, 52, 59, 58, 53, 64, 70, 57, 70, 50, 59, 54, 64, 62, 68, 54, 54, 64, 57, 51, 54, 57, 52, 58, 58, 62, 63, 56, 57, 53, 55, 59, 68, 60, 55, 69, 51, 52, 50, 60, 70, 57, 63, 61, 55, 68, 55, 54, 50, 67, 58, 68, 66, 57, 60, 62, 70, 61, 61, 51, 59, 52, 62, 63, 52, 59, 69, 62, 58, 56, 69, 64, 63, 50, 59, 69, 52, 51, 58, 61, 56, 51, 57, 51, 63, 50, 70, 53, 67, 50, 69, 50, 64, 59, 54, 58, 56, 51, 69, 51, 63, 52, 69, 66, 58, 51, 55, 50, 68, 51, 52, 52, 66, 65, 58, 55, 67, 59, 53, 57, 51, 66, 53, 63, 54, 68, 62, 53, 65, 70, 58, 60, 61, 61, 65, 53, 64, 52, 50, 63, 52, 50, 55, 52, 69, 56, 58, 64, 60, 65, 57, 51, 50, 63, 64, 53, 52, 57, 52, 60, 67, 58, 67, 67, 51, 65, 58, 55, 56, 68, 58, 58, 53, 62, 59, 65, 51, 63, 57, 52, 53, 70, 63, 68, 55, 56, 68, 67, 70, 70, 56, 68, 63, 68, 58, 55, 70, 60, 51, 62, 53, 60, 51, 60, 58, 59, 54, 66, 62, 62, 67, 62, 65, 58, 64, 55, 56, 59, 58, 62, 52, 62, 59, 51, 53, 55, 66, 51, 68, 59, 67, 57, 61, 51, 66, 51, 52, 69, 64, 69, 63, 58, 66, 63, 50, 54, 59, 60, 53, 56, 62, 55, 63, 70, 61, 63, 65, 55, 63, 63, 70, 67, 66, 55, 55, 53, 68, 59, 65, 55, 62, 70, 52, 63, 59, 62, 53, 65, 51, 63, 54, 69, 70, 51, 65, 55, 70, 50, 69, 60, 68, 57, 56, 56, 69, 61, 68, 52, 70, 69, 70, 63, 65, 65, 50, 63, 60, 52, 57, 58, 63, 52, 50, 67, 64, 60, 58, 50, 61, 61, 64, 67, 62, 65, 67, 64, 66, 64, 55, 57, 58, 50, 51, 68, 62, 50, 53, 64, 64, 56, 67, 65, 51, 54, 68, 52, 57, 58, 59, 50, 70, 70, 52, 65, 58, 51, 56, 50, 53, 55, 52, 65, 54, 62, 62, 63, 63, 68, 62, 59, 58, 60, 62, 66, 55, 58, 67, 52, 58, 60, 61, 67, 62, 55, 61, 52, 59, 67, 70, 62, 53, 52, 70, 54, 58, 59, 67, 58, 59, 52, 66, 67, 54, 53, 55, 45, 68, 63, 56, 50, 64, 63, 56, 54, 60, 68, 70, 62, 63, 63, 59, 53, 59, 70, 54, 55, 60, 51, 63, 60, 59, 58, 64, 50, 69, 66, 59, 56, 51, 66, 59, 53, 61, 59, 54, 67, 63, 57, 57, 63, 51, 52, 52, 58, 64, 67, 66, 56, 51, 60, 54, 52, 64, 67, 52, 53, 59, 66, 68, 59, 69, 54, 65, 70, 53, 68, 53, 68, 57, 58, 65, 61, 57, 56, 60, 64, 65, 67, 65, 65, 69, 58, 52, 61, 70, 63, 69, 61, 55, 58, 59, 69, 50, 60, 60, 63, 58, 60, 52, 68, 69, 63, 67, 53, 70, 54, 67, 66, 50, 59, 50, 59, 50, 69, 56, 67, 52, 64, 53, 54, 51, 58, 63, 64, 70, 66, 51, 54, 68, 63, 65, 57, 50, 66, 56, 59, 63, 53, 60, 66, 53, 54, 56, 58, 65, 67, 54, 68, 63, 52, 60, 59, 54, 60, 59, 67, 66, 59, 58, 65, 59, 58, 66, 62, 60, 55, 58, 63, 63, 55, 58, 50, 55, 56, 52, 68, 67, 59, 61, 52, 52, 55, 59, 58, 61, 53, 64, 56, 50, 65, 64, 55, 57, 55, 61, 63, 41, 55, 61, 60, 65, 66, 60, 70, 60, 65, 54, 67, 59, 58, 63, 64, 52, 62, 58, 60, 66, 66, 54, 63, 70, 69, 69, 62, 67, 70, 65, 53, 66, 62, 54, 51, 56, 70, 66, 68, 60, 61, 64, 69, 64, 66, 56, 56, 69, 66, 68, 64, 65, 69, 59, 64, 69, 54, 59, 61, 51, 60, 50, 65, 52, 59, 70, 68, 51, 67, 53, 56, 58, 51, 58, 50, 63, 50, 67, 59, 57, 67, 57, 57, 66, 62, 53, 50, 70, 65, 59, 52, 51, 66, 56, 68, 60, 64, 59, 68, 62, 59, 51, 68, 54, 68, 54, 53, 69, 59, 57, 53, 54, 56, 57, 58, 70, 53, 64, 55, 53, 63, 53, 63, 70, 50, 53, 52, 51, 70, 59, 50, 57, 67, 66, 50, 64, 70, 56, 62, 52, 56, 50, 64, 51, 58, 68, 59, 67, 59, 61, 54, 56, 56, 60, 53, 68, 70, 70, 70, 60, 55, 53, 70, 60, 70, 50, 70, 70, 61, 54, 51, 67, 65, 62, 51, 59, 62, 67, 63, 57, 63, 53, 56, 50, 56, 53, 68, 57, 57, 55, 54, 50, 57, 57, 50, 55, 51, 69, 57, 53, 59, 61, 70, 70, 60, 63, 61, 66, 56, 70, 62, 64, 66, 67, 66, 55, 56, 68, 64, 70, 54, 51, 66, 51, 57, 68, 65, 56, 60, 58, 60, 61, 50, 54, 61, 56, 52, 70, 58, 69, 63, 65, 61, 52, 64, 57, 58, 52, 54, 61, 57, 65, 66, 62, 54, 64, 66, 66, 55, 65, 60, 61, 58, 56, 66, 65, 57, 59, 67, 56, 66, 65, 67, 62, 62, 70, 66, 70, 65, 62, 67, 69, 68, 59, 55, 59, 52, 54, 63, 55, 50, 65, 51, 66, 65, 58, 64, 68, 63, 67, 52, 69, 56, 53, 68, 69, 56, 53, 63, 70, 67, 68, 58, 56, 69, 64, 52, 67, 62, 70, 52, 61, 51, 59, 69, 52, 56, 61, 70, 52, 61, 51, 51, 50, 52, 55, 50, 54, 58, 60, 62, 68, 66, 58, 50, 64, 50, 53, 69, 61, 63, 62, 63, 51, 53, 56, 51, 70, 50, 61, 57, 66, 64, 54, 55, 70, 70, 64, 58, 69, 59, 61, 63, 68, 68, 69, 60, 57, 61, 69, 65, 70, 58, 69, 64, 60, 57, 60, 61, 69, 50, 53, 61, 64, 53, 62, 66, 52, 53, 61, 69, 54, 51, 57, 62, 62, 67, 68, 67, 61, 69, 62, 70, 68, 69, 64, 52, 69, 51, 57, 51, 65, 59, 64, 66, 69, 60, 59, 59, 66, 66, 64, 55, 63, 53, 52, 54, 53, 50, 61, 60, 65, 62, 54, 57, 64, 53, 50, 55, 61, 50, 53, 65, 53, 58, 70, 69, 52, 62, 61, 56, 60, 50, 61, 23, 57, 59, 55, 55, 66, 65, 62, 51, 62, 66, 62, 65, 50, 64, 64, 52, 58, 54, 51, 58, 61, 52, 67, 68, 51, 57, 66, 69, 55, 68, 63, 54, 57, 61, 54, 51, 67, 65, 63, 52, 57, 55, 64, 62, 65, 57, 66, 69, 67, 53, 56, 50, 69, 65, 54, 52, 68, 65, 67, 55, 70, 53, 55, 53, 58, 55, 51, 61, 67, 70, 69, 63, 55, 70, 60, 64, 70, 57, 67, 55, 56, 68, 58, 59, 53, 55, 57, 54, 56, 52, 64, 64, 52, 56, 70, 62, 69, 57, 64, 63, 54, 58, 54, 66, 52, 53, 50, 58, 68, 52, 69, 51, 65, 63, 59, 54, 54, 54, 57, 54, 55, 65, 64, 50, 54, 65, 64, 65, 65, 67, 40, 57, 58, 55, 56, 59, 56, 52, 62, 54, 57, 63, 54, 65, 65, 62, 63, 63, 57, 58, 66, 56, 65, 69, 68, 53, 68, 54, 59, 68, 70, 70, 52, 64, 58, 51, 50, 50, 62, 69, 58, 54, 53, 64, 53, 59, 57, 60, 68, 62, 54, 51, 65, 61, 58, 56, 57, 56, 68, 68, 57, 68, 67, 68, 51, 56, 69, 54, 64, 55, 60, 53, 69, 52, 69, 51, 65, 69, 53, 51, 51, 70, 65, 53, 58, 52, 55, 64, 64, 62, 64, 57, 66, 62, 60, 60, 66, 67, 58, 55, 58, 60, 70, 51, 70, 56, 62, 68, 64, 62, 64, 52, 54, 68, 65, 68, 65, 70, 51, 57, 51, 65, 56, 62, 63, 66]\n"
          ],
          "name": "stdout"
        },
        {
          "output_type": "execute_result",
          "data": {
            "text/plain": [
              "<matplotlib.axes._subplots.AxesSubplot at 0x7fcc1c7a0c10>"
            ]
          },
          "metadata": {
            "tags": []
          },
          "execution_count": 6
        },
        {
          "output_type": "display_data",
          "data": {
            "image/png": "[encoded data removed]",
            "text/plain": [
              "<Figure size 432x288 with 1 Axes>"
            ]
          },
          "metadata": {
            "tags": [],
            "needs_background": "light"
          }
        }
      ]
    },
    {
      "cell_type": "code",
      "metadata": {
        "colab": {
          "base_uri": "https://localhost:8080/",
          "height": 311
        },
        "id": "63B13M3YoVzr",
        "outputId": "263ae560-86b0-430c-b459-700cccf14e91"
      },
      "source": [
        "%matplotlib inline\n",
        "import numpy as np\n",
        "import matplotlib.pyplot as plt\n",
        "import pandas\n",
        "#import seaborn\n",
        "#seaborn.set(style='ticks')\n",
        "\n",
        "\n",
        "np.random.seed(0)\n",
        "df = pandas.DataFrame(np.random.normal(size=(37,2)), columns=['original', 'generated'])\n",
        "fig, ax = plt.subplots()\n",
        "\n",
        "a_heights, a_bins = np.histogram(green)\n",
        "b_heights, b_bins = np.histogram(red, bins=a_bins)\n",
        "\n",
        "width = (a_bins[1] - a_bins[0])/3\n",
        "plt.title(\"Длины оригинальных и искусственных текстов\", fontsize=10)\n",
        "ax.bar(a_bins[:-1], a_heights, width=width, facecolor='cornflowerblue',label = 'original')\n",
        "ax.bar(b_bins[:-1]+width, b_heights, width=width, facecolor='pink', label = 'generated')\n",
        "ax.legend()\n",
        "ax.set_xlabel('Длина текста в словах')\n",
        "ax.set_ylabel('Количество текстов')\n",
        "#seaborn.despine(ax=ax, offset=10)"
      ],
      "execution_count": null,
      "outputs": [
        {
          "output_type": "execute_result",
          "data": {
            "text/plain": [
              "Text(0, 0.5, 'Количество текстов')"
            ]
          },
          "metadata": {
            "tags": []
          },
          "execution_count": 16
        },
        {
          "output_type": "display_data",
          "data": {
            "image/png": "[encoded data removed]",
            "text/plain": [
              "<Figure size 432x288 with 1 Axes>"
            ]
          },
          "metadata": {
            "tags": [],
            "needs_background": "light"
          }
        }
      ]
    },
    {
      "cell_type": "code",
      "metadata": {
        "id": "uy6E1V3rJzX4"
      },
      "source": [
        " res = pd.DataFrame(train_data[100:200],columns = [\"text\",\"labels\"])\n",
        " \n",
        "with pd.ExcelWriter ('test.xlsx') as writer:\n",
        "                res['text'].to_excel(writer, sheet_name = 'sheet1',engine='xlsxwriter')\n",
        "                res['labels'].to_excel(writer, sheet_name = 'sheet2',engine='xlsxwriter')"
      ],
      "execution_count": null,
      "outputs": []
    },
    {
      "cell_type": "code",
      "metadata": {
        "id": "VCeQ-2G8bmNW"
      },
      "source": [
        ""
      ],
      "execution_count": null,
      "outputs": []
    },
    {
      "cell_type": "code",
      "metadata": {
        "id": "XxdCscSL7Yct"
      },
      "source": [
        "\n",
        "def split_to_lists(data):\n",
        "    texts = list()\n",
        "    labels = list()\n",
        "    for (txt,lb) in data:\n",
        "        texts.append(txt)\n",
        "        labels.append(lb)\n",
        "    return texts,labels\n"
      ],
      "execution_count": null,
      "outputs": []
    },
    {
      "cell_type": "code",
      "metadata": {
        "id": "TUaLcZ-G-Cxt",
        "colab": {
          "base_uri": "https://localhost:8080/"
        },
        "outputId": "b2612223-842a-4a2e-f7c6-9f7ea12d54a4"
      },
      "source": [
        "!pip install pymorphy2\n",
        "import pymorphy2 as morphy\n",
        "import nltk\n",
        "from nltk.corpus import stopwords\n",
        "from nltk.collocations import *\n",
        "nltk.download('punkt')\n",
        "nltk.download('stopwords')\n",
        "from sklearn import preprocessing\n",
        "import collections\n",
        "import re\n",
        "from sklearn.metrics import classification_report,accuracy_score\n",
        "import numpy as np\n",
        "from sklearn.feature_extraction.text import TfidfVectorizer\n",
        "from sklearn.model_selection import train_test_split\n",
        "import matplotlib.pyplot as plt\n",
        "from sklearn.model_selection import train_test_split\n",
        "\n",
        "\n",
        "parser = morphy.MorphAnalyzer()\n",
        "stop_words = stopwords.words('russian')\n",
        "#stop_words.extend(['что', 'это', 'так', 'вот', 'быть', 'как', 'в', '—', 'к', 'на'])\n",
        "\n",
        "def preprocess(text : str) -> str:\n",
        "    tokens = nltk.word_tokenize(str(text).lower(), language = \"russian\")\n",
        "    tokens = [token for token in tokens if not token.startswith('http')]\n",
        "    punctuation = r\"~`@#$%^&*()_+=-;:,./\\|<>!№$^&*-{}\"\n",
        "    russian = \"йцукенгшщзхъэждлорпавыфячсмитьбю\"\n",
        "   # tokens = [i for i in tokens if ( i not in stop_words )]\n",
        "    tokens = [i.replace(\"«\", \"\").replace(\"»\", \"\").replace(\"”\", \"\") for i in tokens]\n",
        "    tokens = [token for token in tokens if token not in punctuation]\n",
        "    tokens = [token for token in tokens if any([x in russian for x in token])]\n",
        "    # tokens = [token for token in tokens if langdetect.detect(token) == \"ru\"]  \n",
        "    tokens = [parser.parse(token)[0].normal_form for token in tokens]\n",
        "    return ' '.join(tokens)\n",
        "\n",
        "def tokenize(data):\n",
        "    tokenized = list()\n",
        "    for text in data:\n",
        "        tokenized.append(preprocess(text))\n",
        "    return tokenized"
      ],
      "execution_count": null,
      "outputs": [
        {
          "output_type": "stream",
          "text": [
            "Collecting pymorphy2\n",
            "\u001b[?25l  Downloading https://files.pythonhosted.org/packages/07/57/b2ff2fae3376d4f3c697b9886b64a54b476e1a332c67eee9f88e7f1ae8c9/pymorphy2-0.9.1-py3-none-any.whl (55kB)\n",
            "\u001b[K     |████████████████████████████████| 61kB 7.8MB/s \n",
            "\u001b[?25hCollecting dawg-python>=0.7.1\n",
            "  Downloading https://files.pythonhosted.org/packages/6a/84/ff1ce2071d4c650ec85745766c0047ccc3b5036f1d03559fd46bb38b5eeb/DAWG_Python-0.7.2-py2.py3-none-any.whl\n",
            "Collecting pymorphy2-dicts-ru<3.0,>=2.4\n",
            "\u001b[?25l  Downloading https://files.pythonhosted.org/packages/3a/79/bea0021eeb7eeefde22ef9e96badf174068a2dd20264b9a378f2be1cdd9e/pymorphy2_dicts_ru-2.4.417127.4579844-py2.py3-none-any.whl (8.2MB)\n",
            "\u001b[K     |████████████████████████████████| 8.2MB 28.5MB/s \n",
            "\u001b[?25hRequirement already satisfied: docopt>=0.6 in /usr/local/lib/python3.7/dist-packages (from pymorphy2) (0.6.2)\n",
            "Installing collected packages: dawg-python, pymorphy2-dicts-ru, pymorphy2\n",
            "Successfully installed dawg-python-0.7.2 pymorphy2-0.9.1 pymorphy2-dicts-ru-2.4.417127.4579844\n",
            "[nltk_data] Downloading package punkt to /root/nltk_data...\n",
            "[nltk_data]   Unzipping tokenizers/punkt.zip.\n",
            "[nltk_data] Downloading package stopwords to /root/nltk_data...\n",
            "[nltk_data]   Unzipping corpora/stopwords.zip.\n"
          ],
          "name": "stdout"
        }
      ]
    },
    {
      "cell_type": "code",
      "metadata": {
        "id": "mR1KNjV9-sYj"
      },
      "source": [
        "data,labels = split_to_lists(train_data)\n",
        "#"
      ],
      "execution_count": null,
      "outputs": []
    },
    {
      "cell_type": "code",
      "metadata": {
        "id": "7gM-rEoR_6L6"
      },
      "source": [
        "\n",
        "tokenized = tokenize(data)\n",
        "#print(tokenized)"
      ],
      "execution_count": null,
      "outputs": []
    },
    {
      "cell_type": "code",
      "metadata": {
        "id": "NUL_JfYcAp2J"
      },
      "source": [
        "train_X,test_X,train_Y,test_Y = train_test_split(tokenized,labels,test_size=0.3,random_state=42)"
      ],
      "execution_count": null,
      "outputs": []
    },
    {
      "cell_type": "code",
      "metadata": {
        "id": "gyiUWFQ57Yct"
      },
      "source": [
        "from sklearn.feature_extraction.text import TfidfVectorizer\n",
        "from sklearn.model_selection import train_test_split\n",
        "#from sklearn.metrics import roc_auc_score, f1_score, accuracy_score\n",
        "import random\n",
        "from sklearn.naive_bayes import GaussianNB\n",
        "#train_X,train_Y,test_X,test_Y\n",
        "\n",
        "tfidf = TfidfVectorizer()\n",
        "t_train_X = tfidf.fit_transform(train_X)\n",
        "t_test_X = tfidf.transform(test_X)"
      ],
      "execution_count": null,
      "outputs": []
    },
    {
      "cell_type": "code",
      "metadata": {
        "id": "Z2357f6JRiXs"
      },
      "source": [
        "from sklearn.feature_extraction.text import CountVectorizer\n",
        "cvec = CountVectorizer()\n",
        "train_X_w = cvec.fit_transform(train_X)\n",
        "test_X_w = cvec.transform(test_X)\n",
        "\n",
        "cv_ngram_2 = CountVectorizer(analyzer='word', ngram_range=(4, 4))\n",
        "train_X_2 = cv_ngram_2.fit_transform(train_X)\n",
        "test_X_2 = cv_ngram_2.transform(test_X)\n",
        "\n",
        "cv_ngram_3 = CountVectorizer(analyzer='word', ngram_range=(3, 3))\n",
        "train_X_3 = cv_ngram_3.fit_transform(train_X)\n",
        "test_X_3 = cv_ngram_3.transform(test_X)"
      ],
      "execution_count": null,
      "outputs": []
    },
    {
      "cell_type": "markdown",
      "metadata": {
        "id": "rygvSgdDLEeS"
      },
      "source": [
        "##Метод Наинвый Байес"
      ]
    },
    {
      "cell_type": "code",
      "metadata": {
        "colab": {
          "base_uri": "https://localhost:8080/"
        },
        "id": "R6pIrUfD7Ycu",
        "outputId": "0589cb80-f453-4bde-945e-3c491cab7343"
      },
      "source": [
        "from sklearn.naive_bayes import GaussianNB\n",
        "model_naive_bayes = GaussianNB()\n",
        "model_naive_bayes.fit(t_train_X.toarray(), train_Y)\n",
        "Y_pred=model_naive_bayes.predict(t_test_X.toarray())\n",
        "print(classification_report(Y_pred,test_Y))"
      ],
      "execution_count": null,
      "outputs": [
        {
          "output_type": "stream",
          "text": [
            "              precision    recall  f1-score   support\n",
            "\n",
            "           0       0.39      0.57      0.46       414\n",
            "           1       0.70      0.53      0.60       786\n",
            "\n",
            "    accuracy                           0.54      1200\n",
            "   macro avg       0.54      0.55      0.53      1200\n",
            "weighted avg       0.59      0.54      0.55      1200\n",
            "\n"
          ],
          "name": "stdout"
        }
      ]
    },
    {
      "cell_type": "code",
      "metadata": {
        "colab": {
          "base_uri": "https://localhost:8080/"
        },
        "id": "jaXrIwSQTEXb",
        "outputId": "0a806e93-c4c3-405c-c91e-a29079e1328d"
      },
      "source": [
        "#cv words\n",
        "model_naive_bayes = GaussianNB()\n",
        "model_naive_bayes.fit(train_X_w.toarray(), train_Y)\n",
        "Y_pred=model_naive_bayes.predict(test_X_w.toarray())\n",
        "print(classification_report(Y_pred,test_Y))"
      ],
      "execution_count": null,
      "outputs": [
        {
          "output_type": "stream",
          "text": [
            "              precision    recall  f1-score   support\n",
            "\n",
            "           0       0.45      0.59      0.51       465\n",
            "           1       0.68      0.55      0.61       735\n",
            "\n",
            "    accuracy                           0.56      1200\n",
            "   macro avg       0.57      0.57      0.56      1200\n",
            "weighted avg       0.59      0.56      0.57      1200\n",
            "\n"
          ],
          "name": "stdout"
        }
      ]
    },
    {
      "cell_type": "code",
      "metadata": {
        "colab": {
          "base_uri": "https://localhost:8080/"
        },
        "id": "XZjzVsN4TWZG",
        "outputId": "d7e40b97-48d5-4357-c37b-8b725e16e921"
      },
      "source": [
        "#ngrams 4\n",
        "model_naive_bayes = GaussianNB()\n",
        "model_naive_bayes.fit(train_X_2.toarray(), train_Y)\n",
        "Y_pred=model_naive_bayes.predict(test_X_2.toarray())\n",
        "print(classification_report(Y_pred,test_Y))"
      ],
      "execution_count": null,
      "outputs": [
        {
          "output_type": "stream",
          "text": [
            "              precision    recall  f1-score   support\n",
            "\n",
            "           0       0.87      0.64      0.73       826\n",
            "           1       0.49      0.79      0.61       374\n",
            "\n",
            "    accuracy                           0.68      1200\n",
            "   macro avg       0.68      0.71      0.67      1200\n",
            "weighted avg       0.75      0.68      0.69      1200\n",
            "\n"
          ],
          "name": "stdout"
        }
      ]
    },
    {
      "cell_type": "code",
      "metadata": {
        "colab": {
          "base_uri": "https://localhost:8080/"
        },
        "id": "a2gA7yL9TesJ",
        "outputId": "8271638e-cadc-484b-98f9-a0b2c300e39a"
      },
      "source": [
        "#ngrams 3\n",
        "model_naive_bayes = GaussianNB()\n",
        "model_naive_bayes.fit(train_X_3.toarray(), train_Y)\n",
        "Y_pred=model_naive_bayes.predict(test_X_3.toarray())\n",
        "print(classification_report(Y_pred,test_Y))"
      ],
      "execution_count": null,
      "outputs": [
        {
          "output_type": "stream",
          "text": [
            "              precision    recall  f1-score   support\n",
            "\n",
            "           0       0.71      0.73      0.72       589\n",
            "           1       0.74      0.72      0.73       611\n",
            "\n",
            "    accuracy                           0.72      1200\n",
            "   macro avg       0.72      0.72      0.72      1200\n",
            "weighted avg       0.72      0.72      0.72      1200\n",
            "\n"
          ],
          "name": "stdout"
        }
      ]
    },
    {
      "cell_type": "markdown",
      "metadata": {
        "id": "_AFQrTfsLOjX"
      },
      "source": [
        "## Метод SVM"
      ]
    },
    {
      "cell_type": "code",
      "metadata": {
        "colab": {
          "base_uri": "https://localhost:8080/"
        },
        "id": "Nc0TSNzU-ry6",
        "outputId": "5231b452-0bc4-4b85-b92a-5b1262b60ebc"
      },
      "source": [
        "from sklearn import svm\n",
        "\n",
        "support_vector_model = svm.SVC()\n",
        "support_vector_model.fit(t_train_X.toarray(), train_Y)\n",
        "Y_pred_svm=support_vector_model.predict(t_test_X.toarray())\n",
        "print(classification_report(Y_pred_svm,test_Y))"
      ],
      "execution_count": null,
      "outputs": [
        {
          "output_type": "stream",
          "text": [
            "              precision    recall  f1-score   support\n",
            "\n",
            "           0       0.84      0.90      0.87       568\n",
            "           1       0.91      0.85      0.88       632\n",
            "\n",
            "    accuracy                           0.88      1200\n",
            "   macro avg       0.88      0.88      0.87      1200\n",
            "weighted avg       0.88      0.88      0.88      1200\n",
            "\n"
          ],
          "name": "stdout"
        }
      ]
    },
    {
      "cell_type": "code",
      "metadata": {
        "id": "ZNOxvwHBVrdR",
        "colab": {
          "base_uri": "https://localhost:8080/"
        },
        "outputId": "8b0dc61a-ef77-4f2b-abf0-18b254397275"
      },
      "source": [
        "#cv words\n",
        "support_vector_model = svm.SVC()\n",
        "support_vector_model.fit(train_X_w.toarray(), train_Y)\n",
        "Y_pred_svm=support_vector_model.predict(test_X_w.toarray())\n",
        "print(classification_report(Y_pred_svm,test_Y))"
      ],
      "execution_count": null,
      "outputs": [
        {
          "output_type": "stream",
          "text": [
            "              precision    recall  f1-score   support\n",
            "\n",
            "           0       0.91      0.83      0.87       660\n",
            "           1       0.82      0.90      0.86       540\n",
            "\n",
            "    accuracy                           0.86      1200\n",
            "   macro avg       0.86      0.87      0.86      1200\n",
            "weighted avg       0.87      0.86      0.86      1200\n",
            "\n"
          ],
          "name": "stdout"
        }
      ]
    },
    {
      "cell_type": "code",
      "metadata": {
        "id": "7rTjqIzlV-0X",
        "colab": {
          "base_uri": "https://localhost:8080/"
        },
        "outputId": "a9e22614-e5e3-4fd9-ad14-33b7b6d65849"
      },
      "source": [
        "from sklearn import svm\n",
        "#ngrams 4\n",
        "support_vector_model = svm.SVC()\n",
        "support_vector_model.fit(train_X_2.toarray(), train_Y)\n",
        "Y_pred_svm=support_vector_model.predict(test_X_2.toarray())\n",
        "print(classification_report(Y_pred_svm,test_Y))"
      ],
      "execution_count": null,
      "outputs": [
        {
          "output_type": "stream",
          "text": [
            "              precision    recall  f1-score   support\n",
            "\n",
            "           0       1.00      0.51      0.67      1200\n",
            "           1       0.00      0.00      0.00         0\n",
            "\n",
            "    accuracy                           0.51      1200\n",
            "   macro avg       0.50      0.25      0.34      1200\n",
            "weighted avg       1.00      0.51      0.67      1200\n",
            "\n"
          ],
          "name": "stdout"
        },
        {
          "output_type": "stream",
          "text": [
            "/usr/local/lib/python3.7/dist-packages/sklearn/metrics/_classification.py:1272: UndefinedMetricWarning: Recall and F-score are ill-defined and being set to 0.0 in labels with no true samples. Use `zero_division` parameter to control this behavior.\n",
            "  _warn_prf(average, modifier, msg_start, len(result))\n"
          ],
          "name": "stderr"
        }
      ]
    },
    {
      "cell_type": "code",
      "metadata": {
        "colab": {
          "base_uri": "https://localhost:8080/"
        },
        "id": "nmE5zpMWWB8_",
        "outputId": "0c2d655b-79f1-4e97-bb93-a777d1fd214d"
      },
      "source": [
        "from sklearn import svm\n",
        "#ngrams 3\n",
        "support_vector_model = svm.SVC()\n",
        "support_vector_model.fit(train_X_3.toarray(), train_Y)\n",
        "Y_pred_svm=support_vector_model.predict(test_X_3.toarray())\n",
        "print(classification_report(Y_pred_svm,test_Y))"
      ],
      "execution_count": null,
      "outputs": [
        {
          "output_type": "stream",
          "text": [
            "              precision    recall  f1-score   support\n",
            "\n",
            "           0       1.00      0.51      0.67      1200\n",
            "           1       0.00      0.00      0.00         0\n",
            "\n",
            "    accuracy                           0.51      1200\n",
            "   macro avg       0.50      0.25      0.34      1200\n",
            "weighted avg       1.00      0.51      0.67      1200\n",
            "\n"
          ],
          "name": "stdout"
        },
        {
          "output_type": "stream",
          "text": [
            "/usr/local/lib/python3.7/dist-packages/sklearn/metrics/_classification.py:1272: UndefinedMetricWarning: Recall and F-score are ill-defined and being set to 0.0 in labels with no true samples. Use `zero_division` parameter to control this behavior.\n",
            "  _warn_prf(average, modifier, msg_start, len(result))\n"
          ],
          "name": "stderr"
        }
      ]
    },
    {
      "cell_type": "markdown",
      "metadata": {
        "id": "eRya66srXAZE"
      },
      "source": [
        "##Дерево решений"
      ]
    },
    {
      "cell_type": "code",
      "metadata": {
        "colab": {
          "base_uri": "https://localhost:8080/"
        },
        "id": "eDihtfSV7Ycv",
        "outputId": "64019082-d283-4de7-bd1f-3d3396cfd20a"
      },
      "source": [
        "from sklearn import tree\n",
        "model_decision_tree = tree.DecisionTreeClassifier()\n",
        "model_decision_tree.fit(t_train_X.toarray(), train_Y)\n",
        "Y_pred_DT=model_decision_tree.predict(t_test_X.toarray())\n",
        "print(classification_report(Y_pred_DT,test_Y))"
      ],
      "execution_count": null,
      "outputs": [
        {
          "output_type": "stream",
          "text": [
            "              precision    recall  f1-score   support\n",
            "\n",
            "           0       0.84      0.74      0.79       689\n",
            "           1       0.70      0.81      0.75       511\n",
            "\n",
            "    accuracy                           0.77      1200\n",
            "   macro avg       0.77      0.78      0.77      1200\n",
            "weighted avg       0.78      0.77      0.77      1200\n",
            "\n"
          ],
          "name": "stdout"
        }
      ]
    },
    {
      "cell_type": "code",
      "metadata": {
        "colab": {
          "base_uri": "https://localhost:8080/"
        },
        "id": "IVYued8aWKLR",
        "outputId": "3df0332b-59ce-47a8-f0a0-1de5c75128c3"
      },
      "source": [
        "#cv words\n",
        "model_decision_tree = tree.DecisionTreeClassifier()\n",
        "model_decision_tree.fit(train_X_w.toarray(), train_Y)\n",
        "Y_pred_DT=model_decision_tree.predict(test_X_w.toarray())\n",
        "print(classification_report(Y_pred_DT,test_Y))"
      ],
      "execution_count": null,
      "outputs": [
        {
          "output_type": "stream",
          "text": [
            "              precision    recall  f1-score   support\n",
            "\n",
            "           0       0.81      0.82      0.81       600\n",
            "           1       0.82      0.81      0.81       600\n",
            "\n",
            "    accuracy                           0.81      1200\n",
            "   macro avg       0.81      0.81      0.81      1200\n",
            "weighted avg       0.81      0.81      0.81      1200\n",
            "\n"
          ],
          "name": "stdout"
        }
      ]
    },
    {
      "cell_type": "code",
      "metadata": {
        "colab": {
          "base_uri": "https://localhost:8080/"
        },
        "id": "9RWwkp6JWN0n",
        "outputId": "88a1e456-8ecd-4cb4-d9a9-9b924d87b0b9"
      },
      "source": [
        "#ngram 4\n",
        "model_decision_tree = tree.DecisionTreeClassifier()\n",
        "model_decision_tree.fit(train_X_2.toarray(), train_Y)\n",
        "Y_pred_DT=model_decision_tree.predict(test_X_2.toarray())\n",
        "print(classification_report(Y_pred_DT,test_Y))"
      ],
      "execution_count": null,
      "outputs": [
        {
          "output_type": "stream",
          "text": [
            "              precision    recall  f1-score   support\n",
            "\n",
            "           0       0.98      0.59      0.73      1015\n",
            "           1       0.29      0.94      0.44       185\n",
            "\n",
            "    accuracy                           0.64      1200\n",
            "   macro avg       0.64      0.76      0.59      1200\n",
            "weighted avg       0.87      0.64      0.69      1200\n",
            "\n"
          ],
          "name": "stdout"
        }
      ]
    },
    {
      "cell_type": "code",
      "metadata": {
        "colab": {
          "base_uri": "https://localhost:8080/"
        },
        "id": "uDRlNCV0WUR6",
        "outputId": "e1ea1fa5-eb28-4f91-976e-f97d14c0fa12"
      },
      "source": [
        "#ngrams 3\n",
        "model_decision_tree = tree.DecisionTreeClassifier()\n",
        "model_decision_tree.fit(train_X_3.toarray(), train_Y)\n",
        "Y_pred_DT=model_decision_tree.predict(test_X_3.toarray())\n",
        "print(classification_report(Y_pred_DT,test_Y))"
      ],
      "execution_count": null,
      "outputs": [
        {
          "output_type": "stream",
          "text": [
            "              precision    recall  f1-score   support\n",
            "\n",
            "           0       0.95      0.73      0.83       789\n",
            "           1       0.64      0.93      0.76       411\n",
            "\n",
            "    accuracy                           0.80      1200\n",
            "   macro avg       0.80      0.83      0.80      1200\n",
            "weighted avg       0.85      0.80      0.81      1200\n",
            "\n"
          ],
          "name": "stdout"
        }
      ]
    },
    {
      "cell_type": "markdown",
      "metadata": {
        "id": "F7YgOWgPXERK"
      },
      "source": [
        "## Ближайшие соседи"
      ]
    },
    {
      "cell_type": "code",
      "metadata": {
        "colab": {
          "base_uri": "https://localhost:8080/"
        },
        "id": "DtslVyMz7Ycv",
        "outputId": "803ca8c3-cdf6-4489-8f23-5f8822f32e0b"
      },
      "source": [
        "from sklearn.neighbors import KNeighborsClassifier\n",
        "from sklearn.metrics import accuracy_score\n",
        "from sklearn.metrics import roc_auc_score, f1_score, accuracy_score\n",
        "import matplotlib.pyplot as plt\n",
        "import numpy as np\n",
        "\n",
        "\n",
        "train_f1=[]\n",
        "test_f1=[]\n",
        "Pos_c=[3,5,9,15,21,25,31,33,51,61,71,101,141,171,201]\n",
        "\n",
        "for c in Pos_c:\n",
        "      model_KNN=KNeighborsClassifier(n_neighbors=c, algorithm='kd_tree')\n",
        "      model_KNN.fit(t_train_X.toarray(), train_Y)\n",
        "      Y_pred_KNN=model_KNN.predict(t_train_X.toarray())\n",
        "      train_f1.append(accuracy_score(Y_pred_KNN,train_Y))\n",
        "      Y_pred_KNN=model_KNN.predict(t_test_X.toarray())\n",
        "      test_f1.append(f1_score(Y_pred_KNN,test_Y))\n",
        "      print(\"done\",c)\n",
        "      print(f1_score(Y_pred_KNN,test_Y))\n",
        "   \n",
        "plt.plot(Pos_c,test_f1,color='red')\n",
        "plt.plot(Pos_c,train_f1,color='green')\n",
        "plt.show()"
      ],
      "execution_count": null,
      "outputs": [
        {
          "output_type": "stream",
          "text": [
            "done 3\n",
            "0.6087649402390437\n",
            "done 5\n",
            "0.6751389992057188\n",
            "done 9\n",
            "0.7300850734725446\n",
            "done 15\n",
            "0.7751343054489639\n",
            "done 21\n",
            "0.79023646071701\n",
            "done 25\n",
            "0.8024502297090352\n",
            "done 31\n",
            "0.8137931034482758\n",
            "done 33\n",
            "0.8140243902439024\n",
            "done 51\n",
            "0.8268497330282227\n",
            "done 61\n",
            "0.8279569892473118\n",
            "done 71\n",
            "0.8260536398467433\n"
          ],
          "name": "stdout"
        }
      ]
    },
    {
      "cell_type": "code",
      "metadata": {
        "colab": {
          "base_uri": "https://localhost:8080/"
        },
        "id": "sZFjBscZSxjf",
        "outputId": "8c12ffba-aeed-4eda-c936-413b743f9989"
      },
      "source": [
        "from sklearn.neighbors import KNeighborsClassifier\n",
        "from sklearn.metrics import accuracy_score\n",
        "from sklearn.metrics import roc_auc_score, f1_score, accuracy_score\n",
        "import matplotlib.pyplot as plt\n",
        "import numpy as np\n",
        "\n",
        "model_KNN=KNeighborsClassifier(n_neighbors=25, algorithm='kd_tree')\n",
        "model_KNN.fit(t_train_X.toarray(), train_Y)\n",
        "Y_pred_KNN=model_KNN.predict(t_test_X.toarray())\n",
        "print(classification_report(Y_pred_KNN,test_Y))"
      ],
      "execution_count": null,
      "outputs": [
        {
          "output_type": "stream",
          "text": [
            "              precision    recall  f1-score   support\n",
            "\n",
            "           0       0.71      0.87      0.78       510\n",
            "           1       0.88      0.74      0.81       690\n",
            "\n",
            "    accuracy                           0.79      1200\n",
            "   macro avg       0.80      0.80      0.79      1200\n",
            "weighted avg       0.81      0.79      0.80      1200\n",
            "\n"
          ],
          "name": "stdout"
        }
      ]
    },
    {
      "cell_type": "code",
      "metadata": {
        "colab": {
          "base_uri": "https://localhost:8080/"
        },
        "id": "uWy8-iW8WzGN",
        "outputId": "85f462d2-48ff-4684-df4d-f7ddc77c60b4"
      },
      "source": [
        "#cv words\n",
        "model_KNN=KNeighborsClassifier(n_neighbors=25, algorithm='kd_tree')\n",
        "model_KNN.fit(train_X_w.toarray(), train_Y)\n",
        "Y_pred_KNN=model_KNN.predict(test_X_w.toarray())\n",
        "print(classification_report(Y_pred_KNN,test_Y))"
      ],
      "execution_count": null,
      "outputs": [
        {
          "output_type": "stream",
          "text": [
            "              precision    recall  f1-score   support\n",
            "\n",
            "           0       1.00      0.52      0.68      1200\n",
            "           1       0.00      0.00      0.00         0\n",
            "\n",
            "    accuracy                           0.52      1200\n",
            "   macro avg       0.50      0.26      0.34      1200\n",
            "weighted avg       1.00      0.52      0.68      1200\n",
            "\n"
          ],
          "name": "stdout"
        },
        {
          "output_type": "stream",
          "text": [
            "/usr/local/lib/python3.7/dist-packages/sklearn/metrics/_classification.py:1272: UndefinedMetricWarning: Recall and F-score are ill-defined and being set to 0.0 in labels with no true samples. Use `zero_division` parameter to control this behavior.\n",
            "  _warn_prf(average, modifier, msg_start, len(result))\n"
          ],
          "name": "stderr"
        }
      ]
    },
    {
      "cell_type": "code",
      "metadata": {
        "colab": {
          "base_uri": "https://localhost:8080/"
        },
        "id": "tDFNdu43W3cS",
        "outputId": "e2d32aef-e468-4649-bd7f-5b88eb9193e2"
      },
      "source": [
        "#ngram 4\n",
        "model_KNN=KNeighborsClassifier(n_neighbors=25, algorithm='kd_tree')\n",
        "model_KNN.fit(train_X_2.toarray(), train_Y)\n",
        "Y_pred_KNN=model_KNN.predict(test_X_2.toarray())\n",
        "print(classification_report(Y_pred_KNN,test_Y))"
      ],
      "execution_count": null,
      "outputs": [
        {
          "output_type": "stream",
          "text": [
            "              precision    recall  f1-score   support\n",
            "\n",
            "           0       1.00      0.52      0.68      1200\n",
            "           1       0.00      0.00      0.00         0\n",
            "\n",
            "    accuracy                           0.52      1200\n",
            "   macro avg       0.50      0.26      0.34      1200\n",
            "weighted avg       1.00      0.52      0.68      1200\n",
            "\n"
          ],
          "name": "stdout"
        },
        {
          "output_type": "stream",
          "text": [
            "/usr/local/lib/python3.7/dist-packages/sklearn/metrics/_classification.py:1272: UndefinedMetricWarning: Recall and F-score are ill-defined and being set to 0.0 in labels with no true samples. Use `zero_division` parameter to control this behavior.\n",
            "  _warn_prf(average, modifier, msg_start, len(result))\n"
          ],
          "name": "stderr"
        }
      ]
    },
    {
      "cell_type": "code",
      "metadata": {
        "colab": {
          "base_uri": "https://localhost:8080/"
        },
        "id": "olIRKjwEW71X",
        "outputId": "29122113-95c2-42ee-813a-e3e82b01cff1"
      },
      "source": [
        "from sklearn.neighbors import KNeighborsClassifier\n",
        "from sklearn.metrics import accuracy_score\n",
        "from sklearn.metrics import roc_auc_score, f1_score, accuracy_score\n",
        "import matplotlib.pyplot as plt\n",
        "import numpy as np\n",
        "\n",
        "#ngram 3\n",
        "model_KNN=KNeighborsClassifier(n_neighbors=25, algorithm='kd_tree')\n",
        "model_KNN.fit(train_X_3.toarray(), train_Y)\n",
        "Y_pred_KNN=model_KNN.predict(test_X_3.toarray())\n",
        "print(classification_report(Y_pred_KNN,test_Y))"
      ],
      "execution_count": null,
      "outputs": [
        {
          "output_type": "stream",
          "text": [
            "              precision    recall  f1-score   support\n",
            "\n",
            "           0       1.00      0.52      0.68      1200\n",
            "           1       0.00      0.00      0.00         0\n",
            "\n",
            "    accuracy                           0.52      1200\n",
            "   macro avg       0.50      0.26      0.34      1200\n",
            "weighted avg       1.00      0.52      0.68      1200\n",
            "\n"
          ],
          "name": "stdout"
        },
        {
          "output_type": "stream",
          "text": [
            "/usr/local/lib/python3.7/dist-packages/sklearn/metrics/_classification.py:1272: UndefinedMetricWarning: Recall and F-score are ill-defined and being set to 0.0 in labels with no true samples. Use `zero_division` parameter to control this behavior.\n",
            "  _warn_prf(average, modifier, msg_start, len(result))\n"
          ],
          "name": "stderr"
        }
      ]
    },
    {
      "cell_type": "markdown",
      "metadata": {
        "id": "mp6aSWry00eG"
      },
      "source": [
        "## Классификатор на основе языковой модели"
      ]
    },
    {
      "cell_type": "code",
      "metadata": {
        "id": "FNndV3fJWKPv"
      },
      "source": [
        "from simpletransformers.classification import ClassificationModel"
      ],
      "execution_count": null,
      "outputs": []
    },
    {
      "cell_type": "code",
      "metadata": {
        "id": "hedF7jkM_f7y"
      },
      "source": [
        "from sklearn.metrics import accuracy_score, precision_score, recall_score, f1_score\n",
        "from sklearn.model_selection import train_test_split"
      ],
      "execution_count": null,
      "outputs": []
    },
    {
      "cell_type": "code",
      "metadata": {
        "id": "r_YXT_Df8Iht"
      },
      "source": [
        "from sklearn.model_selection import train_test_split\n",
        "train_X,test_X,train_Y,test_Y = train_test_split(data,labels,test_size=0.3,random_state=42)"
      ],
      "execution_count": null,
      "outputs": []
    },
    {
      "cell_type": "code",
      "metadata": {
        "id": "Jlq98Y8g8uLt"
      },
      "source": [
        "!pip install transformers\n",
        "from transformers import RobertaConfig, RobertaModel, RobertaTokenizer, RobertaForSequenceClassification\n"
      ],
      "execution_count": null,
      "outputs": []
    },
    {
      "cell_type": "code",
      "metadata": {
        "id": "e3Gf4BgqTXI9"
      },
      "source": [
        "!pip install simpletransformers\n"
      ],
      "execution_count": null,
      "outputs": []
    },
    {
      "cell_type": "code",
      "metadata": {
        "id": "Yrf3cBi2JZvp"
      },
      "source": [
        "from sklearn.metrics import accuracy_score, precision_score, recall_score, f1_score\n",
        "\n",
        "def f1_macro(y_true, y_pred):\n",
        "    return f1_score(y_true, y_pred, average='macro')\n",
        "\n",
        "model_args = {\n",
        "    'fp16': True,\n",
        "    'train_batch_size': 16,\n",
        "    'eval_batch_size': 16,\n",
        "    'num_train_epochs': 4,\n",
        "    'learning_rate': 4e-5,\n",
        "    'process_count': 10,\n",
        "\n",
        "    \"do_lower_case\": True,\n",
        "    'overwrite_output_dir': True,\n",
        "    'reprocess_input_data': True,\n",
        "    'evaluate_during_training': True\n",
        "}\n",
        "\n",
        "model = ClassificationModel(\n",
        "    \"roberta\", \"blinoff/roberta-base-russian-v0\",num_labels=None, weight=None, args=model_args, use_cuda=True\n",
        ")\n",
        "\n"
      ],
      "execution_count": null,
      "outputs": []
    },
    {
      "cell_type": "code",
      "metadata": {
        "colab": {
          "base_uri": "https://localhost:8080/",
          "height": 337,
          "referenced_widgets": [
            "8d7fbbdc1c2c4eb49fbef26be2859363",
            "a1d63bdd9e8140b3a0b8c81128751261",
            "cbdaaebe3e6349ad90189b909bc2deed",
            "010366f8477d4659a784afbd4bb8a96b",
            "e19ddf28390f43279844591a4a2c2b08",
            "e85a4231a7c94fe79772eec17b23c69c",
            "985211d2d91b48779e9354d2a33cdd34",
            "ab59fa2ae18d4b0a92ee1956650812d0",
            "a36c9a8c849543afbac65a0caaf0f7c1",
            "0e40e7ede3ea4f7684ade1ca05db1658",
            "365be775894c44f7b3f90f1411f1fa6d",
            "2fd5ba85f869422bbd6dc94fdbda342d",
            "d177bb4a5d834af29d37a45b40a36d5c",
            "6197e9ea909e4bebb80e268a24244bb2",
            "9295fd274c3641a683ebfea201e8c6ea",
            "efd69668e979483c8bdda600d5718fef",
            "a8fa567a8edf412d9df4761daba03476",
            "7cc7177edfae47a9b29a99461ab019f6",
            "c7de59fb2b2c4bb39a789308bc0e6148",
            "4f4e9551ece34e3182ecf0317ca48b79",
            "209ce8c8c84044d7aecfb05ffc2476ce",
            "52d6a597053044f98fc7d8ec8695e799",
            "cd7dac20404f4ab984469c0e64750202",
            "212631f5300142b9884421f4a9f20078",
            "ba7ee2f2299e41da824bff1be7de5a93",
            "74a4afb1309141fa88764c15a3dacc64",
            "411646b900c7492d9fbe052955b02682",
            "c24650bee52e4babb70bb2de221ddcaf",
            "cf28768d60334cf891bb36454c34c0f9",
            "f3b8a8c076d941b9ab82641fe0cd3666",
            "25b03c9f97054c3bab05033ed24843ea",
            "c3e4120686254e88bac6c703f2430f59",
            "6808481bc8d94a7ca0ac89f54a9eb5e7",
            "ff10da20d3344e859a6dad63de1219cb",
            "ce2b9632119e4b68b5b5bc4b11bf1674",
            "a701255f14f14c0ba45459cbb669b6ff",
            "2152683b39a54a9599d6b9ffdd8aa309",
            "b0166e9dcf044f6faf8d0e7ac84b03c7",
            "97b4d312f3da4f7fa359c61ff142272d",
            "1a6e21587b644b2fb55270f28acdec0f",
            "50a05156ec9643399c6b15422ccfb2c1",
            "dcd482e2737a44848015bd48f644ef2d",
            "d45e7d1bfc2740f3a27988ee54f2a209",
            "968a68c9fe8945758e26e72430748e27",
            "1d00d9b7ad294d2b80ed626a2c4c933d",
            "03f0bd6c60814d1d9c4c7d66fafc60f6",
            "814a4163113c4c8c87d5e82baf18e9e7",
            "3b34ae08962743cca5cc9e312f6c424e",
            "b46d374618b84d629753f0c9bba15915",
            "afbee31643a24dd9aa058f430a140bac",
            "6c86ddcbc9964baf960e65b7179628ff",
            "67039691dde7467b98e0457e0c252905",
            "d604684aecd744b7bbb8761140e74bc5",
            "eb6e7a66c8e44a23be09ff3ad8ab95fc",
            "bf0e9dcca07147e38ae7c4b566d9add9",
            "fa1fe4341bfa4f5ca4bd08cfafa057d9",
            "e041a9acff0b4c5d883deaa6e9f6c757",
            "fec57e44b33b47918a09b3681becb143",
            "1c7559a24a6144349d13537cad908e28",
            "2f60ad54a504487da1782c63c0fa5e4b",
            "dcd1856e9d234a8aa985eeaaa2070adf",
            "a99f40b287e4457baf6aefafb9343a7f",
            "ec40103d1a434c3e8396a4307a8c8e64",
            "b7c4eed8b6d946ada94af7a7393e4e2f",
            "8405775511fa45219dd0202c9e92689a",
            "8631735a173b45ea8aac6917f7f9ddd1",
            "3aac2123cd87463faa7db0763e0ffb18",
            "6632fbaae3954b3c8e5ad90057f2e2d8",
            "0a5c4764c97f4c21a49e608c75b9cfe7",
            "382b1593d54a4d0ca74ae69040a5bd4f",
            "805978f790954ca984bc92c6dc5514de",
            "d9873d26a1e243afbed9ea2f5c859dfd",
            "e09a479bae614eb7bf4d99003c2e9b10",
            "723d22e2b3aa44558411ac1966a40386",
            "4b382b35a7cf488588f336c02bcf1b72",
            "36fc948fd86b433eac8550ec71e99312",
            "8bab6b8a285149e9b06f497b21689412",
            "7eceffb99b394e85b79a8f3a6df61352",
            "88c89636a3d444d89e2f68d922817170",
            "7d4b873795c6418a8312821aaa234dfd",
            "bd9f53f77b4845fba2db47892a86d962",
            "ece6da485702441bb1e86abc3648ff06",
            "167342fe061e4fb7974b1b2fe9310c98",
            "7b99256f5f994767b937e403da448026",
            "223624dec0f8475b9fed6604759a1d56",
            "5f11c2f294df4b9abb9ac77b52e48177",
            "921aa1373d1146fea1a9594dbe060f23",
            "db35456a5d0449b397576d5461218ab2",
            "4e816df1206a4a69924c2b159abf4029",
            "095aeb7ed3494bdda000f78df2b172c3",
            "296cfce73a4c4ff59e3d09a2d796d291",
            "d59cc0b0081e44ebafe746b3f5eeec4e",
            "1ab5380528da43baacf01a71d2f96b84",
            "6157cfa4ce4b42b8ba272705629d07ce",
            "cd9e995ce41a4166930a551be3c8e8d5",
            "0c0f048110d347f5b3d175591254e499",
            "df843d9b419041149f88019ea5643931",
            "e8f390acb7484a04bf66466b9b9e3e43",
            "a08420fa3b144998a4a4481cba36b8df",
            "a37e8b2dbce7469fbb90f0ac49547101",
            "2ff69ecf063a46a983986b5ed1bfc38c",
            "80b425158ad6457abf775052abd5dff5",
            "b4370d6692f548099974a25544b29d6f",
            "194fb3c1efe74b5c9db8f696498cfa6a",
            "3dbc3cd7f1c54a4b8543e01caa9d9d86",
            "9559ecdc4d83473caa817d4e3bbfbcd8",
            "a2d0db52afd044f88177a6278df16f73",
            "b62cc28b00c24c7f966dbab3bcc071cb",
            "b92eb60a4d8441feba7051ed0a09f69e",
            "cf82b8e3307a43f181cf24659222d135"
          ]
        },
        "id": "ynK89Ct2JjmD",
        "outputId": "4c9b2329-c68d-4e42-ca35-b2b9a5852df1"
      },
      "source": [
        "data,labels = split_to_lists(train_data)\n",
        "train_X,test_X,train_Y,test_Y = train_test_split(data,labels,test_size=0.3,random_state=42)\n",
        "train = list(zip(train_X,train_Y))\n",
        "train_df = pd.DataFrame(train)\n",
        "train_df.columns = [\"text\",\"labels\"]\n",
        "\n",
        "test = list(zip(test_X,test_Y))\n",
        "test_df = pd.DataFrame(test)\n",
        "test_df.columns = [\"text\", \"labels\"]\n",
        "d = model.train_model(train_df,eval_df=test_df,\n",
        "                  accuracy=accuracy_score,\n",
        "                  precision=precision_score,\n",
        "                  recall=recall_score,\n",
        "                  f1=f1_score,\n",
        "                  f1_macro=f1_macro)"
      ],
      "execution_count": null,
      "outputs": [
        {
          "output_type": "display_data",
          "data": {
            "application/vnd.jupyter.widget-view+json": {
              "model_id": "8d7fbbdc1c2c4eb49fbef26be2859363",
              "version_minor": 0,
              "version_major": 2
            },
            "text/plain": [
              "  0%|          | 0/2800 [00:00<?, ?it/s]"
            ]
          },
          "metadata": {
            "tags": []
          }
        },
        {
          "output_type": "display_data",
          "data": {
            "application/vnd.jupyter.widget-view+json": {
              "model_id": "2fd5ba85f869422bbd6dc94fdbda342d",
              "version_minor": 0,
              "version_major": 2
            },
            "text/plain": [
              "Epoch:   0%|          | 0/4 [00:00<?, ?it/s]"
            ]
          },
          "metadata": {
            "tags": []
          }
        },
        {
          "output_type": "display_data",
          "data": {
            "application/vnd.jupyter.widget-view+json": {
              "model_id": "cd7dac20404f4ab984469c0e64750202",
              "version_minor": 0,
              "version_major": 2
            },
            "text/plain": [
              "Running Epoch 0 of 4:   0%|          | 0/175 [00:00<?, ?it/s]"
            ]
          },
          "metadata": {
            "tags": []
          }
        },
        {
          "output_type": "display_data",
          "data": {
            "application/vnd.jupyter.widget-view+json": {
              "model_id": "ff10da20d3344e859a6dad63de1219cb",
              "version_minor": 0,
              "version_major": 2
            },
            "text/plain": [
              "  0%|          | 0/1200 [00:00<?, ?it/s]"
            ]
          },
          "metadata": {
            "tags": []
          }
        },
        {
          "output_type": "display_data",
          "data": {
            "application/vnd.jupyter.widget-view+json": {
              "model_id": "1d00d9b7ad294d2b80ed626a2c4c933d",
              "version_minor": 0,
              "version_major": 2
            },
            "text/plain": [
              "Running Epoch 1 of 4:   0%|          | 0/175 [00:00<?, ?it/s]"
            ]
          },
          "metadata": {
            "tags": []
          }
        },
        {
          "output_type": "display_data",
          "data": {
            "application/vnd.jupyter.widget-view+json": {
              "model_id": "fa1fe4341bfa4f5ca4bd08cfafa057d9",
              "version_minor": 0,
              "version_major": 2
            },
            "text/plain": [
              "  0%|          | 0/1200 [00:00<?, ?it/s]"
            ]
          },
          "metadata": {
            "tags": []
          }
        },
        {
          "output_type": "display_data",
          "data": {
            "application/vnd.jupyter.widget-view+json": {
              "model_id": "3aac2123cd87463faa7db0763e0ffb18",
              "version_minor": 0,
              "version_major": 2
            },
            "text/plain": [
              "Running Epoch 2 of 4:   0%|          | 0/175 [00:00<?, ?it/s]"
            ]
          },
          "metadata": {
            "tags": []
          }
        },
        {
          "output_type": "display_data",
          "data": {
            "application/vnd.jupyter.widget-view+json": {
              "model_id": "7eceffb99b394e85b79a8f3a6df61352",
              "version_minor": 0,
              "version_major": 2
            },
            "text/plain": [
              "  0%|          | 0/1200 [00:00<?, ?it/s]"
            ]
          },
          "metadata": {
            "tags": []
          }
        },
        {
          "output_type": "display_data",
          "data": {
            "application/vnd.jupyter.widget-view+json": {
              "model_id": "4e816df1206a4a69924c2b159abf4029",
              "version_minor": 0,
              "version_major": 2
            },
            "text/plain": [
              "Running Epoch 3 of 4:   0%|          | 0/175 [00:00<?, ?it/s]"
            ]
          },
          "metadata": {
            "tags": []
          }
        },
        {
          "output_type": "display_data",
          "data": {
            "application/vnd.jupyter.widget-view+json": {
              "model_id": "a37e8b2dbce7469fbb90f0ac49547101",
              "version_minor": 0,
              "version_major": 2
            },
            "text/plain": [
              "  0%|          | 0/1200 [00:00<?, ?it/s]"
            ]
          },
          "metadata": {
            "tags": []
          }
        }
      ]
    },
    {
      "cell_type": "code",
      "metadata": {
        "id": "8uVRuh4gN9hn"
      },
      "source": [
        "d"
      ],
      "execution_count": null,
      "outputs": []
    },
    {
      "cell_type": "code",
      "metadata": {
        "colab": {
          "base_uri": "https://localhost:8080/"
        },
        "id": "AzHruGYrGN-s",
        "outputId": "3eb195d3-5250-448c-b6f6-b12be0877fe2"
      },
      "source": [
        "\n",
        "correct = 0\n",
        "all = 0\n",
        "index_list = list()\n",
        "for i,(text,label) in enumerate(test):\n",
        "  index = text.find('...')\n",
        "  if index != -1:\n",
        "    all += 1\n",
        "    index_list.append(i)\n",
        "    if label == 0:\n",
        "      correct += 1\n",
        "    else:\n",
        "      print(text)\n",
        "\n",
        "print(correct/all)\n",
        "print('{} out of {}'.format(correct,all))"
      ],
      "execution_count": null,
      "outputs": [
        {
          "output_type": "stream",
          "text": [
            "Донецкая народная республика отправляет на Украину бесплатно 300 тонн угля. Состав из пяти вагонов прибудет в Харьковскую область, передает агентство «Новороссия». Как уточнил представитель ДНР Эдуард Басурин, изначально была договоренность, что Киев оплатит этот уголь. «Это жест доброй воли от нашего руководителя Захарченко Александра Владимировича. (...) Граждане не должны страдать\n",
            "На Центральной площади города Токмак Запорожской области Украины демонтирован памятник писателю Тарасу Шевченко. Об этом в субботу, 6 февраля, сообщается на сайте телеканала Hromadske.tv. По словам депутата городского совета Вадима Лукаша, соответствующее решение принял мэр. «Нам сказали (...), решение принято аппаратом. По факту — единолично городским головой Игорем Котелевским», — отметил депутат. На этой же площади находится памятник Ленину, решение о сносе которого должно рассматриваться в феврале.\n",
            "В американском издании The New York Times обвинили Киев в «объявлении войны журналистике». Так озаглавлена статья корреспондента Яна Бейтсона, посвященная публикации личных данных репортеров украинским сайтом «Миротворец». Бейтсон сообщил, что также получал аккредитацию в самопровозглашенной Донецкой народной республике (ДНР). «Теперь Украина заклеймила меня как соучастника террористов (...). Мы все были заклеймены пособниками террористов за аккредитацию\n",
            "Новым постоянным представителем России при ООН станет заместитель министра иностранных дел Василий Небензя. Об этом газете «Известия» сообщил источник в российском внешнеполитическом ведомстве. «Вопрос с постпредом решен (...) Все документы уже отправлены в Организацию Объединенных Наций», — приводит издание слова собеседника. 17 марта «Коммерсантъ» со ссылкой на четыре источника в российских государственных структурах сообщил, что Василия Небензю\n",
            "Пресс-секретарь генерального прокурора Украины Лариса Сарган заявила, что уголовное дело против министра внутренних дел Арсена Авакова будет прекращено. Об этом в среду, 14 сентября, сообщает телеканал «112 Украина». «Поскольку факты, которые были в этом заявлении, не нашли своего подтверждения, поскольку это будет выглядеть как клевета или политическая игра (...), оно (дело —\n",
            "0.972972972972973\n",
            "180 out of 185\n"
          ],
          "name": "stdout"
        }
      ]
    },
    {
      "cell_type": "code",
      "metadata": {
        "colab": {
          "base_uri": "https://localhost:8080/"
        },
        "id": "yiRXTHCxHS6f",
        "outputId": "a2366de4-f01a-433a-d968-1a5a2aee1f58"
      },
      "source": [
        "\n",
        "shab_test_data = list()\n",
        "for i,data in enumerate(test):\n",
        "  if i not in index_list:\n",
        "    shab_test_data.append(data)\n",
        "print(len(shab_test_data))\n",
        "test_df = pd.DataFrame(shab_test_data)\n",
        "test_df.columns = [\"text\", \"labels\"]"
      ],
      "execution_count": null,
      "outputs": [
        {
          "output_type": "stream",
          "text": [
            "1015\n"
          ],
          "name": "stdout"
        }
      ]
    },
    {
      "cell_type": "code",
      "metadata": {
        "id": "slZSUDkzIZml"
      },
      "source": [
        "test = list(zip(test_X,test_Y))\n",
        "test_df = pd.DataFrame(test)\n",
        "test_df.columns = [\"text\", \"labels\"]"
      ],
      "execution_count": null,
      "outputs": []
    },
    {
      "cell_type": "code",
      "metadata": {
        "colab": {
          "base_uri": "https://localhost:8080/",
          "height": 81,
          "referenced_widgets": [
            "b85b707d22ff4199bd4d5557eb66521b",
            "b9cdc0f509bf4f0aac20b4b493d4815d",
            "c52602b9d1654a7c827928d540edb411",
            "23482885954444dc843500598b0460ca",
            "a1bdd93837cf4953bc0f308f989769dd",
            "05916b4ba86149e8b235e78e4b1a291f",
            "1e304b47ee564b45b4c267ed225b38a1",
            "0e43d4df6c1c4a93b199114a6a6554d3",
            "36df1a917f6a4e01af3f3967204c740c",
            "3c58dfedb4dd4d4f808173471ef63036",
            "5a931be92baf4228afeb3c391534fe14",
            "e6a51bf03c97482ea8f6a1ff48b5ebc7",
            "28c062849cb745fca8ddcede1832f883",
            "43a92c3253b24ccf8bc8592fab3c7044",
            "29752465db154d8c846eaef102e8a24b",
            "120bd0895b364efc8438a50dc805953e",
            "cedbb036bd1b45768892160c197c728e",
            "43df9e06058c456a89cdcb40d8aee648",
            "1215b3a194524a7597ff7c25c327db5b",
            "c48ca2e072904da99d0d37d92fe500a6",
            "9d8a8ba775a24bd0bb4de8b4e8555125",
            "cede5d9334684e0c8c9c8ae222836980"
          ]
        },
        "id": "hggOHeg0JiLL",
        "outputId": "c8b9e5ee-487e-4771-b889-67c867f2732d"
      },
      "source": [
        "\n",
        "\n",
        "result, model_outputs, wrong_predictions = model.eval_model(test_df,\n",
        "                                                            accuracy=accuracy_score,\n",
        "                                                            precision=precision_score,\n",
        "                                                            recall=recall_score,\n",
        "                                                            f1=f1_score,\n",
        "                                                            f1_macro=f1_macro)"
      ],
      "execution_count": null,
      "outputs": [
        {
          "output_type": "display_data",
          "data": {
            "application/vnd.jupyter.widget-view+json": {
              "model_id": "b85b707d22ff4199bd4d5557eb66521b",
              "version_minor": 0,
              "version_major": 2
            },
            "text/plain": [
              "  0%|          | 0/1200 [00:00<?, ?it/s]"
            ]
          },
          "metadata": {
            "tags": []
          }
        },
        {
          "output_type": "display_data",
          "data": {
            "application/vnd.jupyter.widget-view+json": {
              "model_id": "e6a51bf03c97482ea8f6a1ff48b5ebc7",
              "version_minor": 0,
              "version_major": 2
            },
            "text/plain": [
              "Running Evaluation:   0%|          | 0/75 [00:00<?, ?it/s]"
            ]
          },
          "metadata": {
            "tags": []
          }
        }
      ]
    },
    {
      "cell_type": "code",
      "metadata": {
        "colab": {
          "base_uri": "https://localhost:8080/"
        },
        "id": "_rL0Xh5xJlYs",
        "outputId": "e8e6bac5-79cd-4d79-d63d-72c8c31f3055"
      },
      "source": [
        "print(result['accuracy'])"
      ],
      "execution_count": null,
      "outputs": [
        {
          "output_type": "stream",
          "text": [
            "0.9516666666666667\n"
          ],
          "name": "stdout"
        }
      ]
    },
    {
      "cell_type": "code",
      "metadata": {
        "colab": {
          "base_uri": "https://localhost:8080/"
        },
        "id": "0VN7XKg11fwi",
        "outputId": "fa6de401-33cb-43c0-dd8f-ce8fcf195f35"
      },
      "source": [
        "print(result)"
      ],
      "execution_count": null,
      "outputs": [
        {
          "output_type": "stream",
          "text": [
            "{'mcc': 0.9040854484205638, 'tp': 577, 'tn': 565, 'fp': 41, 'fn': 17, 'auroc': 0.9908018579635742, 'auprc': 0.989906081352151, 'accuracy': 0.9516666666666667, 'precision': 0.9336569579288025, 'recall': 0.9713804713804713, 'f1': 0.9521452145214521, 'f1_macro': 0.9516618328499516, 'eval_loss': 0.2749554046726553}\n"
          ],
          "name": "stdout"
        }
      ]
    }
  ]
}